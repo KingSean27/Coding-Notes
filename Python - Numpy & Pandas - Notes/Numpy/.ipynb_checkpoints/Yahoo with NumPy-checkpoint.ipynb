{
 "cells": [
  {
   "cell_type": "code",
   "execution_count": 1,
   "metadata": {},
   "outputs": [],
   "source": [
    "import yfinance as yf\n",
    "import numpy as np \n",
    "import pandas as pd\n",
    "import matplotlib.pyplot as pp\n",
    "\n",
    "msft = yf.Ticker(\"MSFT\")\n",
    "\n",
    "#print (msft.dividends)\n",
    "\n"
   ]
  },
  {
   "cell_type": "code",
   "execution_count": 2,
   "metadata": {},
   "outputs": [
    {
     "name": "stdout",
     "output_type": "stream",
     "text": [
      "[*********************100%***********************]  1 of 1 downloaded\n"
     ]
    }
   ],
   "source": [
    "msft_data = yf.download(\"MSFT\", start=\"2017-01-01\", end=\"2017-04-30\")\n",
    "\n",
    "#msft_data"
   ]
  },
  {
   "cell_type": "code",
   "execution_count": 3,
   "metadata": {},
   "outputs": [
    {
     "name": "stdout",
     "output_type": "stream",
     "text": [
      "[*********************100%***********************]  1 of 1 downloaded\n"
     ]
    }
   ],
   "source": [
    "msft_data = yf.download(\"MSFT\", period = \"ytd\")\n",
    "\n",
    "#msft_data"
   ]
  },
  {
   "cell_type": "code",
   "execution_count": 4,
   "metadata": {},
   "outputs": [
    {
     "name": "stdout",
     "output_type": "stream",
     "text": [
      "[*********************100%***********************]  1 of 1 downloaded\n"
     ]
    }
   ],
   "source": [
    "aapl_data = yf.download(\"AAPL\", period = \"ytd\")\n"
   ]
  },
  {
   "cell_type": "code",
   "execution_count": 5,
   "metadata": {},
   "outputs": [
    {
     "data": {
      "text/plain": [
       "Date\n",
       "2019-01-02    157.92\n",
       "2019-01-03    142.19\n",
       "2019-01-04    148.26\n",
       "2019-01-07    147.93\n",
       "2019-01-08    150.75\n",
       "2019-01-09    153.31\n",
       "2019-01-10    153.80\n",
       "2019-01-11    152.29\n",
       "2019-01-14    150.00\n",
       "2019-01-15    153.07\n",
       "2019-01-16    154.94\n",
       "2019-01-17    155.86\n",
       "2019-01-18    156.82\n",
       "2019-01-22    153.30\n",
       "2019-01-23    153.92\n",
       "2019-01-24    152.70\n",
       "2019-01-25    157.76\n",
       "2019-01-28    156.30\n",
       "2019-01-29    154.68\n",
       "2019-01-30    165.25\n",
       "2019-01-31    166.44\n",
       "2019-02-01    166.52\n",
       "2019-02-04    171.25\n",
       "2019-02-05    174.18\n",
       "2019-02-06    174.24\n",
       "2019-02-07    170.94\n",
       "2019-02-08    170.41\n",
       "2019-02-11    169.43\n",
       "2019-02-12    170.89\n",
       "2019-02-13    170.18\n",
       "               ...  \n",
       "2019-09-09    214.17\n",
       "2019-09-10    216.70\n",
       "2019-09-11    223.59\n",
       "2019-09-12    223.09\n",
       "2019-09-13    218.75\n",
       "2019-09-16    219.90\n",
       "2019-09-17    220.70\n",
       "2019-09-18    222.77\n",
       "2019-09-19    220.96\n",
       "2019-09-20    217.73\n",
       "2019-09-23    218.72\n",
       "2019-09-24    217.68\n",
       "2019-09-25    221.03\n",
       "2019-09-26    219.89\n",
       "2019-09-27    218.82\n",
       "2019-09-30    223.97\n",
       "2019-10-01    224.59\n",
       "2019-10-02    218.96\n",
       "2019-10-03    220.82\n",
       "2019-10-04    227.01\n",
       "2019-10-07    227.06\n",
       "2019-10-08    224.40\n",
       "2019-10-09    227.03\n",
       "2019-10-10    230.09\n",
       "2019-10-11    236.21\n",
       "2019-10-14    235.87\n",
       "2019-10-15    235.32\n",
       "2019-10-16    234.37\n",
       "2019-10-17    235.28\n",
       "2019-10-18    235.35\n",
       "Name: Close, Length: 202, dtype: float64"
      ]
     },
     "execution_count": 5,
     "metadata": {},
     "output_type": "execute_result"
    }
   ],
   "source": [
    "aapl_data['Close']\n"
   ]
  },
  {
   "cell_type": "code",
   "execution_count": 6,
   "metadata": {},
   "outputs": [
    {
     "name": "stderr",
     "output_type": "stream",
     "text": [
      "/cath/homes2/zcbtsdl/anaconda3/lib/python3.7/site-packages/pandas/plotting/_converter.py:129: FutureWarning: Using an implicitly registered datetime converter for a matplotlib plotting method. The converter was registered by pandas on import. Future versions of pandas will require you to explicitly register matplotlib converters.\n",
      "\n",
      "To register the converters:\n",
      "\t>>> from pandas.plotting import register_matplotlib_converters\n",
      "\t>>> register_matplotlib_converters()\n",
      "  warnings.warn(msg, FutureWarning)\n"
     ]
    },
    {
     "data": {
      "text/plain": [
       "[<matplotlib.lines.Line2D at 0x7f7e4fa84828>]"
      ]
     },
     "execution_count": 6,
     "metadata": {},
     "output_type": "execute_result"
    },
    {
     "data": {
      "image/png": "[encoded data removed]",
      "text/plain": [
       "<Figure size 432x288 with 1 Axes>"
      ]
     },
     "metadata": {
      "needs_background": "light"
     },
     "output_type": "display_data"
    }
   ],
   "source": [
    "pp.plot(aapl_data['Close'])\n",
    "pp.plot(msft_data['Close'])"
   ]
  },
  {
   "cell_type": "code",
   "execution_count": 7,
   "metadata": {},
   "outputs": [
    {
     "name": "stdout",
     "output_type": "stream",
     "text": [
      "[*********************100%***********************]  4 of 4 downloaded\n"
     ]
    }
   ],
   "source": [
    "ticker_list = ['AAPL', 'SDRC.L', 'RIO.L', 'BLND.L']\n",
    "\n",
    "bulk_data = yf.download(ticker_list, period = \"ytd\")"
   ]
  },
  {
   "cell_type": "code",
   "execution_count": 8,
   "metadata": {},
   "outputs": [
    {
     "data": {
      "text/html": [
       "<div>\n",
       "<style scoped>\n",
       "    .dataframe tbody tr th:only-of-type {\n",
       "        vertical-align: middle;\n",
       "    }\n",
       "\n",
       "    .dataframe tbody tr th {\n",
       "        vertical-align: top;\n",
       "    }\n",
       "\n",
       "    .dataframe thead th {\n",
       "        text-align: right;\n",
       "    }\n",
       "</style>\n",
       "<table border=\"1\" class=\"dataframe\">\n",
       "  <thead>\n",
       "    <tr style=\"text-align: right;\">\n",
       "      <th></th>\n",
       "      <th>AAPL</th>\n",
       "      <th>BLND.L</th>\n",
       "      <th>RIO.L</th>\n",
       "      <th>SDRC.L</th>\n",
       "    </tr>\n",
       "    <tr>\n",
       "      <th>Date</th>\n",
       "      <th></th>\n",
       "      <th></th>\n",
       "      <th></th>\n",
       "      <th></th>\n",
       "    </tr>\n",
       "  </thead>\n",
       "  <tbody>\n",
       "    <tr>\n",
       "      <th>2019-01-02</th>\n",
       "      <td>157.92</td>\n",
       "      <td>529.8</td>\n",
       "      <td>3690.50</td>\n",
       "      <td>2050.0</td>\n",
       "    </tr>\n",
       "    <tr>\n",
       "      <th>2019-01-03</th>\n",
       "      <td>142.19</td>\n",
       "      <td>523.0</td>\n",
       "      <td>3643.00</td>\n",
       "      <td>2050.0</td>\n",
       "    </tr>\n",
       "    <tr>\n",
       "      <th>2019-01-04</th>\n",
       "      <td>148.26</td>\n",
       "      <td>531.0</td>\n",
       "      <td>3793.50</td>\n",
       "      <td>2095.0</td>\n",
       "    </tr>\n",
       "    <tr>\n",
       "      <th>2019-01-07</th>\n",
       "      <td>147.93</td>\n",
       "      <td>532.6</td>\n",
       "      <td>3831.00</td>\n",
       "      <td>2120.0</td>\n",
       "    </tr>\n",
       "    <tr>\n",
       "      <th>2019-01-08</th>\n",
       "      <td>150.75</td>\n",
       "      <td>546.8</td>\n",
       "      <td>3861.50</td>\n",
       "      <td>2185.0</td>\n",
       "    </tr>\n",
       "    <tr>\n",
       "      <th>2019-01-09</th>\n",
       "      <td>153.31</td>\n",
       "      <td>543.0</td>\n",
       "      <td>3905.50</td>\n",
       "      <td>2255.0</td>\n",
       "    </tr>\n",
       "    <tr>\n",
       "      <th>2019-01-10</th>\n",
       "      <td>153.80</td>\n",
       "      <td>541.2</td>\n",
       "      <td>3882.50</td>\n",
       "      <td>2205.0</td>\n",
       "    </tr>\n",
       "    <tr>\n",
       "      <th>2019-01-11</th>\n",
       "      <td>152.29</td>\n",
       "      <td>544.6</td>\n",
       "      <td>3867.50</td>\n",
       "      <td>2235.0</td>\n",
       "    </tr>\n",
       "    <tr>\n",
       "      <th>2019-01-14</th>\n",
       "      <td>150.00</td>\n",
       "      <td>549.4</td>\n",
       "      <td>3861.00</td>\n",
       "      <td>2235.0</td>\n",
       "    </tr>\n",
       "    <tr>\n",
       "      <th>2019-01-15</th>\n",
       "      <td>153.07</td>\n",
       "      <td>554.8</td>\n",
       "      <td>3902.00</td>\n",
       "      <td>2195.0</td>\n",
       "    </tr>\n",
       "    <tr>\n",
       "      <th>2019-01-16</th>\n",
       "      <td>154.94</td>\n",
       "      <td>560.6</td>\n",
       "      <td>3879.00</td>\n",
       "      <td>2100.0</td>\n",
       "    </tr>\n",
       "    <tr>\n",
       "      <th>2019-01-17</th>\n",
       "      <td>155.86</td>\n",
       "      <td>563.4</td>\n",
       "      <td>3897.00</td>\n",
       "      <td>2120.0</td>\n",
       "    </tr>\n",
       "    <tr>\n",
       "      <th>2019-01-18</th>\n",
       "      <td>156.82</td>\n",
       "      <td>571.2</td>\n",
       "      <td>3925.00</td>\n",
       "      <td>2115.0</td>\n",
       "    </tr>\n",
       "    <tr>\n",
       "      <th>2019-01-21</th>\n",
       "      <td>NaN</td>\n",
       "      <td>562.0</td>\n",
       "      <td>3931.00</td>\n",
       "      <td>2120.0</td>\n",
       "    </tr>\n",
       "    <tr>\n",
       "      <th>2019-01-22</th>\n",
       "      <td>153.30</td>\n",
       "      <td>557.0</td>\n",
       "      <td>3845.50</td>\n",
       "      <td>2055.0</td>\n",
       "    </tr>\n",
       "    <tr>\n",
       "      <th>2019-01-23</th>\n",
       "      <td>153.92</td>\n",
       "      <td>562.6</td>\n",
       "      <td>3761.50</td>\n",
       "      <td>2065.0</td>\n",
       "    </tr>\n",
       "    <tr>\n",
       "      <th>2019-01-24</th>\n",
       "      <td>152.70</td>\n",
       "      <td>568.4</td>\n",
       "      <td>3765.00</td>\n",
       "      <td>2085.0</td>\n",
       "    </tr>\n",
       "    <tr>\n",
       "      <th>2019-01-25</th>\n",
       "      <td>157.76</td>\n",
       "      <td>572.2</td>\n",
       "      <td>3878.00</td>\n",
       "      <td>2070.0</td>\n",
       "    </tr>\n",
       "    <tr>\n",
       "      <th>2019-01-28</th>\n",
       "      <td>156.30</td>\n",
       "      <td>572.0</td>\n",
       "      <td>3944.50</td>\n",
       "      <td>2055.0</td>\n",
       "    </tr>\n",
       "    <tr>\n",
       "      <th>2019-01-29</th>\n",
       "      <td>154.68</td>\n",
       "      <td>580.2</td>\n",
       "      <td>4077.50</td>\n",
       "      <td>2100.0</td>\n",
       "    </tr>\n",
       "    <tr>\n",
       "      <th>2019-01-30</th>\n",
       "      <td>165.25</td>\n",
       "      <td>586.6</td>\n",
       "      <td>4133.50</td>\n",
       "      <td>2090.0</td>\n",
       "    </tr>\n",
       "    <tr>\n",
       "      <th>2019-01-31</th>\n",
       "      <td>166.44</td>\n",
       "      <td>573.4</td>\n",
       "      <td>4187.50</td>\n",
       "      <td>2060.0</td>\n",
       "    </tr>\n",
       "    <tr>\n",
       "      <th>2019-02-01</th>\n",
       "      <td>166.52</td>\n",
       "      <td>571.0</td>\n",
       "      <td>4230.00</td>\n",
       "      <td>2100.0</td>\n",
       "    </tr>\n",
       "    <tr>\n",
       "      <th>2019-02-04</th>\n",
       "      <td>171.25</td>\n",
       "      <td>570.8</td>\n",
       "      <td>4267.00</td>\n",
       "      <td>2065.0</td>\n",
       "    </tr>\n",
       "    <tr>\n",
       "      <th>2019-02-05</th>\n",
       "      <td>174.18</td>\n",
       "      <td>570.2</td>\n",
       "      <td>4303.00</td>\n",
       "      <td>2095.0</td>\n",
       "    </tr>\n",
       "    <tr>\n",
       "      <th>2019-02-06</th>\n",
       "      <td>174.24</td>\n",
       "      <td>574.0</td>\n",
       "      <td>4298.50</td>\n",
       "      <td>2100.0</td>\n",
       "    </tr>\n",
       "    <tr>\n",
       "      <th>2019-02-07</th>\n",
       "      <td>170.94</td>\n",
       "      <td>576.0</td>\n",
       "      <td>4267.00</td>\n",
       "      <td>2100.0</td>\n",
       "    </tr>\n",
       "    <tr>\n",
       "      <th>2019-02-08</th>\n",
       "      <td>170.41</td>\n",
       "      <td>575.2</td>\n",
       "      <td>4265.00</td>\n",
       "      <td>2070.0</td>\n",
       "    </tr>\n",
       "    <tr>\n",
       "      <th>2019-02-11</th>\n",
       "      <td>169.43</td>\n",
       "      <td>583.0</td>\n",
       "      <td>4287.00</td>\n",
       "      <td>2095.0</td>\n",
       "    </tr>\n",
       "    <tr>\n",
       "      <th>2019-02-12</th>\n",
       "      <td>170.89</td>\n",
       "      <td>586.4</td>\n",
       "      <td>4294.50</td>\n",
       "      <td>2085.0</td>\n",
       "    </tr>\n",
       "    <tr>\n",
       "      <th>...</th>\n",
       "      <td>...</td>\n",
       "      <td>...</td>\n",
       "      <td>...</td>\n",
       "      <td>...</td>\n",
       "    </tr>\n",
       "    <tr>\n",
       "      <th>2019-09-09</th>\n",
       "      <td>214.17</td>\n",
       "      <td>517.4</td>\n",
       "      <td>4218.50</td>\n",
       "      <td>2255.0</td>\n",
       "    </tr>\n",
       "    <tr>\n",
       "      <th>2019-09-10</th>\n",
       "      <td>216.70</td>\n",
       "      <td>532.2</td>\n",
       "      <td>4251.00</td>\n",
       "      <td>2340.0</td>\n",
       "    </tr>\n",
       "    <tr>\n",
       "      <th>2019-09-11</th>\n",
       "      <td>223.59</td>\n",
       "      <td>553.6</td>\n",
       "      <td>4288.50</td>\n",
       "      <td>2385.0</td>\n",
       "    </tr>\n",
       "    <tr>\n",
       "      <th>2019-09-12</th>\n",
       "      <td>223.09</td>\n",
       "      <td>542.8</td>\n",
       "      <td>4332.00</td>\n",
       "      <td>2430.0</td>\n",
       "    </tr>\n",
       "    <tr>\n",
       "      <th>2019-09-13</th>\n",
       "      <td>218.75</td>\n",
       "      <td>559.6</td>\n",
       "      <td>4410.22</td>\n",
       "      <td>2515.0</td>\n",
       "    </tr>\n",
       "    <tr>\n",
       "      <th>2019-09-16</th>\n",
       "      <td>219.90</td>\n",
       "      <td>554.8</td>\n",
       "      <td>4332.50</td>\n",
       "      <td>2460.0</td>\n",
       "    </tr>\n",
       "    <tr>\n",
       "      <th>2019-09-17</th>\n",
       "      <td>220.70</td>\n",
       "      <td>562.2</td>\n",
       "      <td>4263.00</td>\n",
       "      <td>2485.0</td>\n",
       "    </tr>\n",
       "    <tr>\n",
       "      <th>2019-09-18</th>\n",
       "      <td>222.77</td>\n",
       "      <td>562.0</td>\n",
       "      <td>4263.50</td>\n",
       "      <td>2415.0</td>\n",
       "    </tr>\n",
       "    <tr>\n",
       "      <th>2019-09-19</th>\n",
       "      <td>220.96</td>\n",
       "      <td>558.4</td>\n",
       "      <td>4249.50</td>\n",
       "      <td>2440.0</td>\n",
       "    </tr>\n",
       "    <tr>\n",
       "      <th>2019-09-20</th>\n",
       "      <td>217.73</td>\n",
       "      <td>565.0</td>\n",
       "      <td>4233.00</td>\n",
       "      <td>2400.0</td>\n",
       "    </tr>\n",
       "    <tr>\n",
       "      <th>2019-09-23</th>\n",
       "      <td>218.72</td>\n",
       "      <td>564.6</td>\n",
       "      <td>4245.00</td>\n",
       "      <td>2375.0</td>\n",
       "    </tr>\n",
       "    <tr>\n",
       "      <th>2019-09-24</th>\n",
       "      <td>217.68</td>\n",
       "      <td>562.8</td>\n",
       "      <td>4138.00</td>\n",
       "      <td>2355.0</td>\n",
       "    </tr>\n",
       "    <tr>\n",
       "      <th>2019-09-25</th>\n",
       "      <td>221.03</td>\n",
       "      <td>568.4</td>\n",
       "      <td>4176.50</td>\n",
       "      <td>2360.0</td>\n",
       "    </tr>\n",
       "    <tr>\n",
       "      <th>2019-09-26</th>\n",
       "      <td>219.89</td>\n",
       "      <td>573.6</td>\n",
       "      <td>4165.50</td>\n",
       "      <td>2395.0</td>\n",
       "    </tr>\n",
       "    <tr>\n",
       "      <th>2019-09-27</th>\n",
       "      <td>218.82</td>\n",
       "      <td>581.6</td>\n",
       "      <td>4249.50</td>\n",
       "      <td>2405.0</td>\n",
       "    </tr>\n",
       "    <tr>\n",
       "      <th>2019-09-30</th>\n",
       "      <td>223.97</td>\n",
       "      <td>584.8</td>\n",
       "      <td>4209.00</td>\n",
       "      <td>2425.0</td>\n",
       "    </tr>\n",
       "    <tr>\n",
       "      <th>2019-10-01</th>\n",
       "      <td>224.59</td>\n",
       "      <td>581.4</td>\n",
       "      <td>4201.50</td>\n",
       "      <td>2445.0</td>\n",
       "    </tr>\n",
       "    <tr>\n",
       "      <th>2019-10-02</th>\n",
       "      <td>218.96</td>\n",
       "      <td>560.2</td>\n",
       "      <td>4006.00</td>\n",
       "      <td>2345.0</td>\n",
       "    </tr>\n",
       "    <tr>\n",
       "      <th>2019-10-03</th>\n",
       "      <td>220.82</td>\n",
       "      <td>554.4</td>\n",
       "      <td>3992.50</td>\n",
       "      <td>2305.0</td>\n",
       "    </tr>\n",
       "    <tr>\n",
       "      <th>2019-10-04</th>\n",
       "      <td>227.01</td>\n",
       "      <td>555.6</td>\n",
       "      <td>4035.50</td>\n",
       "      <td>2300.0</td>\n",
       "    </tr>\n",
       "    <tr>\n",
       "      <th>2019-10-07</th>\n",
       "      <td>227.06</td>\n",
       "      <td>556.6</td>\n",
       "      <td>4054.50</td>\n",
       "      <td>2255.0</td>\n",
       "    </tr>\n",
       "    <tr>\n",
       "      <th>2019-10-08</th>\n",
       "      <td>224.40</td>\n",
       "      <td>540.8</td>\n",
       "      <td>4026.50</td>\n",
       "      <td>2250.0</td>\n",
       "    </tr>\n",
       "    <tr>\n",
       "      <th>2019-10-09</th>\n",
       "      <td>227.03</td>\n",
       "      <td>541.4</td>\n",
       "      <td>4018.50</td>\n",
       "      <td>2230.0</td>\n",
       "    </tr>\n",
       "    <tr>\n",
       "      <th>2019-10-10</th>\n",
       "      <td>230.09</td>\n",
       "      <td>548.0</td>\n",
       "      <td>4104.00</td>\n",
       "      <td>2240.0</td>\n",
       "    </tr>\n",
       "    <tr>\n",
       "      <th>2019-10-11</th>\n",
       "      <td>236.21</td>\n",
       "      <td>591.0</td>\n",
       "      <td>4209.50</td>\n",
       "      <td>2300.0</td>\n",
       "    </tr>\n",
       "    <tr>\n",
       "      <th>2019-10-14</th>\n",
       "      <td>235.87</td>\n",
       "      <td>590.8</td>\n",
       "      <td>4115.00</td>\n",
       "      <td>2250.0</td>\n",
       "    </tr>\n",
       "    <tr>\n",
       "      <th>2019-10-15</th>\n",
       "      <td>235.32</td>\n",
       "      <td>623.0</td>\n",
       "      <td>4019.00</td>\n",
       "      <td>2360.0</td>\n",
       "    </tr>\n",
       "    <tr>\n",
       "      <th>2019-10-16</th>\n",
       "      <td>234.37</td>\n",
       "      <td>620.0</td>\n",
       "      <td>3952.00</td>\n",
       "      <td>2325.0</td>\n",
       "    </tr>\n",
       "    <tr>\n",
       "      <th>2019-10-17</th>\n",
       "      <td>235.28</td>\n",
       "      <td>630.2</td>\n",
       "      <td>3961.50</td>\n",
       "      <td>2330.0</td>\n",
       "    </tr>\n",
       "    <tr>\n",
       "      <th>2019-10-18</th>\n",
       "      <td>235.35</td>\n",
       "      <td>629.4</td>\n",
       "      <td>3961.50</td>\n",
       "      <td>2320.0</td>\n",
       "    </tr>\n",
       "  </tbody>\n",
       "</table>\n",
       "<p>206 rows × 4 columns</p>\n",
       "</div>"
      ],
      "text/plain": [
       "              AAPL  BLND.L    RIO.L  SDRC.L\n",
       "Date                                       \n",
       "2019-01-02  157.92   529.8  3690.50  2050.0\n",
       "2019-01-03  142.19   523.0  3643.00  2050.0\n",
       "2019-01-04  148.26   531.0  3793.50  2095.0\n",
       "2019-01-07  147.93   532.6  3831.00  2120.0\n",
       "2019-01-08  150.75   546.8  3861.50  2185.0\n",
       "2019-01-09  153.31   543.0  3905.50  2255.0\n",
       "2019-01-10  153.80   541.2  3882.50  2205.0\n",
       "2019-01-11  152.29   544.6  3867.50  2235.0\n",
       "2019-01-14  150.00   549.4  3861.00  2235.0\n",
       "2019-01-15  153.07   554.8  3902.00  2195.0\n",
       "2019-01-16  154.94   560.6  3879.00  2100.0\n",
       "2019-01-17  155.86   563.4  3897.00  2120.0\n",
       "2019-01-18  156.82   571.2  3925.00  2115.0\n",
       "2019-01-21     NaN   562.0  3931.00  2120.0\n",
       "2019-01-22  153.30   557.0  3845.50  2055.0\n",
       "2019-01-23  153.92   562.6  3761.50  2065.0\n",
       "2019-01-24  152.70   568.4  3765.00  2085.0\n",
       "2019-01-25  157.76   572.2  3878.00  2070.0\n",
       "2019-01-28  156.30   572.0  3944.50  2055.0\n",
       "2019-01-29  154.68   580.2  4077.50  2100.0\n",
       "2019-01-30  165.25   586.6  4133.50  2090.0\n",
       "2019-01-31  166.44   573.4  4187.50  2060.0\n",
       "2019-02-01  166.52   571.0  4230.00  2100.0\n",
       "2019-02-04  171.25   570.8  4267.00  2065.0\n",
       "2019-02-05  174.18   570.2  4303.00  2095.0\n",
       "2019-02-06  174.24   574.0  4298.50  2100.0\n",
       "2019-02-07  170.94   576.0  4267.00  2100.0\n",
       "2019-02-08  170.41   575.2  4265.00  2070.0\n",
       "2019-02-11  169.43   583.0  4287.00  2095.0\n",
       "2019-02-12  170.89   586.4  4294.50  2085.0\n",
       "...            ...     ...      ...     ...\n",
       "2019-09-09  214.17   517.4  4218.50  2255.0\n",
       "2019-09-10  216.70   532.2  4251.00  2340.0\n",
       "2019-09-11  223.59   553.6  4288.50  2385.0\n",
       "2019-09-12  223.09   542.8  4332.00  2430.0\n",
       "2019-09-13  218.75   559.6  4410.22  2515.0\n",
       "2019-09-16  219.90   554.8  4332.50  2460.0\n",
       "2019-09-17  220.70   562.2  4263.00  2485.0\n",
       "2019-09-18  222.77   562.0  4263.50  2415.0\n",
       "2019-09-19  220.96   558.4  4249.50  2440.0\n",
       "2019-09-20  217.73   565.0  4233.00  2400.0\n",
       "2019-09-23  218.72   564.6  4245.00  2375.0\n",
       "2019-09-24  217.68   562.8  4138.00  2355.0\n",
       "2019-09-25  221.03   568.4  4176.50  2360.0\n",
       "2019-09-26  219.89   573.6  4165.50  2395.0\n",
       "2019-09-27  218.82   581.6  4249.50  2405.0\n",
       "2019-09-30  223.97   584.8  4209.00  2425.0\n",
       "2019-10-01  224.59   581.4  4201.50  2445.0\n",
       "2019-10-02  218.96   560.2  4006.00  2345.0\n",
       "2019-10-03  220.82   554.4  3992.50  2305.0\n",
       "2019-10-04  227.01   555.6  4035.50  2300.0\n",
       "2019-10-07  227.06   556.6  4054.50  2255.0\n",
       "2019-10-08  224.40   540.8  4026.50  2250.0\n",
       "2019-10-09  227.03   541.4  4018.50  2230.0\n",
       "2019-10-10  230.09   548.0  4104.00  2240.0\n",
       "2019-10-11  236.21   591.0  4209.50  2300.0\n",
       "2019-10-14  235.87   590.8  4115.00  2250.0\n",
       "2019-10-15  235.32   623.0  4019.00  2360.0\n",
       "2019-10-16  234.37   620.0  3952.00  2325.0\n",
       "2019-10-17  235.28   630.2  3961.50  2330.0\n",
       "2019-10-18  235.35   629.4  3961.50  2320.0\n",
       "\n",
       "[206 rows x 4 columns]"
      ]
     },
     "execution_count": 8,
     "metadata": {},
     "output_type": "execute_result"
    }
   ],
   "source": [
    "bulk_data['Close']"
   ]
  },
  {
   "cell_type": "code",
   "execution_count": 9,
   "metadata": {},
   "outputs": [],
   "source": [
    "#bulk_data"
   ]
  },
  {
   "cell_type": "code",
   "execution_count": 10,
   "metadata": {},
   "outputs": [],
   "source": [
    "export_csv = bulk_data['Close'].to_csv (r'/cath/homes2/zcbtsdl/PycharmProjects/Coding-Notes/Python - Numpy & Pandas - Notes/Numpy/yahoo_output.csv', index = None, header=True)"
   ]
  },
  {
   "cell_type": "code",
   "execution_count": 11,
   "metadata": {},
   "outputs": [
    {
     "name": "stdout",
     "output_type": "stream",
     "text": [
      "AAPL Date\n",
      "1987-05-11    0.00214\n",
      "1987-08-10    0.00214\n",
      "1987-11-17    0.00286\n",
      "1988-02-12    0.00286\n",
      "1988-05-16    0.00286\n",
      "1988-08-15    0.00286\n",
      "1988-11-21    0.00357\n",
      "1989-02-17    0.00357\n",
      "1989-05-22    0.00357\n",
      "1989-08-21    0.00357\n",
      "1989-11-17    0.00393\n",
      "1990-02-16    0.00393\n",
      "1990-05-21    0.00393\n",
      "1990-08-20    0.00393\n",
      "1990-11-16    0.00429\n",
      "1991-02-15    0.00429\n",
      "1991-05-20    0.00429\n",
      "1991-08-19    0.00429\n",
      "1991-11-18    0.00429\n",
      "1992-02-14    0.00429\n",
      "1992-06-01    0.00429\n",
      "1992-08-17    0.00429\n",
      "1992-11-30    0.00429\n",
      "1993-02-12    0.00429\n",
      "1993-05-28    0.00429\n",
      "1993-08-16    0.00429\n",
      "1993-11-19    0.00429\n",
      "1994-02-07    0.00429\n",
      "1994-05-27    0.00429\n",
      "1994-08-15    0.00429\n",
      "               ...   \n",
      "1995-11-21    0.00429\n",
      "2012-08-09    0.37857\n",
      "2012-11-07    0.37857\n",
      "2013-02-07    0.37857\n",
      "2013-05-09    0.43571\n",
      "2013-08-08    0.43571\n",
      "2013-11-06    0.43571\n",
      "2014-02-06    0.43571\n",
      "2014-05-08    0.47000\n",
      "2014-08-07    0.47000\n",
      "2014-11-06    0.47000\n",
      "2015-02-05    0.47000\n",
      "2015-05-07    0.52000\n",
      "2015-08-06    0.52000\n",
      "2015-11-05    0.52000\n",
      "2016-02-04    0.52000\n",
      "2016-05-05    0.57000\n",
      "2016-08-04    0.57000\n",
      "2016-11-03    0.57000\n",
      "2017-02-09    0.57000\n",
      "2017-05-11    0.63000\n",
      "2017-08-10    0.63000\n",
      "2017-11-10    0.63000\n",
      "2018-02-09    0.63000\n",
      "2018-05-11    0.73000\n",
      "2018-08-10    0.73000\n",
      "2018-11-08    0.73000\n",
      "2019-02-08    0.73000\n",
      "2019-05-10    0.77000\n",
      "2019-08-09    0.77000\n",
      "Name: Dividends, Length: 64, dtype: float64\n",
      "SDRC.L Date\n",
      "2010-03-10    21.0000\n",
      "2010-08-11    11.0000\n",
      "2011-03-23    26.0000\n",
      "2011-08-10    13.0000\n",
      "2012-03-28    26.0000\n",
      "2012-08-15    14.4444\n",
      "2013-03-27    30.0000\n",
      "2013-03-28    33.3333\n",
      "2013-08-14    17.7778\n",
      "2014-03-26    42.0000\n",
      "2014-08-13    24.0000\n",
      "2015-03-26    54.0000\n",
      "2015-08-13    29.0000\n",
      "2016-03-24    58.0000\n",
      "2016-08-18    29.0000\n",
      "2017-03-30    64.0000\n",
      "2017-08-17    34.0000\n",
      "2018-03-22    79.0000\n",
      "2018-08-16    35.0000\n",
      "2019-03-28    79.0000\n",
      "2019-08-22    35.0000\n",
      "Name: Dividends, dtype: float64\n",
      "RIO.L Date\n",
      "1993-03-15     13.50\n",
      "1993-06-07     13.50\n",
      "1994-03-14      7.00\n",
      "1994-09-26      7.20\n",
      "1995-03-20     16.20\n",
      "1995-10-16      8.40\n",
      "1996-02-19     18.40\n",
      "1996-09-23      8.48\n",
      "1997-03-17     18.49\n",
      "1997-09-22      8.30\n",
      "1998-03-16     17.24\n",
      "1998-09-21      9.96\n",
      "1999-03-09     22.03\n",
      "1999-08-09     10.39\n",
      "2000-03-06     23.84\n",
      "2000-08-14     12.66\n",
      "2001-03-07     26.21\n",
      "2001-08-15     14.03\n",
      "2002-03-06     27.65\n",
      "2002-08-14     18.87\n",
      "2003-03-05     18.60\n",
      "2003-08-13     18.45\n",
      "2004-03-10     18.68\n",
      "2004-08-11     17.54\n",
      "2005-02-23     23.94\n",
      "2005-08-10     21.75\n",
      "2006-02-22     23.35\n",
      "2006-08-09     21.42\n",
      "2007-03-07     32.63\n",
      "2007-08-08     25.59\n",
      "2008-02-20     43.13\n",
      "2008-09-03     36.25\n",
      "2009-02-18     46.29\n",
      "2010-02-24     39.14\n",
      "2010-08-11     28.21\n",
      "2011-03-02     39.14\n",
      "2011-08-10     33.14\n",
      "2012-02-29     57.33\n",
      "2012-08-15     46.43\n",
      "2013-03-06     60.34\n",
      "2013-08-14     54.28\n",
      "2014-03-05     65.82\n",
      "2014-08-13     56.90\n",
      "2015-03-05     77.98\n",
      "2015-08-13     68.92\n",
      "2016-02-25     74.21\n",
      "2016-08-11     33.80\n",
      "2017-02-23    100.56\n",
      "2017-08-10     83.13\n",
      "2018-03-01    129.43\n",
      "2018-08-09     96.82\n",
      "2019-03-07    135.96\n",
      "2019-08-08    123.32\n",
      "Name: Dividends, dtype: float64\n",
      "BLND.L Date\n",
      "1993-01-04     2.2800\n",
      "1993-06-07     4.7200\n",
      "1994-01-04     2.4500\n",
      "1994-07-04     5.0800\n",
      "1994-12-28     2.6400\n",
      "1995-06-19     5.4800\n",
      "1996-01-08     2.7800\n",
      "1996-07-22     5.7700\n",
      "1997-01-13     2.9200\n",
      "1997-07-21     6.0800\n",
      "1998-01-19     3.0700\n",
      "1998-06-15     6.7300\n",
      "1999-02-22     3.2300\n",
      "1999-07-12     7.0700\n",
      "2000-01-10     3.4000\n",
      "2000-07-10     7.5000\n",
      "2001-01-08     3.6000\n",
      "2001-07-11     7.9000\n",
      "2002-01-23     3.8000\n",
      "2002-07-24     8.6000\n",
      "2003-01-22     4.1000\n",
      "2003-07-23     9.3000\n",
      "2004-01-21     4.4300\n",
      "2004-07-21    10.0700\n",
      "2005-01-19     4.8000\n",
      "2005-07-20    10.9000\n",
      "2006-01-18     5.2000\n",
      "2006-07-17    11.8000\n",
      "2007-01-17     5.6000\n",
      "2007-04-18     6.5000\n",
      "               ...   \n",
      "2012-07-04     6.6000\n",
      "2012-10-03     6.6000\n",
      "2013-01-09     6.6000\n",
      "2013-03-27     6.6000\n",
      "2013-07-03     6.6000\n",
      "2013-10-02     6.7500\n",
      "2014-01-08     6.7500\n",
      "2014-03-19     6.7500\n",
      "2014-07-02     6.7500\n",
      "2014-10-01     6.9200\n",
      "2015-01-08     6.9200\n",
      "2015-03-26     6.9200\n",
      "2015-07-02     6.9200\n",
      "2015-10-01     7.0900\n",
      "2016-01-07     7.0900\n",
      "2016-03-31     7.0900\n",
      "2016-06-30     7.0900\n",
      "2016-10-06     7.3000\n",
      "2017-01-05     7.3000\n",
      "2017-03-30     7.3000\n",
      "2017-06-29     7.3000\n",
      "2017-10-05     7.5200\n",
      "2018-01-04     7.5200\n",
      "2018-03-29     7.5200\n",
      "2018-06-28     7.5200\n",
      "2018-10-04     7.7500\n",
      "2019-01-03     7.7500\n",
      "2019-03-28     7.7500\n",
      "2019-06-27     7.7500\n",
      "2019-10-03     7.9825\n",
      "Name: Dividends, Length: 80, dtype: float64\n"
     ]
    }
   ],
   "source": [
    "\n",
    "for item in ticker_list: \n",
    "    load = yf.Ticker(item)\n",
    "    print(item, load.dividends)"
   ]
  },
  {
   "cell_type": "code",
   "execution_count": 12,
   "metadata": {},
   "outputs": [
    {
     "name": "stdout",
     "output_type": "stream",
     "text": [
      "[*********************100%***********************]  1 of 1 downloaded\n",
      "Date\n",
      "2019-01-01    1.2738\n",
      "2019-01-02    1.2754\n",
      "2019-01-03    1.2522\n",
      "2019-01-04    1.2629\n",
      "2019-01-07    1.2735\n",
      "2019-01-08    1.2786\n",
      "2019-01-09    1.2738\n",
      "2019-01-10    1.2800\n",
      "2019-01-11    1.2754\n",
      "2019-01-14    1.2850\n",
      "2019-01-15    1.2875\n",
      "2019-01-16    1.2872\n",
      "2019-01-17    1.2886\n",
      "2019-01-18    1.2984\n",
      "2019-01-21    1.2853\n",
      "2019-01-22    1.2892\n",
      "2019-01-23    1.2958\n",
      "2019-01-24    1.3082\n",
      "2019-01-25    1.3122\n",
      "2019-01-28    1.3208\n",
      "2019-01-29    1.3160\n",
      "2019-01-30    1.3080\n",
      "2019-01-31    1.3117\n",
      "2019-02-01    1.3109\n",
      "2019-02-04    1.3077\n",
      "2019-02-05    1.3031\n",
      "2019-02-06    1.2957\n",
      "2019-02-07    1.2934\n",
      "2019-02-08    1.2949\n",
      "2019-02-11    1.2937\n",
      "               ...  \n",
      "2019-09-09    1.2283\n",
      "2019-09-10    1.2345\n",
      "2019-09-11    1.2355\n",
      "2019-09-12    1.2335\n",
      "2019-09-13    1.2329\n",
      "2019-09-16    1.2497\n",
      "2019-09-17    1.2429\n",
      "2019-09-18    1.2503\n",
      "2019-09-19    1.2471\n",
      "2019-09-20    1.2525\n",
      "2019-09-23    1.2472\n",
      "2019-09-24    1.2435\n",
      "2019-09-25    1.2486\n",
      "2019-09-26    1.2360\n",
      "2019-09-27    1.2332\n",
      "2019-09-30    1.2293\n",
      "2019-10-01    1.2290\n",
      "2019-10-02    1.2292\n",
      "2019-10-03    1.2304\n",
      "2019-10-04    1.2342\n",
      "2019-10-07    1.2334\n",
      "2019-10-08    1.2288\n",
      "2019-10-09    1.2220\n",
      "2019-10-10    1.2213\n",
      "2019-10-11    1.2433\n",
      "2019-10-14    1.2619\n",
      "2019-10-15    1.2612\n",
      "2019-10-16    1.2761\n",
      "2019-10-17    1.2824\n",
      "2019-10-18    1.2897\n",
      "Name: Close, Length: 208, dtype: float64\n"
     ]
    }
   ],
   "source": [
    "cable = yf.download('GBPUSD=X', period = \"ytd\")\n",
    "\n",
    "print(cable['Close'])\n",
    "\n",
    "export_cable = cable['Close'].to_csv (r'/cath/homes2/zcbtsdl/PycharmProjects/Coding-Notes/Python - Numpy & Pandas - Notes/Numpy/cable_YTD.csv', index = None, header=True)"
   ]
  },
  {
   "cell_type": "code",
   "execution_count": 17,
   "metadata": {},
   "outputs": [
    {
     "data": {
      "text/plain": [
       "[<matplotlib.lines.Line2D at 0x7f7e4dddf978>]"
      ]
     },
     "execution_count": 17,
     "metadata": {},
     "output_type": "execute_result"
    },
    {
     "data": {
      "image/png": "[encoded data removed]",
      "text/plain": [
       "<Figure size 432x288 with 1 Axes>"
      ]
     },
     "metadata": {
      "needs_background": "light"
     },
     "output_type": "display_data"
    }
   ],
   "source": [
    "msft_gbp = msft_data['Close'] * cable['Close']\n",
    "\n",
    "pp.plot(msft_gbp)"
   ]
  },
  {
   "cell_type": "code",
   "execution_count": null,
   "metadata": {},
   "outputs": [],
   "source": []
  },
  {
   "cell_type": "code",
   "execution_count": 32,
   "metadata": {},
   "outputs": [
    {
     "name": "stdout",
     "output_type": "stream",
     "text": [
      "[*********************100%***********************]  1 of 1 downloaded\n"
     ]
    }
   ],
   "source": [
    "GOOG_data = yf.download(\"GOOG\", period = \"ytd\")\n",
    "\n",
    "start_value = GOOG_data['Close'][1]\n",
    "\n",
    "GOOG_diff = GOOG_data['Close']-start_value\n",
    "GOOG_change = GOOG_diff / start_value"
   ]
  },
  {
   "cell_type": "code",
   "execution_count": 34,
   "metadata": {},
   "outputs": [
    {
     "data": {
      "text/plain": [
       "[<matplotlib.lines.Line2D at 0x7f7e4c0ad160>]"
      ]
     },
     "execution_count": 34,
     "metadata": {},
     "output_type": "execute_result"
    },
    {
     "data": {
      "image/png": "[encoded data removed]",
      "text/plain": [
       "<Figure size 432x288 with 1 Axes>"
      ]
     },
     "metadata": {
      "needs_background": "light"
     },
     "output_type": "display_data"
    }
   ],
   "source": [
    "pp.plot(GOOG_change)"
   ]
  },
  {
   "cell_type": "code",
   "execution_count": 42,
   "metadata": {},
   "outputs": [
    {
     "name": "stdout",
     "output_type": "stream",
     "text": [
      "[*********************100%***********************]  1 of 1 downloaded\n",
      "[*********************100%***********************]  1 of 1 downloaded\n",
      "[*********************100%***********************]  1 of 1 downloaded\n"
     ]
    },
    {
     "data": {
      "text/plain": [
       "<matplotlib.legend.Legend at 0x7f7e3cec6518>"
      ]
     },
     "execution_count": 42,
     "metadata": {},
     "output_type": "execute_result"
    },
    {
     "data": {
      "image/png": "[encoded data removed]",
      "text/plain": [
       "<Figure size 432x288 with 1 Axes>"
      ]
     },
     "metadata": {
      "needs_background": "light"
     },
     "output_type": "display_data"
    }
   ],
   "source": [
    "ticker_list2 = ['SDRC.L', 'RIO.L', 'BLND.L']\n",
    "\n",
    "for item in ticker_list2:\n",
    "    d_data = yf.download(item, period = 'ytd')\n",
    "    d_start_value = d_data['Close'][1]\n",
    "    d_diff = d_data['Close'] - d_start_value\n",
    "    d_change = d_diff / d_start_value\n",
    "    pp.plot(d_change)\n",
    "\n",
    "pp.legend(ticker_list2)"
   ]
  },
  {
   "cell_type": "code",
   "execution_count": 51,
   "metadata": {},
   "outputs": [
    {
     "data": {
      "text/plain": [
       "[<matplotlib.lines.Line2D at 0x7f7e3cfe4860>]"
      ]
     },
     "execution_count": 51,
     "metadata": {},
     "output_type": "execute_result"
    },
    {
     "data": {
      "image/png": "[encoded data removed]",
      "text/plain": [
       "<Figure size 432x288 with 1 Axes>"
      ]
     },
     "metadata": {
      "needs_background": "light"
     },
     "output_type": "display_data"
    }
   ],
   "source": [
    "BP_Data = yf.Ticker(\"BP.L\")\n",
    "\n",
    "BP_Div = BP_Data.history(period=\"YTD\").Dividends\n",
    "\n",
    "pp.plot(BP_Div)"
   ]
  },
  {
   "cell_type": "code",
   "execution_count": 65,
   "metadata": {},
   "outputs": [],
   "source": [
    "BP_Adj = BP_Data.history(period=\"YTD\", auto_adjust = False)\n",
    "BP_Norm = BP_Data.history(period=\"YTD\")\n"
   ]
  },
  {
   "cell_type": "code",
   "execution_count": 66,
   "metadata": {},
   "outputs": [
    {
     "data": {
      "text/plain": [
       "[<matplotlib.lines.Line2D at 0x7f7e3cc21438>]"
      ]
     },
     "execution_count": 66,
     "metadata": {},
     "output_type": "execute_result"
    },
    {
     "data": {
      "image/png": "[encoded data removed]",
      "text/plain": [
       "<Figure size 432x288 with 1 Axes>"
      ]
     },
     "metadata": {
      "needs_background": "light"
     },
     "output_type": "display_data"
    }
   ],
   "source": [
    "pp.plot(BP_Norm['Close'])\n",
    "pp.plot(BP_Adj ['Close'])"
   ]
  },
  {
   "cell_type": "code",
   "execution_count": 68,
   "metadata": {},
   "outputs": [
    {
     "data": {
      "text/plain": [
       "[<matplotlib.lines.Line2D at 0x7f7e3ca860f0>]"
      ]
     },
     "execution_count": 68,
     "metadata": {},
     "output_type": "execute_result"
    },
    {
     "data": {
      "image/png": "[encoded data removed]",
      "text/plain": [
       "<Figure size 432x288 with 1 Axes>"
      ]
     },
     "metadata": {
      "needs_background": "light"
     },
     "output_type": "display_data"
    }
   ],
   "source": [
    "pp.plot(BP_Norm['Close'] - BP_Adj['Close'] )"
   ]
  },
  {
   "cell_type": "code",
   "execution_count": null,
   "metadata": {},
   "outputs": [],
   "source": []
  }
 ],
 "metadata": {
  "kernelspec": {
   "display_name": "Python 3",
   "language": "python",
   "name": "python3"
  },
  "language_info": {
   "codemirror_mode": {
    "name": "ipython",
    "version": 3
   },
   "file_extension": ".py",
   "mimetype": "text/x-python",
   "name": "python",
   "nbconvert_exporter": "python",
   "pygments_lexer": "ipython3",
   "version": "3.7.3"
  }
 },
 "nbformat": 4,
 "nbformat_minor": 2
}
