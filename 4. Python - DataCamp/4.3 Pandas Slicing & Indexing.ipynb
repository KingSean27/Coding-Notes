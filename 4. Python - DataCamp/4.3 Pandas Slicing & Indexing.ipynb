{
 "cells":[
  {
   "cell_type":"markdown",
   "source":[
    "# Explicit Indexes"
   ],
   "attachments":{
    
   },
   "metadata":{
    "datalore":{
     "node_id":"gBz8KzOOiPHEjadJ14fsKv",
     "type":"MD",
     "hide_input_from_viewers":false,
     "hide_output_from_viewers":false
    }
   }
  },
  {
   "cell_type":"code",
   "source":[
    "import pandas as pd\n",
    "import numpy as np\n",
    "\n",
    "\n",
    "portfolio = pd.read_csv(\"\/data\/workspace_files\/investment_portfolio.csv\")\n",
    "portfolio.head()"
   ],
   "execution_count":2,
   "outputs":[
    {
     "data":{
      "text\/html":[
       "<div>\n",
       "<style scoped>\n",
       "    .dataframe tbody tr th:only-of-type {\n",
       "        vertical-align: middle;\n",
       "    }\n",
       "\n",
       "    .dataframe tbody tr th {\n",
       "        vertical-align: top;\n",
       "    }\n",
       "\n",
       "    .dataframe thead th {\n",
       "        text-align: right;\n",
       "    }\n",
       "<\/style>\n",
       "<table border=\"1\" class=\"dataframe\">\n",
       "  <thead>\n",
       "    <tr style=\"text-align: right;\">\n",
       "      <th><\/th>\n",
       "      <th>Product<\/th>\n",
       "      <th>Symbol\/ISIN<\/th>\n",
       "      <th>Amount<\/th>\n",
       "      <th>Closing<\/th>\n",
       "      <th>Local value<\/th>\n",
       "      <th>Value in GBP<\/th>\n",
       "    <\/tr>\n",
       "  <\/thead>\n",
       "  <tbody>\n",
       "    <tr>\n",
       "      <th>0<\/th>\n",
       "      <td>ADVANCED MICRO DEVICES<\/td>\n",
       "      <td>US0079031078<\/td>\n",
       "      <td>2<\/td>\n",
       "      <td>95.12<\/td>\n",
       "      <td>USD 190.24<\/td>\n",
       "      <td>155.14<\/td>\n",
       "    <\/tr>\n",
       "    <tr>\n",
       "      <th>1<\/th>\n",
       "      <td>AIRBUS SE<\/td>\n",
       "      <td>NL0000235190<\/td>\n",
       "      <td>3<\/td>\n",
       "      <td>106.38<\/td>\n",
       "      <td>EUR 319.14<\/td>\n",
       "      <td>270.96<\/td>\n",
       "    <\/tr>\n",
       "    <tr>\n",
       "      <th>2<\/th>\n",
       "      <td>ALPHABET INC. - CLASS C<\/td>\n",
       "      <td>US02079K1079<\/td>\n",
       "      <td>1<\/td>\n",
       "      <td>2330.31<\/td>\n",
       "      <td>USD 2330.31<\/td>\n",
       "      <td>1900.38<\/td>\n",
       "    <\/tr>\n",
       "    <tr>\n",
       "      <th>3<\/th>\n",
       "      <td>AMAZON.COM INC. - COM<\/td>\n",
       "      <td>US0231351067<\/td>\n",
       "      <td>1<\/td>\n",
       "      <td>2261.10<\/td>\n",
       "      <td>USD 2261.10<\/td>\n",
       "      <td>1843.93<\/td>\n",
       "    <\/tr>\n",
       "    <tr>\n",
       "      <th>4<\/th>\n",
       "      <td>BAE SYS.<\/td>\n",
       "      <td>GB0002634946<\/td>\n",
       "      <td>20<\/td>\n",
       "      <td>741.20<\/td>\n",
       "      <td>GBX 14824.00<\/td>\n",
       "      <td>148.24<\/td>\n",
       "    <\/tr>\n",
       "  <\/tbody>\n",
       "<\/table>\n",
       "<\/div>"
      ]
     },
     "metadata":{
      
     },
     "output_type":"display_data"
    }
   ],
   "metadata":{
    "datalore":{
     "node_id":"1w2pJmjDhWZF90IABm4vub",
     "type":"CODE",
     "hide_input_from_viewers":false,
     "hide_output_from_viewers":false
    }
   }
  },
  {
   "cell_type":"code",
   "source":[
    "portfolio.columns"
   ],
   "execution_count":3,
   "outputs":[
    {
     "data":{
      "text\/plain":[
       "Index(['Product', 'Symbol\/ISIN', 'Amount', 'Closing', 'Local value',\n",
       "       'Value in GBP'],\n",
       "      dtype='object')"
      ]
     },
     "metadata":{
      
     },
     "output_type":"display_data"
    }
   ],
   "metadata":{
    "datalore":{
     "node_id":"A2V0hwtfJ2V6wEeaNqDFTD",
     "type":"CODE",
     "hide_input_from_viewers":false,
     "hide_output_from_viewers":false
    }
   }
  },
  {
   "cell_type":"code",
   "source":[
    "portfolio.index"
   ],
   "execution_count":4,
   "outputs":[
    {
     "data":{
      "text\/plain":[
       "RangeIndex(start=0, stop=91, step=1)"
      ]
     },
     "metadata":{
      
     },
     "output_type":"display_data"
    }
   ],
   "metadata":{
    "datalore":{
     "node_id":"F0aLoA1NKOcN1yfL6hSGzX",
     "type":"CODE",
     "hide_input_from_viewers":false,
     "hide_output_from_viewers":false
    }
   }
  },
  {
   "cell_type":"markdown",
   "source":[
    "We have seen .columns and .index before. We can more a column to the index using the .set index method \n",
    "\n",
    "This can be undone with the .reset_index() function. Data can be removed entirely if we set (drop=True) in this \n",
    "\n",
    "Indexes makes subsetting code easier and we can then use .loc() instead of .isin()"
   ],
   "attachments":{
    
   },
   "metadata":{
    "datalore":{
     "node_id":"psy8cM7PYVOCOGNOGWbaaX",
     "type":"MD",
     "hide_input_from_viewers":false,
     "hide_output_from_viewers":false
    }
   }
  },
  {
   "cell_type":"code",
   "source":[
    "portfolio_indexed = portfolio.set_index(\"Product\")\n",
    "\n",
    "portfolio_indexed"
   ],
   "execution_count":5,
   "outputs":[
    {
     "data":{
      "text\/html":[
       "<div>\n",
       "<style scoped>\n",
       "    .dataframe tbody tr th:only-of-type {\n",
       "        vertical-align: middle;\n",
       "    }\n",
       "\n",
       "    .dataframe tbody tr th {\n",
       "        vertical-align: top;\n",
       "    }\n",
       "\n",
       "    .dataframe thead th {\n",
       "        text-align: right;\n",
       "    }\n",
       "<\/style>\n",
       "<table border=\"1\" class=\"dataframe\">\n",
       "  <thead>\n",
       "    <tr style=\"text-align: right;\">\n",
       "      <th><\/th>\n",
       "      <th>Symbol\/ISIN<\/th>\n",
       "      <th>Amount<\/th>\n",
       "      <th>Closing<\/th>\n",
       "      <th>Local value<\/th>\n",
       "      <th>Value in GBP<\/th>\n",
       "    <\/tr>\n",
       "    <tr>\n",
       "      <th>Product<\/th>\n",
       "      <th><\/th>\n",
       "      <th><\/th>\n",
       "      <th><\/th>\n",
       "      <th><\/th>\n",
       "      <th><\/th>\n",
       "    <\/tr>\n",
       "  <\/thead>\n",
       "  <tbody>\n",
       "    <tr>\n",
       "      <th>ADVANCED MICRO DEVICES<\/th>\n",
       "      <td>US0079031078<\/td>\n",
       "      <td>2<\/td>\n",
       "      <td>95.12<\/td>\n",
       "      <td>USD 190.24<\/td>\n",
       "      <td>155.14<\/td>\n",
       "    <\/tr>\n",
       "    <tr>\n",
       "      <th>AIRBUS SE<\/th>\n",
       "      <td>NL0000235190<\/td>\n",
       "      <td>3<\/td>\n",
       "      <td>106.38<\/td>\n",
       "      <td>EUR 319.14<\/td>\n",
       "      <td>270.96<\/td>\n",
       "    <\/tr>\n",
       "    <tr>\n",
       "      <th>ALPHABET INC. - CLASS C<\/th>\n",
       "      <td>US02079K1079<\/td>\n",
       "      <td>1<\/td>\n",
       "      <td>2330.31<\/td>\n",
       "      <td>USD 2330.31<\/td>\n",
       "      <td>1900.38<\/td>\n",
       "    <\/tr>\n",
       "    <tr>\n",
       "      <th>AMAZON.COM INC. - COM<\/th>\n",
       "      <td>US0231351067<\/td>\n",
       "      <td>1<\/td>\n",
       "      <td>2261.10<\/td>\n",
       "      <td>USD 2261.10<\/td>\n",
       "      <td>1843.93<\/td>\n",
       "    <\/tr>\n",
       "    <tr>\n",
       "      <th>BAE SYS.<\/th>\n",
       "      <td>GB0002634946<\/td>\n",
       "      <td>20<\/td>\n",
       "      <td>741.20<\/td>\n",
       "      <td>GBX 14824.00<\/td>\n",
       "      <td>148.24<\/td>\n",
       "    <\/tr>\n",
       "    <tr>\n",
       "      <th>...<\/th>\n",
       "      <td>...<\/td>\n",
       "      <td>...<\/td>\n",
       "      <td>...<\/td>\n",
       "      <td>...<\/td>\n",
       "      <td>...<\/td>\n",
       "    <\/tr>\n",
       "    <tr>\n",
       "      <th>UNILEVER<\/th>\n",
       "      <td>GB00B10RZP78<\/td>\n",
       "      <td>3<\/td>\n",
       "      <td>3747.00<\/td>\n",
       "      <td>GBX 11241.00<\/td>\n",
       "      <td>112.41<\/td>\n",
       "    <\/tr>\n",
       "    <tr>\n",
       "      <th>VOLTA FIN<\/th>\n",
       "      <td>GG00B1GHHH78<\/td>\n",
       "      <td>600<\/td>\n",
       "      <td>5.90<\/td>\n",
       "      <td>EUR 3540.00<\/td>\n",
       "      <td>3005.60<\/td>\n",
       "    <\/tr>\n",
       "    <tr>\n",
       "      <th>WALT DISNEY COMPANY (T<\/th>\n",
       "      <td>US2546871060<\/td>\n",
       "      <td>3<\/td>\n",
       "      <td>107.33<\/td>\n",
       "      <td>USD 321.99<\/td>\n",
       "      <td>262.58<\/td>\n",
       "    <\/tr>\n",
       "    <tr>\n",
       "      <th>XTRACKERS MSCI SINGAPORE UCITS ...<\/th>\n",
       "      <td>LU0659578842<\/td>\n",
       "      <td>1200<\/td>\n",
       "      <td>1.27<\/td>\n",
       "      <td>EUR 1524.48<\/td>\n",
       "      <td>1294.35<\/td>\n",
       "    <\/tr>\n",
       "    <tr>\n",
       "      <th>XYLEM INC. COMMON STOC<\/th>\n",
       "      <td>US98419M1009<\/td>\n",
       "      <td>4<\/td>\n",
       "      <td>83.91<\/td>\n",
       "      <td>USD 335.64<\/td>\n",
       "      <td>273.72<\/td>\n",
       "    <\/tr>\n",
       "  <\/tbody>\n",
       "<\/table>\n",
       "<p>91 rows × 5 columns<\/p>\n",
       "<\/div>"
      ]
     },
     "metadata":{
      
     },
     "output_type":"display_data"
    }
   ],
   "metadata":{
    "datalore":{
     "node_id":"yecGOW4ONZkuT5VZl29rZN",
     "type":"CODE",
     "hide_input_from_viewers":false,
     "hide_output_from_viewers":false
    }
   }
  },
  {
   "cell_type":"code",
   "source":[
    "portfolio_indexed.reset_index()"
   ],
   "execution_count":6,
   "outputs":[
    {
     "data":{
      "text\/html":[
       "<div>\n",
       "<style scoped>\n",
       "    .dataframe tbody tr th:only-of-type {\n",
       "        vertical-align: middle;\n",
       "    }\n",
       "\n",
       "    .dataframe tbody tr th {\n",
       "        vertical-align: top;\n",
       "    }\n",
       "\n",
       "    .dataframe thead th {\n",
       "        text-align: right;\n",
       "    }\n",
       "<\/style>\n",
       "<table border=\"1\" class=\"dataframe\">\n",
       "  <thead>\n",
       "    <tr style=\"text-align: right;\">\n",
       "      <th><\/th>\n",
       "      <th>Product<\/th>\n",
       "      <th>Symbol\/ISIN<\/th>\n",
       "      <th>Amount<\/th>\n",
       "      <th>Closing<\/th>\n",
       "      <th>Local value<\/th>\n",
       "      <th>Value in GBP<\/th>\n",
       "    <\/tr>\n",
       "  <\/thead>\n",
       "  <tbody>\n",
       "    <tr>\n",
       "      <th>0<\/th>\n",
       "      <td>ADVANCED MICRO DEVICES<\/td>\n",
       "      <td>US0079031078<\/td>\n",
       "      <td>2<\/td>\n",
       "      <td>95.12<\/td>\n",
       "      <td>USD 190.24<\/td>\n",
       "      <td>155.14<\/td>\n",
       "    <\/tr>\n",
       "    <tr>\n",
       "      <th>1<\/th>\n",
       "      <td>AIRBUS SE<\/td>\n",
       "      <td>NL0000235190<\/td>\n",
       "      <td>3<\/td>\n",
       "      <td>106.38<\/td>\n",
       "      <td>EUR 319.14<\/td>\n",
       "      <td>270.96<\/td>\n",
       "    <\/tr>\n",
       "    <tr>\n",
       "      <th>2<\/th>\n",
       "      <td>ALPHABET INC. - CLASS C<\/td>\n",
       "      <td>US02079K1079<\/td>\n",
       "      <td>1<\/td>\n",
       "      <td>2330.31<\/td>\n",
       "      <td>USD 2330.31<\/td>\n",
       "      <td>1900.38<\/td>\n",
       "    <\/tr>\n",
       "    <tr>\n",
       "      <th>3<\/th>\n",
       "      <td>AMAZON.COM INC. - COM<\/td>\n",
       "      <td>US0231351067<\/td>\n",
       "      <td>1<\/td>\n",
       "      <td>2261.10<\/td>\n",
       "      <td>USD 2261.10<\/td>\n",
       "      <td>1843.93<\/td>\n",
       "    <\/tr>\n",
       "    <tr>\n",
       "      <th>4<\/th>\n",
       "      <td>BAE SYS.<\/td>\n",
       "      <td>GB0002634946<\/td>\n",
       "      <td>20<\/td>\n",
       "      <td>741.20<\/td>\n",
       "      <td>GBX 14824.00<\/td>\n",
       "      <td>148.24<\/td>\n",
       "    <\/tr>\n",
       "    <tr>\n",
       "      <th>...<\/th>\n",
       "      <td>...<\/td>\n",
       "      <td>...<\/td>\n",
       "      <td>...<\/td>\n",
       "      <td>...<\/td>\n",
       "      <td>...<\/td>\n",
       "      <td>...<\/td>\n",
       "    <\/tr>\n",
       "    <tr>\n",
       "      <th>86<\/th>\n",
       "      <td>UNILEVER<\/td>\n",
       "      <td>GB00B10RZP78<\/td>\n",
       "      <td>3<\/td>\n",
       "      <td>3747.00<\/td>\n",
       "      <td>GBX 11241.00<\/td>\n",
       "      <td>112.41<\/td>\n",
       "    <\/tr>\n",
       "    <tr>\n",
       "      <th>87<\/th>\n",
       "      <td>VOLTA FIN<\/td>\n",
       "      <td>GG00B1GHHH78<\/td>\n",
       "      <td>600<\/td>\n",
       "      <td>5.90<\/td>\n",
       "      <td>EUR 3540.00<\/td>\n",
       "      <td>3005.60<\/td>\n",
       "    <\/tr>\n",
       "    <tr>\n",
       "      <th>88<\/th>\n",
       "      <td>WALT DISNEY COMPANY (T<\/td>\n",
       "      <td>US2546871060<\/td>\n",
       "      <td>3<\/td>\n",
       "      <td>107.33<\/td>\n",
       "      <td>USD 321.99<\/td>\n",
       "      <td>262.58<\/td>\n",
       "    <\/tr>\n",
       "    <tr>\n",
       "      <th>89<\/th>\n",
       "      <td>XTRACKERS MSCI SINGAPORE UCITS ...<\/td>\n",
       "      <td>LU0659578842<\/td>\n",
       "      <td>1200<\/td>\n",
       "      <td>1.27<\/td>\n",
       "      <td>EUR 1524.48<\/td>\n",
       "      <td>1294.35<\/td>\n",
       "    <\/tr>\n",
       "    <tr>\n",
       "      <th>90<\/th>\n",
       "      <td>XYLEM INC. COMMON STOC<\/td>\n",
       "      <td>US98419M1009<\/td>\n",
       "      <td>4<\/td>\n",
       "      <td>83.91<\/td>\n",
       "      <td>USD 335.64<\/td>\n",
       "      <td>273.72<\/td>\n",
       "    <\/tr>\n",
       "  <\/tbody>\n",
       "<\/table>\n",
       "<p>91 rows × 6 columns<\/p>\n",
       "<\/div>"
      ]
     },
     "metadata":{
      
     },
     "output_type":"display_data"
    }
   ],
   "metadata":{
    "datalore":{
     "node_id":"cIhOUeown8T5WGcZnVXRm8",
     "type":"CODE",
     "hide_input_from_viewers":false,
     "hide_output_from_viewers":false
    }
   }
  },
  {
   "cell_type":"code",
   "source":[
    "portfolio_indexed.loc[[\"AIRBUS SE\", \"BAE SYS.\"]]"
   ],
   "execution_count":7,
   "outputs":[
    {
     "data":{
      "text\/html":[
       "<div>\n",
       "<style scoped>\n",
       "    .dataframe tbody tr th:only-of-type {\n",
       "        vertical-align: middle;\n",
       "    }\n",
       "\n",
       "    .dataframe tbody tr th {\n",
       "        vertical-align: top;\n",
       "    }\n",
       "\n",
       "    .dataframe thead th {\n",
       "        text-align: right;\n",
       "    }\n",
       "<\/style>\n",
       "<table border=\"1\" class=\"dataframe\">\n",
       "  <thead>\n",
       "    <tr style=\"text-align: right;\">\n",
       "      <th><\/th>\n",
       "      <th>Symbol\/ISIN<\/th>\n",
       "      <th>Amount<\/th>\n",
       "      <th>Closing<\/th>\n",
       "      <th>Local value<\/th>\n",
       "      <th>Value in GBP<\/th>\n",
       "    <\/tr>\n",
       "    <tr>\n",
       "      <th>Product<\/th>\n",
       "      <th><\/th>\n",
       "      <th><\/th>\n",
       "      <th><\/th>\n",
       "      <th><\/th>\n",
       "      <th><\/th>\n",
       "    <\/tr>\n",
       "  <\/thead>\n",
       "  <tbody>\n",
       "    <tr>\n",
       "      <th>AIRBUS SE<\/th>\n",
       "      <td>NL0000235190<\/td>\n",
       "      <td>3<\/td>\n",
       "      <td>106.38<\/td>\n",
       "      <td>EUR 319.14<\/td>\n",
       "      <td>270.96<\/td>\n",
       "    <\/tr>\n",
       "    <tr>\n",
       "      <th>BAE SYS.<\/th>\n",
       "      <td>GB0002634946<\/td>\n",
       "      <td>20<\/td>\n",
       "      <td>741.20<\/td>\n",
       "      <td>GBX 14824.00<\/td>\n",
       "      <td>148.24<\/td>\n",
       "    <\/tr>\n",
       "  <\/tbody>\n",
       "<\/table>\n",
       "<\/div>"
      ]
     },
     "metadata":{
      
     },
     "output_type":"display_data"
    }
   ],
   "metadata":{
    "datalore":{
     "node_id":"KZYgiKM49jYJhDYt9Ey1Va",
     "type":"CODE",
     "hide_input_from_viewers":false,
     "hide_output_from_viewers":false
    }
   }
  },
  {
   "cell_type":"markdown",
   "source":[
    "We can set multiple indexes in the index. This is known as hierachal indexes, the inner one will be nested within the outer one \n",
    "\n",
    "The data must match up at both levels to be successfully requested with loc"
   ],
   "attachments":{
    
   },
   "metadata":{
    "datalore":{
     "node_id":"7cySiseAOSsawQGFnQaFBy",
     "type":"MD",
     "hide_input_from_viewers":false,
     "hide_output_from_viewers":false
    }
   }
  },
  {
   "cell_type":"code",
   "source":[
    "portfolio_indexed_2 = portfolio.set_index([\"Symbol\/ISIN\", \"Product\"])\n",
    "\n",
    "portfolio_indexed_2"
   ],
   "execution_count":8,
   "outputs":[
    {
     "data":{
      "text\/html":[
       "<div>\n",
       "<style scoped>\n",
       "    .dataframe tbody tr th:only-of-type {\n",
       "        vertical-align: middle;\n",
       "    }\n",
       "\n",
       "    .dataframe tbody tr th {\n",
       "        vertical-align: top;\n",
       "    }\n",
       "\n",
       "    .dataframe thead th {\n",
       "        text-align: right;\n",
       "    }\n",
       "<\/style>\n",
       "<table border=\"1\" class=\"dataframe\">\n",
       "  <thead>\n",
       "    <tr style=\"text-align: right;\">\n",
       "      <th><\/th>\n",
       "      <th><\/th>\n",
       "      <th>Amount<\/th>\n",
       "      <th>Closing<\/th>\n",
       "      <th>Local value<\/th>\n",
       "      <th>Value in GBP<\/th>\n",
       "    <\/tr>\n",
       "    <tr>\n",
       "      <th>Symbol\/ISIN<\/th>\n",
       "      <th>Product<\/th>\n",
       "      <th><\/th>\n",
       "      <th><\/th>\n",
       "      <th><\/th>\n",
       "      <th><\/th>\n",
       "    <\/tr>\n",
       "  <\/thead>\n",
       "  <tbody>\n",
       "    <tr>\n",
       "      <th>US0079031078<\/th>\n",
       "      <th>ADVANCED MICRO DEVICES<\/th>\n",
       "      <td>2<\/td>\n",
       "      <td>95.12<\/td>\n",
       "      <td>USD 190.24<\/td>\n",
       "      <td>155.14<\/td>\n",
       "    <\/tr>\n",
       "    <tr>\n",
       "      <th>NL0000235190<\/th>\n",
       "      <th>AIRBUS SE<\/th>\n",
       "      <td>3<\/td>\n",
       "      <td>106.38<\/td>\n",
       "      <td>EUR 319.14<\/td>\n",
       "      <td>270.96<\/td>\n",
       "    <\/tr>\n",
       "    <tr>\n",
       "      <th>US02079K1079<\/th>\n",
       "      <th>ALPHABET INC. - CLASS C<\/th>\n",
       "      <td>1<\/td>\n",
       "      <td>2330.31<\/td>\n",
       "      <td>USD 2330.31<\/td>\n",
       "      <td>1900.38<\/td>\n",
       "    <\/tr>\n",
       "    <tr>\n",
       "      <th>US0231351067<\/th>\n",
       "      <th>AMAZON.COM INC. - COM<\/th>\n",
       "      <td>1<\/td>\n",
       "      <td>2261.10<\/td>\n",
       "      <td>USD 2261.10<\/td>\n",
       "      <td>1843.93<\/td>\n",
       "    <\/tr>\n",
       "    <tr>\n",
       "      <th>GB0002634946<\/th>\n",
       "      <th>BAE SYS.<\/th>\n",
       "      <td>20<\/td>\n",
       "      <td>741.20<\/td>\n",
       "      <td>GBX 14824.00<\/td>\n",
       "      <td>148.24<\/td>\n",
       "    <\/tr>\n",
       "    <tr>\n",
       "      <th>...<\/th>\n",
       "      <th>...<\/th>\n",
       "      <td>...<\/td>\n",
       "      <td>...<\/td>\n",
       "      <td>...<\/td>\n",
       "      <td>...<\/td>\n",
       "    <\/tr>\n",
       "    <tr>\n",
       "      <th>GB00B10RZP78<\/th>\n",
       "      <th>UNILEVER<\/th>\n",
       "      <td>3<\/td>\n",
       "      <td>3747.00<\/td>\n",
       "      <td>GBX 11241.00<\/td>\n",
       "      <td>112.41<\/td>\n",
       "    <\/tr>\n",
       "    <tr>\n",
       "      <th>GG00B1GHHH78<\/th>\n",
       "      <th>VOLTA FIN<\/th>\n",
       "      <td>600<\/td>\n",
       "      <td>5.90<\/td>\n",
       "      <td>EUR 3540.00<\/td>\n",
       "      <td>3005.60<\/td>\n",
       "    <\/tr>\n",
       "    <tr>\n",
       "      <th>US2546871060<\/th>\n",
       "      <th>WALT DISNEY COMPANY (T<\/th>\n",
       "      <td>3<\/td>\n",
       "      <td>107.33<\/td>\n",
       "      <td>USD 321.99<\/td>\n",
       "      <td>262.58<\/td>\n",
       "    <\/tr>\n",
       "    <tr>\n",
       "      <th>LU0659578842<\/th>\n",
       "      <th>XTRACKERS MSCI SINGAPORE UCITS ...<\/th>\n",
       "      <td>1200<\/td>\n",
       "      <td>1.27<\/td>\n",
       "      <td>EUR 1524.48<\/td>\n",
       "      <td>1294.35<\/td>\n",
       "    <\/tr>\n",
       "    <tr>\n",
       "      <th>US98419M1009<\/th>\n",
       "      <th>XYLEM INC. COMMON STOC<\/th>\n",
       "      <td>4<\/td>\n",
       "      <td>83.91<\/td>\n",
       "      <td>USD 335.64<\/td>\n",
       "      <td>273.72<\/td>\n",
       "    <\/tr>\n",
       "  <\/tbody>\n",
       "<\/table>\n",
       "<p>91 rows × 4 columns<\/p>\n",
       "<\/div>"
      ]
     },
     "metadata":{
      
     },
     "output_type":"display_data"
    }
   ],
   "metadata":{
    "datalore":{
     "node_id":"Pm92WsIUY3aK85YanKnqmp",
     "type":"CODE",
     "hide_input_from_viewers":false,
     "hide_output_from_viewers":false
    }
   }
  },
  {
   "cell_type":"code",
   "source":[
    "portfolio_indexed_2.loc[[(\"US0231351067\", \"AMAZON.COM INC. - COM\"), (\"GG00B1GHHH78\", \"VOLTA FIN\")]]"
   ],
   "execution_count":9,
   "outputs":[
    {
     "data":{
      "text\/html":[
       "<div>\n",
       "<style scoped>\n",
       "    .dataframe tbody tr th:only-of-type {\n",
       "        vertical-align: middle;\n",
       "    }\n",
       "\n",
       "    .dataframe tbody tr th {\n",
       "        vertical-align: top;\n",
       "    }\n",
       "\n",
       "    .dataframe thead th {\n",
       "        text-align: right;\n",
       "    }\n",
       "<\/style>\n",
       "<table border=\"1\" class=\"dataframe\">\n",
       "  <thead>\n",
       "    <tr style=\"text-align: right;\">\n",
       "      <th><\/th>\n",
       "      <th><\/th>\n",
       "      <th>Amount<\/th>\n",
       "      <th>Closing<\/th>\n",
       "      <th>Local value<\/th>\n",
       "      <th>Value in GBP<\/th>\n",
       "    <\/tr>\n",
       "    <tr>\n",
       "      <th>Symbol\/ISIN<\/th>\n",
       "      <th>Product<\/th>\n",
       "      <th><\/th>\n",
       "      <th><\/th>\n",
       "      <th><\/th>\n",
       "      <th><\/th>\n",
       "    <\/tr>\n",
       "  <\/thead>\n",
       "  <tbody>\n",
       "    <tr>\n",
       "      <th>US0231351067<\/th>\n",
       "      <th>AMAZON.COM INC. - COM<\/th>\n",
       "      <td>1<\/td>\n",
       "      <td>2261.1<\/td>\n",
       "      <td>USD 2261.10<\/td>\n",
       "      <td>1843.93<\/td>\n",
       "    <\/tr>\n",
       "    <tr>\n",
       "      <th>GG00B1GHHH78<\/th>\n",
       "      <th>VOLTA FIN<\/th>\n",
       "      <td>600<\/td>\n",
       "      <td>5.9<\/td>\n",
       "      <td>EUR 3540.00<\/td>\n",
       "      <td>3005.60<\/td>\n",
       "    <\/tr>\n",
       "  <\/tbody>\n",
       "<\/table>\n",
       "<\/div>"
      ]
     },
     "metadata":{
      
     },
     "output_type":"display_data"
    }
   ],
   "metadata":{
    "datalore":{
     "node_id":"VmMr4BZUYYppSNlL8ltNN3",
     "type":"CODE",
     "hide_input_from_viewers":false,
     "hide_output_from_viewers":false
    }
   }
  },
  {
   "cell_type":"markdown",
   "source":[
    "We can also sort by index this will sort by outer index, then by inner index \n",
    "\n",
    "This can be further refined with the level= and ascending= functions "
   ],
   "attachments":{
    
   },
   "metadata":{
    "datalore":{
     "node_id":"EBBqNZ8eyZcASC7OY0yPvn",
     "type":"MD",
     "hide_input_from_viewers":false,
     "hide_output_from_viewers":false
    }
   }
  },
  {
   "cell_type":"code",
   "source":[
    "portfolio_indexed_2 = portfolio_indexed_2.sort_index(level=[\"Symbol\/ISIN\", \"Product\"], ascending=[False, True])\n",
    "\n",
    "portfolio_indexed_2"
   ],
   "execution_count":10,
   "outputs":[
    {
     "data":{
      "text\/html":[
       "<div>\n",
       "<style scoped>\n",
       "    .dataframe tbody tr th:only-of-type {\n",
       "        vertical-align: middle;\n",
       "    }\n",
       "\n",
       "    .dataframe tbody tr th {\n",
       "        vertical-align: top;\n",
       "    }\n",
       "\n",
       "    .dataframe thead th {\n",
       "        text-align: right;\n",
       "    }\n",
       "<\/style>\n",
       "<table border=\"1\" class=\"dataframe\">\n",
       "  <thead>\n",
       "    <tr style=\"text-align: right;\">\n",
       "      <th><\/th>\n",
       "      <th><\/th>\n",
       "      <th>Amount<\/th>\n",
       "      <th>Closing<\/th>\n",
       "      <th>Local value<\/th>\n",
       "      <th>Value in GBP<\/th>\n",
       "    <\/tr>\n",
       "    <tr>\n",
       "      <th>Symbol\/ISIN<\/th>\n",
       "      <th>Product<\/th>\n",
       "      <th><\/th>\n",
       "      <th><\/th>\n",
       "      <th><\/th>\n",
       "      <th><\/th>\n",
       "    <\/tr>\n",
       "  <\/thead>\n",
       "  <tbody>\n",
       "    <tr>\n",
       "      <th>US98419M1009<\/th>\n",
       "      <th>XYLEM INC. COMMON STOC<\/th>\n",
       "      <td>4<\/td>\n",
       "      <td>83.91<\/td>\n",
       "      <td>USD 335.64<\/td>\n",
       "      <td>273.72<\/td>\n",
       "    <\/tr>\n",
       "    <tr>\n",
       "      <th>US8926721064<\/th>\n",
       "      <th>TRADEWEB MARKETS INC. - CLASS A...<\/th>\n",
       "      <td>30<\/td>\n",
       "      <td>67.27<\/td>\n",
       "      <td>USD 2018.10<\/td>\n",
       "      <td>1645.77<\/td>\n",
       "    <\/tr>\n",
       "    <tr>\n",
       "      <th>US8336351056<\/th>\n",
       "      <th>SOCIEDAD QUIMICA Y MIN<\/th>\n",
       "      <td>4<\/td>\n",
       "      <td>83.61<\/td>\n",
       "      <td>USD 334.44<\/td>\n",
       "      <td>272.74<\/td>\n",
       "    <\/tr>\n",
       "    <tr>\n",
       "      <th>US8334451098<\/th>\n",
       "      <th>SNOWFLAKE INC-CLASS A<\/th>\n",
       "      <td>1<\/td>\n",
       "      <td>158.36<\/td>\n",
       "      <td>USD 158.36<\/td>\n",
       "      <td>129.14<\/td>\n",
       "    <\/tr>\n",
       "    <tr>\n",
       "      <th>US78409V1044<\/th>\n",
       "      <th>S&amp;P GLOBAL INC<\/th>\n",
       "      <td>1<\/td>\n",
       "      <td>336.85<\/td>\n",
       "      <td>USD 336.85<\/td>\n",
       "      <td>274.70<\/td>\n",
       "    <\/tr>\n",
       "    <tr>\n",
       "      <th>...<\/th>\n",
       "      <th>...<\/th>\n",
       "      <td>...<\/td>\n",
       "      <td>...<\/td>\n",
       "      <td>...<\/td>\n",
       "      <td>...<\/td>\n",
       "    <\/tr>\n",
       "    <tr>\n",
       "      <th rowspan=\"5\" valign=\"top\">NaN<\/th>\n",
       "      <th>ES 3400 P 19DEC25<\/th>\n",
       "      <td>1<\/td>\n",
       "      <td>334.50<\/td>\n",
       "      <td>USD 16725.00<\/td>\n",
       "      <td>13639.30<\/td>\n",
       "    <\/tr>\n",
       "    <tr>\n",
       "      <th>ES 3600 P 17JUN22<\/th>\n",
       "      <td>-1<\/td>\n",
       "      <td>27.25<\/td>\n",
       "      <td>USD -1362.50<\/td>\n",
       "      <td>-1111.12<\/td>\n",
       "    <\/tr>\n",
       "    <tr>\n",
       "      <th>ES 3800 P 16DEC22<\/th>\n",
       "      <td>-1<\/td>\n",
       "      <td>218.75<\/td>\n",
       "      <td>USD -10937.50<\/td>\n",
       "      <td>-8919.57<\/td>\n",
       "    <\/tr>\n",
       "    <tr>\n",
       "      <th>ES 4000 P 18DEC26<\/th>\n",
       "      <td>-1<\/td>\n",
       "      <td>553.25<\/td>\n",
       "      <td>USD -27662.50<\/td>\n",
       "      <td>-22558.87<\/td>\n",
       "    <\/tr>\n",
       "    <tr>\n",
       "      <th>ES 4000 P 19DEC25<\/th>\n",
       "      <td>-1<\/td>\n",
       "      <td>526.50<\/td>\n",
       "      <td>USD -26325.00<\/td>\n",
       "      <td>-21468.13<\/td>\n",
       "    <\/tr>\n",
       "  <\/tbody>\n",
       "<\/table>\n",
       "<p>91 rows × 4 columns<\/p>\n",
       "<\/div>"
      ]
     },
     "metadata":{
      
     },
     "output_type":"display_data"
    }
   ],
   "metadata":{
    "datalore":{
     "node_id":"U2Eao2xts0adRZnlxWmGe4",
     "type":"CODE",
     "hide_input_from_viewers":false,
     "hide_output_from_viewers":false
    }
   }
  },
  {
   "cell_type":"code",
   "source":[
    "portfolio_indexed_2.sort_index(level=0)\n",
    "portfolio_indexed_2.sort_index(level=1)"
   ],
   "execution_count":11,
   "outputs":[
    {
     "data":{
      "text\/html":[
       "<div>\n",
       "<style scoped>\n",
       "    .dataframe tbody tr th:only-of-type {\n",
       "        vertical-align: middle;\n",
       "    }\n",
       "\n",
       "    .dataframe tbody tr th {\n",
       "        vertical-align: top;\n",
       "    }\n",
       "\n",
       "    .dataframe thead th {\n",
       "        text-align: right;\n",
       "    }\n",
       "<\/style>\n",
       "<table border=\"1\" class=\"dataframe\">\n",
       "  <thead>\n",
       "    <tr style=\"text-align: right;\">\n",
       "      <th><\/th>\n",
       "      <th><\/th>\n",
       "      <th>Amount<\/th>\n",
       "      <th>Closing<\/th>\n",
       "      <th>Local value<\/th>\n",
       "      <th>Value in GBP<\/th>\n",
       "    <\/tr>\n",
       "    <tr>\n",
       "      <th>Symbol\/ISIN<\/th>\n",
       "      <th>Product<\/th>\n",
       "      <th><\/th>\n",
       "      <th><\/th>\n",
       "      <th><\/th>\n",
       "      <th><\/th>\n",
       "    <\/tr>\n",
       "  <\/thead>\n",
       "  <tbody>\n",
       "    <tr>\n",
       "      <th>US0079031078<\/th>\n",
       "      <th>ADVANCED MICRO DEVICES<\/th>\n",
       "      <td>2<\/td>\n",
       "      <td>95.12<\/td>\n",
       "      <td>USD 190.24<\/td>\n",
       "      <td>155.14<\/td>\n",
       "    <\/tr>\n",
       "    <tr>\n",
       "      <th>NL0000235190<\/th>\n",
       "      <th>AIRBUS SE<\/th>\n",
       "      <td>3<\/td>\n",
       "      <td>106.38<\/td>\n",
       "      <td>EUR 319.14<\/td>\n",
       "      <td>270.96<\/td>\n",
       "    <\/tr>\n",
       "    <tr>\n",
       "      <th>US02079K1079<\/th>\n",
       "      <th>ALPHABET INC. - CLASS C<\/th>\n",
       "      <td>1<\/td>\n",
       "      <td>2330.31<\/td>\n",
       "      <td>USD 2330.31<\/td>\n",
       "      <td>1900.38<\/td>\n",
       "    <\/tr>\n",
       "    <tr>\n",
       "      <th>US0231351067<\/th>\n",
       "      <th>AMAZON.COM INC. - COM<\/th>\n",
       "      <td>1<\/td>\n",
       "      <td>2261.10<\/td>\n",
       "      <td>USD 2261.10<\/td>\n",
       "      <td>1843.93<\/td>\n",
       "    <\/tr>\n",
       "    <tr>\n",
       "      <th>GB0002634946<\/th>\n",
       "      <th>BAE SYS.<\/th>\n",
       "      <td>20<\/td>\n",
       "      <td>741.20<\/td>\n",
       "      <td>GBX 14824.00<\/td>\n",
       "      <td>148.24<\/td>\n",
       "    <\/tr>\n",
       "    <tr>\n",
       "      <th>...<\/th>\n",
       "      <th>...<\/th>\n",
       "      <td>...<\/td>\n",
       "      <td>...<\/td>\n",
       "      <td>...<\/td>\n",
       "      <td>...<\/td>\n",
       "    <\/tr>\n",
       "    <tr>\n",
       "      <th>GB00B10RZP78<\/th>\n",
       "      <th>UNILEVER<\/th>\n",
       "      <td>3<\/td>\n",
       "      <td>3747.00<\/td>\n",
       "      <td>GBX 11241.00<\/td>\n",
       "      <td>112.41<\/td>\n",
       "    <\/tr>\n",
       "    <tr>\n",
       "      <th>GG00B1GHHH78<\/th>\n",
       "      <th>VOLTA FIN<\/th>\n",
       "      <td>600<\/td>\n",
       "      <td>5.90<\/td>\n",
       "      <td>EUR 3540.00<\/td>\n",
       "      <td>3005.60<\/td>\n",
       "    <\/tr>\n",
       "    <tr>\n",
       "      <th>US2546871060<\/th>\n",
       "      <th>WALT DISNEY COMPANY (T<\/th>\n",
       "      <td>3<\/td>\n",
       "      <td>107.33<\/td>\n",
       "      <td>USD 321.99<\/td>\n",
       "      <td>262.58<\/td>\n",
       "    <\/tr>\n",
       "    <tr>\n",
       "      <th>LU0659578842<\/th>\n",
       "      <th>XTRACKERS MSCI SINGAPORE UCITS ...<\/th>\n",
       "      <td>1200<\/td>\n",
       "      <td>1.27<\/td>\n",
       "      <td>EUR 1524.48<\/td>\n",
       "      <td>1294.35<\/td>\n",
       "    <\/tr>\n",
       "    <tr>\n",
       "      <th>US98419M1009<\/th>\n",
       "      <th>XYLEM INC. COMMON STOC<\/th>\n",
       "      <td>4<\/td>\n",
       "      <td>83.91<\/td>\n",
       "      <td>USD 335.64<\/td>\n",
       "      <td>273.72<\/td>\n",
       "    <\/tr>\n",
       "  <\/tbody>\n",
       "<\/table>\n",
       "<p>91 rows × 4 columns<\/p>\n",
       "<\/div>"
      ]
     },
     "metadata":{
      
     },
     "output_type":"display_data"
    }
   ],
   "metadata":{
    "datalore":{
     "node_id":"NContaxmv1PVhEGlzJ2F7Q",
     "type":"CODE",
     "hide_input_from_viewers":false,
     "hide_output_from_viewers":false
    }
   }
  },
  {
   "cell_type":"markdown",
   "source":[
    "Indexes are v.useful however can violate some further big data principles i.e. \"tidy data\"\n",
    "\n",
    "They are annoying as the syntaxes for working with indexes is different to that with columns, so you have to learn two syntaxes"
   ],
   "attachments":{
    
   },
   "metadata":{
    "datalore":{
     "node_id":"LjrKNfjGI9rwACBAaToQNS",
     "type":"MD",
     "hide_input_from_viewers":false,
     "hide_output_from_viewers":false
    }
   }
  },
  {
   "cell_type":"markdown",
   "source":[
    "# Slicing & Subsetting"
   ],
   "attachments":{
    
   },
   "metadata":{
    "datalore":{
     "node_id":"r09dqEWmpM7sxiFNd2awj4",
     "type":"MD",
     "hide_input_from_viewers":false,
     "hide_output_from_viewers":false
    }
   }
  },
  {
   "cell_type":"markdown",
   "source":[
    "In regular python we can slice and subset lists. In base python we would do something like this list[1:4], remember slicing starts from 0. \n",
    "\n",
    "We can also slice dataframes, but first we need to sort the index otherwise it won't be useful \n",
    "\n",
    "To slice at the outer levels of the index we can use loc. This will not work for inner index levels though, be careful as pandas will not throw an error here, so you can think the index is empty when it is really an error! As such we must pass the elements as tuples \n",
    "\n",
    "We can slice on rows and columns\n",
    "\n",
    "One of the key benefits of slicing is to be able to slice by dates. We can slice by partial dates too i.e. \"2020\":\"2022\""
   ],
   "attachments":{
    
   },
   "metadata":{
    "datalore":{
     "node_id":"c6YJBNHryvQnLJ0RLAtAFJ",
     "type":"MD",
     "hide_input_from_viewers":false,
     "hide_output_from_viewers":false
    }
   }
  },
  {
   "cell_type":"code",
   "source":[
    "portfolio_indexed.loc[\"BLACKSTONE INC\":\"CARNIVAL\"]"
   ],
   "execution_count":12,
   "outputs":[
    {
     "data":{
      "text\/html":[
       "<div>\n",
       "<style scoped>\n",
       "    .dataframe tbody tr th:only-of-type {\n",
       "        vertical-align: middle;\n",
       "    }\n",
       "\n",
       "    .dataframe tbody tr th {\n",
       "        vertical-align: top;\n",
       "    }\n",
       "\n",
       "    .dataframe thead th {\n",
       "        text-align: right;\n",
       "    }\n",
       "<\/style>\n",
       "<table border=\"1\" class=\"dataframe\">\n",
       "  <thead>\n",
       "    <tr style=\"text-align: right;\">\n",
       "      <th><\/th>\n",
       "      <th>Symbol\/ISIN<\/th>\n",
       "      <th>Amount<\/th>\n",
       "      <th>Closing<\/th>\n",
       "      <th>Local value<\/th>\n",
       "      <th>Value in GBP<\/th>\n",
       "    <\/tr>\n",
       "    <tr>\n",
       "      <th>Product<\/th>\n",
       "      <th><\/th>\n",
       "      <th><\/th>\n",
       "      <th><\/th>\n",
       "      <th><\/th>\n",
       "      <th><\/th>\n",
       "    <\/tr>\n",
       "  <\/thead>\n",
       "  <tbody>\n",
       "    <tr>\n",
       "      <th>BLACKSTONE INC<\/th>\n",
       "      <td>US09260D1072<\/td>\n",
       "      <td>3<\/td>\n",
       "      <td>107.82<\/td>\n",
       "      <td>USD 323.46<\/td>\n",
       "      <td>263.78<\/td>\n",
       "    <\/tr>\n",
       "    <tr>\n",
       "      <th>BLUEFIELD SOLAR<\/th>\n",
       "      <td>GG00BB0RDB98<\/td>\n",
       "      <td>7000<\/td>\n",
       "      <td>133.00<\/td>\n",
       "      <td>GBX 931000.00<\/td>\n",
       "      <td>9310.00<\/td>\n",
       "    <\/tr>\n",
       "    <tr>\n",
       "      <th>BP<\/th>\n",
       "      <td>GB0007980591<\/td>\n",
       "      <td>40<\/td>\n",
       "      <td>414.70<\/td>\n",
       "      <td>GBX 16588.00<\/td>\n",
       "      <td>165.88<\/td>\n",
       "    <\/tr>\n",
       "    <tr>\n",
       "      <th>BR.LAND<\/th>\n",
       "      <td>GB0001367019<\/td>\n",
       "      <td>18<\/td>\n",
       "      <td>501.40<\/td>\n",
       "      <td>GBX 9025.20<\/td>\n",
       "      <td>90.25<\/td>\n",
       "    <\/tr>\n",
       "    <tr>\n",
       "      <th>CANOPY GROWTH CORPORATION COMMO...<\/th>\n",
       "      <td>CA1380351009<\/td>\n",
       "      <td>12<\/td>\n",
       "      <td>5.92<\/td>\n",
       "      <td>USD 71.04<\/td>\n",
       "      <td>57.93<\/td>\n",
       "    <\/tr>\n",
       "    <tr>\n",
       "      <th>CARNIVAL<\/th>\n",
       "      <td>GB0031215220<\/td>\n",
       "      <td>36<\/td>\n",
       "      <td>1072.00<\/td>\n",
       "      <td>GBX 38592.00<\/td>\n",
       "      <td>385.92<\/td>\n",
       "    <\/tr>\n",
       "  <\/tbody>\n",
       "<\/table>\n",
       "<\/div>"
      ]
     },
     "metadata":{
      
     },
     "output_type":"display_data"
    }
   ],
   "metadata":{
    "datalore":{
     "node_id":"0WNQ07yuTGvXaTHE7lO7RQ",
     "type":"CODE",
     "hide_input_from_viewers":false,
     "hide_output_from_viewers":false
    }
   }
  },
  {
   "cell_type":"code",
   "source":[
    "# portfolio_indexed_2.index.is_monotonic_increasing\n",
    "\n",
    "portfolio_indexed_2.loc[(\"US0079031078\", \"ADVANCED MICRO DEVICES\"):(\"US0231351067\", \"AMAZON.COM INC. - COM\")]"
   ],
   "execution_count":13,
   "outputs":[
    {
     "ename":"UnsortedIndexError",
     "evalue":"UnsortedIndexError: 'Key length (2) was greater than MultiIndex lexsort depth (0)'",
     "traceback":[
      "\u001b[0;31m---------------------------------------------------------------------------",
      "Traceback (most recent call last)",
      "    at line 3 in <module>",
      "    at line 931 in __getitem__(self, key)",
      "    at line 1142 in _getitem_axis(self, key, axis)",
      "    at line 1176 in _get_slice_axis(self, slice_obj, axis)",
      "    at line 5685 in slice_indexer(self, start, end, step, kind)",
      "    at line 2793 in slice_locs(self, start, end, step, kind)",
      "    at line 5887 in slice_locs(self, start, end, step, kind)",
      "    at line 2737 in get_slice_bound(self, label, side, kind)",
      "    at line 2797 in _partial_tup_index(self, tup, side)",
      "UnsortedIndexError: 'Key length (2) was greater than MultiIndex lexsort depth (0)'"
     ],
     "output_type":"error"
    }
   ],
   "metadata":{
    "datalore":{
     "node_id":"oE4c49RWP9RxZdeoc1AZ79",
     "type":"CODE",
     "hide_input_from_viewers":false,
     "hide_output_from_viewers":false
    }
   }
  },
  {
   "cell_type":"code",
   "source":[
    "portfolio_indexed_2.loc[:, \"ADVANCED MICRO DEVICES\", \"UNILEVER\"]"
   ],
   "execution_count":73,
   "outputs":[
    {
     "ename":"IndexError",
     "evalue":"IndexError: list index out of range",
     "traceback":[
      "\u001b[0;31m---------------------------------------------------------------------------",
      "Traceback (most recent call last)",
      "    at line 1 in <module>",
      "    at line 925 in __getitem__(self, key)",
      "    at line 1100 in _getitem_tuple(self, tup)",
      "    at line 822 in _getitem_lowerdim(self, tup)",
      "    at line 892 in _getitem_nested_tuple(self, tup)",
      "    at line 1138 in _getitem_axis(self, key, axis)",
      "    at line 2639 in _get_partial_string_timestamp_match_key(self, key)",
      "    at line 70 in __getitem__(self, n)",
      "IndexError: list index out of range"
     ],
     "output_type":"error"
    }
   ],
   "metadata":{
    "datalore":{
     "node_id":"ozPe6ntwkvYBVCDA4h4Fxh",
     "type":"CODE",
     "hide_input_from_viewers":false,
     "hide_output_from_viewers":false
    }
   }
  },
  {
   "cell_type":"code",
   "source":[
    "portfolio_indexed.loc[\"BLACKSTONE INC\":\"CARNIVAL\", \"Amount\":\"Local value\" ]"
   ],
   "execution_count":79,
   "outputs":[
    {
     "data":{
      "text\/html":[
       "<div>\n",
       "<style scoped>\n",
       "    .dataframe tbody tr th:only-of-type {\n",
       "        vertical-align: middle;\n",
       "    }\n",
       "\n",
       "    .dataframe tbody tr th {\n",
       "        vertical-align: top;\n",
       "    }\n",
       "\n",
       "    .dataframe thead th {\n",
       "        text-align: right;\n",
       "    }\n",
       "<\/style>\n",
       "<table border=\"1\" class=\"dataframe\">\n",
       "  <thead>\n",
       "    <tr style=\"text-align: right;\">\n",
       "      <th><\/th>\n",
       "      <th>Amount<\/th>\n",
       "      <th>Closing<\/th>\n",
       "      <th>Local value<\/th>\n",
       "    <\/tr>\n",
       "    <tr>\n",
       "      <th>Product<\/th>\n",
       "      <th><\/th>\n",
       "      <th><\/th>\n",
       "      <th><\/th>\n",
       "    <\/tr>\n",
       "  <\/thead>\n",
       "  <tbody>\n",
       "    <tr>\n",
       "      <th>BLACKSTONE INC<\/th>\n",
       "      <td>3<\/td>\n",
       "      <td>107.82<\/td>\n",
       "      <td>USD 323.46<\/td>\n",
       "    <\/tr>\n",
       "    <tr>\n",
       "      <th>BLUEFIELD SOLAR<\/th>\n",
       "      <td>7000<\/td>\n",
       "      <td>133.00<\/td>\n",
       "      <td>GBX 931000.00<\/td>\n",
       "    <\/tr>\n",
       "    <tr>\n",
       "      <th>BP<\/th>\n",
       "      <td>40<\/td>\n",
       "      <td>414.70<\/td>\n",
       "      <td>GBX 16588.00<\/td>\n",
       "    <\/tr>\n",
       "    <tr>\n",
       "      <th>BR.LAND<\/th>\n",
       "      <td>18<\/td>\n",
       "      <td>501.40<\/td>\n",
       "      <td>GBX 9025.20<\/td>\n",
       "    <\/tr>\n",
       "    <tr>\n",
       "      <th>CANOPY GROWTH CORPORATION COMMO...<\/th>\n",
       "      <td>12<\/td>\n",
       "      <td>5.92<\/td>\n",
       "      <td>USD 71.04<\/td>\n",
       "    <\/tr>\n",
       "    <tr>\n",
       "      <th>CARNIVAL<\/th>\n",
       "      <td>36<\/td>\n",
       "      <td>1072.00<\/td>\n",
       "      <td>GBX 38592.00<\/td>\n",
       "    <\/tr>\n",
       "  <\/tbody>\n",
       "<\/table>\n",
       "<\/div>"
      ]
     },
     "metadata":{
      
     },
     "output_type":"display_data"
    }
   ],
   "metadata":{
    "datalore":{
     "node_id":"5qILHHOyNV1r3O4AalM31D",
     "type":"CODE",
     "hide_input_from_viewers":false,
     "hide_output_from_viewers":false
    }
   }
  },
  {
   "cell_type":"markdown",
   "source":[
    "We can also slice datasets using the iloc method, integer loc, this is similar to the format we saw before with lists "
   ],
   "attachments":{
    
   },
   "metadata":{
    "datalore":{
     "node_id":"NSpCl0Gkz4WZzGIAHypuyc",
     "type":"MD",
     "hide_input_from_viewers":false,
     "hide_output_from_viewers":false
    }
   }
  },
  {
   "cell_type":"markdown",
   "source":[
    "# Pivot Tables"
   ],
   "attachments":{
    
   },
   "metadata":{
    "datalore":{
     "node_id":"TJKgh98ZdqsZhsBtUn1MLF",
     "type":"MD",
     "hide_input_from_viewers":false,
     "hide_output_from_viewers":false
    }
   }
  },
  {
   "cell_type":"markdown",
   "source":[
    "Pivot tables have sorted indexes so we can use functions like loc that we have already seen \n",
    "\n",
    "We can calculate values such as the mean by using an axis argument i.e. .mean(axis=\"index\"). If we want to calculate across columns we can use the axis=\"columns\" argument "
   ],
   "attachments":{
    
   },
   "metadata":{
    "datalore":{
     "node_id":"mYbrU4ltOtXSOAvlTLCvKb",
     "type":"MD",
     "hide_input_from_viewers":false,
     "hide_output_from_viewers":false
    }
   }
  },
  {
   "cell_type":"code",
   "source":[
    "port_pivot = portfolio.pivot_table(values=\"Value in GBP\", index=\"Product\")\n",
    "\n",
    "port_pivot"
   ],
   "execution_count":16,
   "outputs":[
    {
     "data":{
      "text\/html":[
       "<div>\n",
       "<style scoped>\n",
       "    .dataframe tbody tr th:only-of-type {\n",
       "        vertical-align: middle;\n",
       "    }\n",
       "\n",
       "    .dataframe tbody tr th {\n",
       "        vertical-align: top;\n",
       "    }\n",
       "\n",
       "    .dataframe thead th {\n",
       "        text-align: right;\n",
       "    }\n",
       "<\/style>\n",
       "<table border=\"1\" class=\"dataframe\">\n",
       "  <thead>\n",
       "    <tr style=\"text-align: right;\">\n",
       "      <th><\/th>\n",
       "      <th>Value in GBP<\/th>\n",
       "    <\/tr>\n",
       "    <tr>\n",
       "      <th>Product<\/th>\n",
       "      <th><\/th>\n",
       "    <\/tr>\n",
       "  <\/thead>\n",
       "  <tbody>\n",
       "    <tr>\n",
       "      <th>ADVANCED MICRO DEVICES<\/th>\n",
       "      <td>155.14<\/td>\n",
       "    <\/tr>\n",
       "    <tr>\n",
       "      <th>AIRBUS SE<\/th>\n",
       "      <td>270.96<\/td>\n",
       "    <\/tr>\n",
       "    <tr>\n",
       "      <th>ALPHABET INC. - CLASS C<\/th>\n",
       "      <td>1900.38<\/td>\n",
       "    <\/tr>\n",
       "    <tr>\n",
       "      <th>AMAZON.COM INC. - COM<\/th>\n",
       "      <td>1843.93<\/td>\n",
       "    <\/tr>\n",
       "    <tr>\n",
       "      <th>BAE SYS.<\/th>\n",
       "      <td>148.24<\/td>\n",
       "    <\/tr>\n",
       "    <tr>\n",
       "      <th>...<\/th>\n",
       "      <td>...<\/td>\n",
       "    <\/tr>\n",
       "    <tr>\n",
       "      <th>UNILEVER<\/th>\n",
       "      <td>112.41<\/td>\n",
       "    <\/tr>\n",
       "    <tr>\n",
       "      <th>VOLTA FIN<\/th>\n",
       "      <td>3005.60<\/td>\n",
       "    <\/tr>\n",
       "    <tr>\n",
       "      <th>WALT DISNEY COMPANY (T<\/th>\n",
       "      <td>262.58<\/td>\n",
       "    <\/tr>\n",
       "    <tr>\n",
       "      <th>XTRACKERS MSCI SINGAPORE UCITS ...<\/th>\n",
       "      <td>1294.35<\/td>\n",
       "    <\/tr>\n",
       "    <tr>\n",
       "      <th>XYLEM INC. COMMON STOC<\/th>\n",
       "      <td>273.72<\/td>\n",
       "    <\/tr>\n",
       "  <\/tbody>\n",
       "<\/table>\n",
       "<p>91 rows × 1 columns<\/p>\n",
       "<\/div>"
      ]
     },
     "metadata":{
      
     },
     "output_type":"display_data"
    }
   ],
   "metadata":{
    "datalore":{
     "node_id":"pbaOB2zmOCSF446PiLk8Vs",
     "type":"CODE",
     "hide_input_from_viewers":false,
     "hide_output_from_viewers":false
    }
   }
  },
  {
   "cell_type":"code",
   "source":[
    "port_pivot.loc[\"BAE SYS.\":\"BLUEFIELD SOLAR\"]"
   ],
   "execution_count":18,
   "outputs":[
    {
     "data":{
      "text\/html":[
       "<div>\n",
       "<style scoped>\n",
       "    .dataframe tbody tr th:only-of-type {\n",
       "        vertical-align: middle;\n",
       "    }\n",
       "\n",
       "    .dataframe tbody tr th {\n",
       "        vertical-align: top;\n",
       "    }\n",
       "\n",
       "    .dataframe thead th {\n",
       "        text-align: right;\n",
       "    }\n",
       "<\/style>\n",
       "<table border=\"1\" class=\"dataframe\">\n",
       "  <thead>\n",
       "    <tr style=\"text-align: right;\">\n",
       "      <th><\/th>\n",
       "      <th>Value in GBP<\/th>\n",
       "    <\/tr>\n",
       "    <tr>\n",
       "      <th>Product<\/th>\n",
       "      <th><\/th>\n",
       "    <\/tr>\n",
       "  <\/thead>\n",
       "  <tbody>\n",
       "    <tr>\n",
       "      <th>BAE SYS.<\/th>\n",
       "      <td>148.24<\/td>\n",
       "    <\/tr>\n",
       "    <tr>\n",
       "      <th>BLACKROCK INC. COMMON<\/th>\n",
       "      <td>501.80<\/td>\n",
       "    <\/tr>\n",
       "    <tr>\n",
       "      <th>BLACKSTONE GSO£<\/th>\n",
       "      <td>950.40<\/td>\n",
       "    <\/tr>\n",
       "    <tr>\n",
       "      <th>BLACKSTONE INC<\/th>\n",
       "      <td>263.78<\/td>\n",
       "    <\/tr>\n",
       "    <tr>\n",
       "      <th>BLUEFIELD SOLAR<\/th>\n",
       "      <td>9310.00<\/td>\n",
       "    <\/tr>\n",
       "  <\/tbody>\n",
       "<\/table>\n",
       "<\/div>"
      ]
     },
     "metadata":{
      
     },
     "output_type":"display_data"
    }
   ],
   "metadata":{
    "datalore":{
     "node_id":"6FM6nLVLim5yV3EejlLcT1",
     "type":"CODE",
     "hide_input_from_viewers":false,
     "hide_output_from_viewers":false
    }
   }
  },
  {
   "cell_type":"code",
   "source":[
    "port_pivot.mean(axis=\"index\")"
   ],
   "execution_count":19,
   "outputs":[
    {
     "data":{
      "text\/html":[
       "<pre>Value in GBP    1976.114615\n",
       "dtype: float64<\/pre>"
      ]
     },
     "metadata":{
      
     },
     "output_type":"display_data"
    }
   ],
   "metadata":{
    "datalore":{
     "node_id":"OEVnEaZ7rjCIaJrnfkaDLY",
     "type":"CODE",
     "hide_input_from_viewers":false,
     "hide_output_from_viewers":false
    }
   }
  }
 ],
 "metadata":{
  "kernelspec":{
   "display_name":"Python",
   "language":"python",
   "name":"python"
  },
  "datalore":{
   "version":1,
   "computation_mode":"JUPYTER",
   "package_manager":"pip",
   "base_environment":"default",
   "packages":[
    
   ]
  }
 },
 "nbformat":4,
 "nbformat_minor":4
}