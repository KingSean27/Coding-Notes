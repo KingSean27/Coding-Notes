{
 "cells":[
  {
   "cell_type":"markdown",
   "source":[
    "# Intro to Pandas"
   ],
   "attachments":{
    
   },
   "metadata":{
    "datalore":{
     "node_id":"YX9XB2a2r1R30LlNczQKOa",
     "type":"MD",
     "hide_input_from_viewers":false,
     "hide_output_from_viewers":false
    }
   }
  },
  {
   "cell_type":"markdown",
   "source":[
    "pandas is built on top of NumPy and Matplotlib. It stores data in rectangular data frames as we know, note R and SQL have similar data structures. Each value in a column must have the same datatype.\n",
    "\n",
    "We can see the first few lines using the **.head()** fucntion\n",
    "\n",
    "The names and datatypes of columns using **.info()**\n",
    "\n",
    "**.shape** to see the number of rows and columns. Note as this is an attribute and not a method we write it without using parenthesis \n",
    "\n",
    "**.describe()** gives some headline statistics for the data frame"
   ],
   "attachments":{
    
   },
   "metadata":{
    "datalore":{
     "node_id":"iTNHNJG9EUgJAQxbrV7YME",
     "type":"MD",
     "hide_input_from_viewers":false,
     "hide_output_from_viewers":false
    }
   }
  },
  {
   "cell_type":"code",
   "source":[
    "import pandas as pd\n",
    "import numpy as np \n",
    "\n",
    "portfolio = pd.read_csv(\"\/data\/workspace_files\/investment_portfolio.csv\")\n",
    "portfolio.head()"
   ],
   "execution_count":1,
   "outputs":[
    {
     "data":{
      "text\/html":[
       "<div>\n",
       "<style scoped>\n",
       "    .dataframe tbody tr th:only-of-type {\n",
       "        vertical-align: middle;\n",
       "    }\n",
       "\n",
       "    .dataframe tbody tr th {\n",
       "        vertical-align: top;\n",
       "    }\n",
       "\n",
       "    .dataframe thead th {\n",
       "        text-align: right;\n",
       "    }\n",
       "<\/style>\n",
       "<table border=\"1\" class=\"dataframe\">\n",
       "  <thead>\n",
       "    <tr style=\"text-align: right;\">\n",
       "      <th><\/th>\n",
       "      <th>Product<\/th>\n",
       "      <th>Symbol\/ISIN<\/th>\n",
       "      <th>Amount<\/th>\n",
       "      <th>Closing<\/th>\n",
       "      <th>Local value<\/th>\n",
       "      <th>Value in GBP<\/th>\n",
       "    <\/tr>\n",
       "  <\/thead>\n",
       "  <tbody>\n",
       "    <tr>\n",
       "      <th>0<\/th>\n",
       "      <td>ADVANCED MICRO DEVICES<\/td>\n",
       "      <td>US0079031078<\/td>\n",
       "      <td>2<\/td>\n",
       "      <td>95.12<\/td>\n",
       "      <td>USD 190.24<\/td>\n",
       "      <td>155.14<\/td>\n",
       "    <\/tr>\n",
       "    <tr>\n",
       "      <th>1<\/th>\n",
       "      <td>AIRBUS SE<\/td>\n",
       "      <td>NL0000235190<\/td>\n",
       "      <td>3<\/td>\n",
       "      <td>106.38<\/td>\n",
       "      <td>EUR 319.14<\/td>\n",
       "      <td>270.96<\/td>\n",
       "    <\/tr>\n",
       "    <tr>\n",
       "      <th>2<\/th>\n",
       "      <td>ALPHABET INC. - CLASS C<\/td>\n",
       "      <td>US02079K1079<\/td>\n",
       "      <td>1<\/td>\n",
       "      <td>2330.31<\/td>\n",
       "      <td>USD 2330.31<\/td>\n",
       "      <td>1900.38<\/td>\n",
       "    <\/tr>\n",
       "    <tr>\n",
       "      <th>3<\/th>\n",
       "      <td>AMAZON.COM INC. - COM<\/td>\n",
       "      <td>US0231351067<\/td>\n",
       "      <td>1<\/td>\n",
       "      <td>2261.10<\/td>\n",
       "      <td>USD 2261.10<\/td>\n",
       "      <td>1843.93<\/td>\n",
       "    <\/tr>\n",
       "    <tr>\n",
       "      <th>4<\/th>\n",
       "      <td>BAE SYS.<\/td>\n",
       "      <td>GB0002634946<\/td>\n",
       "      <td>20<\/td>\n",
       "      <td>741.20<\/td>\n",
       "      <td>GBX 14824.00<\/td>\n",
       "      <td>148.24<\/td>\n",
       "    <\/tr>\n",
       "  <\/tbody>\n",
       "<\/table>\n",
       "<\/div>"
      ]
     },
     "metadata":{
      
     },
     "output_type":"display_data"
    }
   ],
   "metadata":{
    "datalore":{
     "node_id":"UmjED4NxDad8xHH3rmJ0pM",
     "type":"CODE",
     "hide_input_from_viewers":false,
     "hide_output_from_viewers":false
    }
   }
  },
  {
   "cell_type":"code",
   "source":[
    "portfolio.info()"
   ],
   "execution_count":2,
   "outputs":[
    {
     "name":"stdout",
     "text":[
      "<class 'pandas.core.frame.DataFrame'>\n",
      "RangeIndex: 91 entries, 0 to 90\n",
      "Data columns (total 6 columns):\n",
      " #   Column        Non-Null Count  Dtype  \n",
      "---  ------        --------------  -----  \n",
      " 0   Product       91 non-null     object \n",
      " 1   Symbol\/ISIN   83 non-null     object \n",
      " 2   Amount        91 non-null     int64  \n",
      " 3   Closing       91 non-null     float64\n",
      " 4   Local value   91 non-null     object \n",
      " 5   Value in GBP  91 non-null     float64\n",
      "dtypes: float64(2), int64(1), object(3)\n",
      "memory usage: 4.4+ KB\n"
     ],
     "output_type":"stream"
    }
   ],
   "metadata":{
    "datalore":{
     "node_id":"Bv59eAXKJQun0WwXRyDLOf",
     "type":"CODE",
     "hide_input_from_viewers":false,
     "hide_output_from_viewers":false
    }
   }
  },
  {
   "cell_type":"code",
   "source":[
    "portfolio.shape"
   ],
   "execution_count":3,
   "outputs":[
    {
     "data":{
      "text\/plain":[
       "(91, 6)"
      ]
     },
     "metadata":{
      
     },
     "output_type":"display_data"
    }
   ],
   "metadata":{
    "datalore":{
     "node_id":"Z5uqB5aneSgkQ9rRVMWnql",
     "type":"CODE",
     "hide_input_from_viewers":false,
     "hide_output_from_viewers":false
    }
   }
  },
  {
   "cell_type":"code",
   "source":[
    "portfolio.describe()"
   ],
   "execution_count":4,
   "outputs":[
    {
     "data":{
      "text\/html":[
       "<div>\n",
       "<style scoped>\n",
       "    .dataframe tbody tr th:only-of-type {\n",
       "        vertical-align: middle;\n",
       "    }\n",
       "\n",
       "    .dataframe tbody tr th {\n",
       "        vertical-align: top;\n",
       "    }\n",
       "\n",
       "    .dataframe thead th {\n",
       "        text-align: right;\n",
       "    }\n",
       "<\/style>\n",
       "<table border=\"1\" class=\"dataframe\">\n",
       "  <thead>\n",
       "    <tr style=\"text-align: right;\">\n",
       "      <th><\/th>\n",
       "      <th>Amount<\/th>\n",
       "      <th>Closing<\/th>\n",
       "      <th>Value in GBP<\/th>\n",
       "    <\/tr>\n",
       "  <\/thead>\n",
       "  <tbody>\n",
       "    <tr>\n",
       "      <th>count<\/th>\n",
       "      <td>91.000000<\/td>\n",
       "      <td>91.000000<\/td>\n",
       "      <td>91.000000<\/td>\n",
       "    <\/tr>\n",
       "    <tr>\n",
       "      <th>mean<\/th>\n",
       "      <td>240.142857<\/td>\n",
       "      <td>1598.079231<\/td>\n",
       "      <td>1976.114615<\/td>\n",
       "    <\/tr>\n",
       "    <tr>\n",
       "      <th>std<\/th>\n",
       "      <td>821.312819<\/td>\n",
       "      <td>3599.125363<\/td>\n",
       "      <td>6432.638929<\/td>\n",
       "    <\/tr>\n",
       "    <tr>\n",
       "      <th>min<\/th>\n",
       "      <td>-1.000000<\/td>\n",
       "      <td>1.270000<\/td>\n",
       "      <td>-22558.870000<\/td>\n",
       "    <\/tr>\n",
       "    <tr>\n",
       "      <th>25%<\/th>\n",
       "      <td>2.500000<\/td>\n",
       "      <td>98.800000<\/td>\n",
       "      <td>157.080000<\/td>\n",
       "    <\/tr>\n",
       "    <tr>\n",
       "      <th>50%<\/th>\n",
       "      <td>12.000000<\/td>\n",
       "      <td>402.480000<\/td>\n",
       "      <td>521.400000<\/td>\n",
       "    <\/tr>\n",
       "    <tr>\n",
       "      <th>75%<\/th>\n",
       "      <td>80.500000<\/td>\n",
       "      <td>2022.250000<\/td>\n",
       "      <td>2264.250000<\/td>\n",
       "    <\/tr>\n",
       "    <tr>\n",
       "      <th>max<\/th>\n",
       "      <td>7000.000000<\/td>\n",
       "      <td>24698.000000<\/td>\n",
       "      <td>32832.170000<\/td>\n",
       "    <\/tr>\n",
       "  <\/tbody>\n",
       "<\/table>\n",
       "<\/div>"
      ]
     },
     "metadata":{
      
     },
     "output_type":"display_data"
    }
   ],
   "metadata":{
    "datalore":{
     "node_id":"D690ML2KvlgcjzySpdjd72",
     "type":"CODE",
     "hide_input_from_viewers":false,
     "hide_output_from_viewers":false
    }
   }
  },
  {
   "cell_type":"markdown",
   "source":[
    "There are three components to a data frame **values, columns and index**. These are accessed by using the appropriate attributes. Pandas does not follow the Python ethos of there being one way to do things so often there are multiple and things can get quite complicated"
   ],
   "attachments":{
    
   },
   "metadata":{
    "datalore":{
     "node_id":"H7JYKYuxAfWRoRtihPJXOD",
     "type":"MD",
     "hide_input_from_viewers":false,
     "hide_output_from_viewers":false
    }
   }
  },
  {
   "cell_type":"code",
   "source":[
    "portfolio.values"
   ],
   "execution_count":5,
   "outputs":[
    {
     "data":{
      "text\/html":[
       "<pre>array([['ADVANCED MICRO DEVICES', 'US0079031078', 2, 95.12, 'USD 190.24',\n",
       "        155.14],\n",
       "       ['AIRBUS SE', 'NL0000235190', 3, 106.38, 'EUR 319.14', 270.96],\n",
       "       ['ALPHABET INC. - CLASS C', 'US02079K1079', 1, 2330.31,\n",
       "        'USD 2330.31', 1900.38],\n",
       "       ['AMAZON.COM INC. - COM', 'US0231351067', 1, 2261.1,\n",
       "        'USD 2261.10', 1843.93],\n",
       "       ['BAE SYS.', 'GB0002634946', 20, 741.2, 'GBX 14824.00', 148.24],\n",
       "       ['BLACKROCK INC. COMMON', 'US09247X1019', 1, 615.33, 'USD 615.33',\n",
       "        501.8],\n",
       "       ['BLACKSTONE GSO£', 'JE00BNCB5T53', 1485, 64.0, 'GBX 95040.00',\n",
       "        950.4],\n",
       "       ['BLACKSTONE INC', 'US09260D1072', 3, 107.82, 'USD 323.46',\n",
       "        263.78],\n",
       "       ['BLUEFIELD SOLAR', 'GG00BB0RDB98', 7000, 133.0, 'GBX 931000.00',\n",
       "        9310.0],\n",
       "       ['BP', 'GB0007980591', 40, 414.7, 'GBX 16588.00', 165.88],\n",
       "       ['BR.LAND', 'GB0001367019', 18, 501.4, 'GBX 9025.20', 90.25],\n",
       "       ['CANOPY GROWTH CORPORATION COMMO...', 'CA1380351009', 12, 5.92,\n",
       "        'USD 71.04', 57.93],\n",
       "       ['CARNIVAL', 'GB0031215220', 36, 1072.0, 'GBX 38592.00', 385.92],\n",
       "       ['CLOUDFLARE INC. CLASS A COMMON ...', 'US18915M1071', 5, 66.38,\n",
       "        'USD 331.90', 270.67],\n",
       "       ['CME GROUP INC. - CLASS', 'US12572Q1058', 2, 200.1, 'USD 400.20',\n",
       "        326.36],\n",
       "       ['DBX FTSE VIETNM', 'LU0322252924', 60, 2804.0, 'GBX 168240.00',\n",
       "        1682.4],\n",
       "       ['DBX MSCI CHINA', 'LU0514695690', 400, 1188.0, 'GBX 475200.00',\n",
       "        4752.0],\n",
       "       ['DBX MSCI INDIA', 'LU0514695187', 200, 1220.75, 'GBX 244150.00',\n",
       "        2441.5],\n",
       "       ['DBX MSCI MALAY', 'LU0514694370', 60, 869.0, 'GBX 52140.00',\n",
       "        521.4],\n",
       "       ['DIAGEO', 'GB0002374006', 4, 3823.5, 'GBX 15294.00', 152.94],\n",
       "       ['EASYJET', 'GB00B7KR2P84', 91, 498.7, 'GBX 45381.70', 453.82],\n",
       "       ['ES 3000 P 17JUN22', nan, 1, 3.9, 'USD 195.00', 159.02],\n",
       "       ['ES 3200 P 16DEC22', nan, 1, 89.25, 'USD 4462.50', 3639.18],\n",
       "       ['ES 3400 P 18DEC26', nan, 1, 357.0, 'USD 17850.00', 14556.74],\n",
       "       ['ES 3400 P 19DEC25', nan, 1, 334.5, 'USD 16725.00', 13639.3],\n",
       "       ['ES 3600 P 17JUN22', nan, -1, 27.25, 'USD -1362.50', -1111.12],\n",
       "       ['ES 3800 P 16DEC22', nan, -1, 218.75, 'USD -10937.50', -8919.57],\n",
       "       ['ES 4000 P 18DEC26', nan, -1, 553.25, 'USD -27662.50', -22558.87],\n",
       "       ['ES 4000 P 19DEC25', nan, -1, 526.5, 'USD -26325.00', -21468.13],\n",
       "       ['EXPERIAN', 'GB00B19NLV48', 5, 2696.0, 'GBX 13480.00', 134.8],\n",
       "       ['FLATEXDEGIRO AG', 'DE000FTG1111', 12, 13.86, 'EUR 166.32',\n",
       "        141.21],\n",
       "       ['GLAXOSMITHKLINE', 'GB0009252882', 6, 1755.4, 'GBX 10532.40',\n",
       "        105.32],\n",
       "       ['GOLDMAN SACHS GROUP I', 'US38141G1040', 1, 306.99, 'USD 306.99',\n",
       "        250.35],\n",
       "       ['HARGREAVES LANS', 'GB00B1VZ0M25', 12, 884.6, 'GBX 10615.20',\n",
       "        106.15],\n",
       "       ['HEND.FAR EAST', 'JE00B1GXH751', 2000, 290.0, 'GBX 580000.00',\n",
       "        5800.0],\n",
       "       ['HSBC HLDGS.UK', 'GB0005405286', 14, 501.4, 'GBX 7019.60', 70.2],\n",
       "       ['HUNTINGTON INGALLS IND', 'US4464131063', 3, 203.78,\n",
       "        'USD 611.34', 498.55],\n",
       "       ['ILLUMINA INC. - COMMO', 'US4523271090', 1, 233.56, 'USD 233.56',\n",
       "        190.47],\n",
       "       ['IS SP HEALTH', 'IE00B43HR379', 120, 9.8, 'USD 1176.60', 959.52],\n",
       "       ['ISH AUTO & ROBO', 'IE00BYZK4552', 260, 9.91, 'USD 2577.25',\n",
       "        2101.76],\n",
       "       ['ISH COREFTSE100', 'IE0005042456', 700, 732.3, 'GBX 512610.00',\n",
       "        5126.1],\n",
       "       ['ISHARES NASDAQ US BIOTECHNOLOGY...', 'IE00BYXG2H39', 1200, 4.95,\n",
       "        'EUR 5943.00', 5045.85],\n",
       "       ['ISHARES STOXX EUROPE 600 HEALTH...', 'DE000A0Q4R36', 15, 102.48,\n",
       "        'EUR 1537.20', 1305.15],\n",
       "       ['ISHARES STOXX EUROPE 600 TECHNO...', 'DE000A0H08Q4', 30, 57.34,\n",
       "        'EUR 1720.20', 1460.52],\n",
       "       ['ISHR ASIA PROP', 'IE00B1FZS244', 500, 1966.25, 'GBX 983125.00',\n",
       "        9831.25],\n",
       "       ['ISHR AUSTRALIA', 'IE00B5377D42', 60, 3525.0, 'GBX 211500.00',\n",
       "        2115.0],\n",
       "       ['ISHR EM LATAM I', 'IE00B27YCK28', 200, 1206.75, 'GBX 241350.00',\n",
       "        2413.5],\n",
       "       ['ISHR EU PROP', 'IE00B0M63284', 400, 3013.0, 'GBX 1205200.00',\n",
       "        12052.0],\n",
       "       ['ISHR EU STX SML', 'IE00B02KXM00', 38, 3730.25, 'GBX 141749.50',\n",
       "        1417.5],\n",
       "       ['ISHR EUR HY COR', 'IE00B66F4759', 45, 79.08, 'GBP 3558.38',\n",
       "        3558.38],\n",
       "       ['ISHR EUR X-UK', 'IE00B14X4N27', 40, 3159.5, 'GBX 126380.00',\n",
       "        1263.8],\n",
       "       ['ISHR G CLEAN E', 'IE00B1XNHC34', 200, 823.0, 'GBX 164600.00',\n",
       "        1646.0],\n",
       "       ['ISHR JPM $ EMB', 'IE00B2NPKV68', 70, 7266.0, 'GBX 508620.00',\n",
       "        5086.2],\n",
       "       ['ISHR JPN SC-I', 'IE00B2QWDY88', 40, 36.16, 'USD 1446.20',\n",
       "        1179.38],\n",
       "       ['ISHR KOREA A', 'IE00B5W4TY14', 20, 167.34, 'USD 3346.90',\n",
       "        2729.41],\n",
       "       ['ISHR L P EQ', 'IE00B1TXHL60', 100, 2078.25, 'GBX 207825.00',\n",
       "        2078.25],\n",
       "       ['ISHR MSCI EM SC', 'IE00B3F81G20', 20, 76.61, 'USD 1532.20',\n",
       "        1249.51],\n",
       "       ['ISHR MSCI EM-I', 'IE00B0M63177', 100, 3203.12, 'GBX 320312.50',\n",
       "        3203.13],\n",
       "       ['ISHR MSCI UK SC', 'IE00B3VWLG82', 10, 21080.0, 'GBX 210800.00',\n",
       "        2108.0],\n",
       "       ['ISHR PAC X-JPNI', 'IE00B4WXJD03', 40, 43.64, 'USD 1745.60',\n",
       "        1423.54],\n",
       "       ['ISHR SC 600', 'IE00B2QWCY14', 40, 6467.0, 'GBX 258680.00',\n",
       "        2586.8],\n",
       "       ['ISHR UK PROP', 'IE00B1TXLS18', 1500, 589.5, 'GBX 884250.00',\n",
       "        8842.5],\n",
       "       ['ISHR US PROP', 'IE00B1FZSF77', 474, 2506.0, 'GBX 1187844.00',\n",
       "        11878.44],\n",
       "       ['ISHRC MSCI JPN', 'IE00B4L5YX21', 30, 3530.0, 'GBX 105900.00',\n",
       "        1059.0],\n",
       "       ['JP MORGAN CHASE & CO.', 'US46625H1005', 7, 119.09, 'USD 833.63',\n",
       "        679.83],\n",
       "       ['LON.STK.EXCH', 'GB00B0SWJX34', 2, 7220.0, 'GBX 14440.00', 144.4],\n",
       "       ['MARKETAXESS HOLDINGS', 'US57060D1081', 2, 263.38, 'USD 526.76',\n",
       "        429.57],\n",
       "       ['MATCH GROUP INC', 'US57667L1070', 2, 77.51, 'USD 155.02',\n",
       "        126.42],\n",
       "       ['META PLATFORMS INC', 'US30303M1027', 3, 198.62, 'USD 595.86',\n",
       "        485.93],\n",
       "       ['MSCI INC COMMON STOCK', 'US55354G1004', 1, 408.14, 'USD 408.14',\n",
       "        332.84],\n",
       "       ['NASDAQ INC. - COMMON', 'US6311031081', 1, 147.49, 'USD 147.49',\n",
       "        120.28],\n",
       "       ['OCADO', 'GB00B3MBS747', 10, 810.8, 'GBX 8108.00', 81.08],\n",
       "       ['PERSIMMON', 'GB0006825383', 5, 2111.0, 'GBX 10555.00', 105.55],\n",
       "       ['POWERSHS EQQQ', 'IE0032077012', 110, 24698.0, 'GBX 2716780.00',\n",
       "        27167.8],\n",
       "       ['RAYTHEON TECHNOLOGIES CORPORATI...', 'US75513E1010', 4, 91.92,\n",
       "        'USD 367.68', 299.84],\n",
       "       ['REAL EST.CRED', 'GB00B0HW5366', 1920, 150.75, 'GBX 289440.00',\n",
       "        2894.4],\n",
       "       ['RIO TINTO', 'GB0007188757', 3, 5320.0, 'GBX 15960.00', 159.6],\n",
       "       ['S&P GLOBAL INC', 'US78409V1044', 1, 336.85, 'USD 336.85', 274.7],\n",
       "       ['SCHRODERS NV', 'GB0002395811', 6, 2405.0, 'GBX 14430.00', 144.3],\n",
       "       ['SHELL PLC', 'GB00BP6MXD84', 9, 2303.5, 'GBX 20731.50', 207.32],\n",
       "       ['SHOPIFY INC. CLASS A S', 'CA82509L1076', 2, 402.48,\n",
       "        'USD 804.96', 656.45],\n",
       "       ['SNOWFLAKE INC-CLASS A', 'US8334451098', 1, 158.36, 'USD 158.36',\n",
       "        129.14],\n",
       "       ['SOCIEDAD QUIMICA Y MIN', 'US8336351056', 4, 83.61, 'USD 334.44',\n",
       "        272.74],\n",
       "       ['SPDR S&P 500 $', 'IE00B6YX5C33', 100, 402.6, 'USD 40260.00',\n",
       "        32832.17],\n",
       "       ['TAYLOR WIMPEY', 'GB0008782301', 70, 125.5, 'GBX 8785.00', 87.85],\n",
       "       ['TRADEWEB MARKETS INC. - CLASS A...', 'US8926721064', 30, 67.27,\n",
       "        'USD 2018.10', 1645.77],\n",
       "       ['UNILEVER', 'GB00B10RZP78', 3, 3747.0, 'GBX 11241.00', 112.41],\n",
       "       ['VOLTA FIN', 'GG00B1GHHH78', 600, 5.9, 'EUR 3540.00', 3005.6],\n",
       "       ['WALT DISNEY COMPANY (T', 'US2546871060', 3, 107.33,\n",
       "        'USD 321.99', 262.58],\n",
       "       ['XTRACKERS MSCI SINGAPORE UCITS ...', 'LU0659578842', 1200, 1.27,\n",
       "        'EUR 1524.48', 1294.35],\n",
       "       ['XYLEM INC. COMMON STOC', 'US98419M1009', 4, 83.91, 'USD 335.64',\n",
       "        273.72]], dtype=object)<\/pre>"
      ]
     },
     "metadata":{
      
     },
     "output_type":"display_data"
    }
   ],
   "metadata":{
    "datalore":{
     "node_id":"ftxiKxIpCJEMqEnF1G0fDv",
     "type":"CODE",
     "hide_input_from_viewers":false,
     "hide_output_from_viewers":false
    }
   }
  },
  {
   "cell_type":"code",
   "source":[
    "portfolio.columns"
   ],
   "execution_count":6,
   "outputs":[
    {
     "data":{
      "text\/plain":[
       "Index(['Product', 'Symbol\/ISIN', 'Amount', 'Closing', 'Local value',\n",
       "       'Value in GBP'],\n",
       "      dtype='object')"
      ]
     },
     "metadata":{
      
     },
     "output_type":"display_data"
    }
   ],
   "metadata":{
    "datalore":{
     "node_id":"FL4k6lfbUqwHJ7IvTptpWV",
     "type":"CODE",
     "hide_input_from_viewers":false,
     "hide_output_from_viewers":false
    }
   }
  },
  {
   "cell_type":"code",
   "source":[
    "portfolio.index"
   ],
   "execution_count":7,
   "outputs":[
    {
     "data":{
      "text\/plain":[
       "RangeIndex(start=0, stop=91, step=1)"
      ]
     },
     "metadata":{
      
     },
     "output_type":"display_data"
    }
   ],
   "metadata":{
    "datalore":{
     "node_id":"QKBE3vgWyGaWaLI4LIpKtQ",
     "type":"CODE",
     "hide_input_from_viewers":false,
     "hide_output_from_viewers":false
    }
   }
  },
  {
   "cell_type":"markdown",
   "source":[
    "# Sorting In Pandas"
   ],
   "attachments":{
    
   },
   "metadata":{
    "datalore":{
     "node_id":"nNrP6lyPFoCZUCIoCKRA1I",
     "type":"MD",
     "hide_input_from_viewers":false,
     "hide_output_from_viewers":false
    }
   }
  },
  {
   "cell_type":"markdown",
   "source":[
    "There are two key ways to find parts of your data frame\n",
    "\n",
    "Rows can be sorted using the **.sort_values()** method. We can sort by multiple variables by passing multiple columns into this function.\n",
    "\n",
    "If we enter in a single column we will get a data series containing that column back, if we want multiple columns we have to use two sets of brackets. This works as it is essentially a list inside the columns, this means we can use a different list to do the same thing. "
   ],
   "attachments":{
    
   },
   "metadata":{
    "datalore":{
     "node_id":"GZEx4gr7KziipInGFES3Fn",
     "type":"MD",
     "hide_input_from_viewers":false,
     "hide_output_from_viewers":false
    }
   }
  },
  {
   "cell_type":"code",
   "source":[
    "portfolio.sort_values(\"Value in GBP\", ascending=False)"
   ],
   "execution_count":8,
   "outputs":[
    {
     "data":{
      "text\/html":[
       "<div>\n",
       "<style scoped>\n",
       "    .dataframe tbody tr th:only-of-type {\n",
       "        vertical-align: middle;\n",
       "    }\n",
       "\n",
       "    .dataframe tbody tr th {\n",
       "        vertical-align: top;\n",
       "    }\n",
       "\n",
       "    .dataframe thead th {\n",
       "        text-align: right;\n",
       "    }\n",
       "<\/style>\n",
       "<table border=\"1\" class=\"dataframe\">\n",
       "  <thead>\n",
       "    <tr style=\"text-align: right;\">\n",
       "      <th><\/th>\n",
       "      <th>Product<\/th>\n",
       "      <th>Symbol\/ISIN<\/th>\n",
       "      <th>Amount<\/th>\n",
       "      <th>Closing<\/th>\n",
       "      <th>Local value<\/th>\n",
       "      <th>Value in GBP<\/th>\n",
       "    <\/tr>\n",
       "  <\/thead>\n",
       "  <tbody>\n",
       "    <tr>\n",
       "      <th>83<\/th>\n",
       "      <td>SPDR S&amp;P 500 $<\/td>\n",
       "      <td>IE00B6YX5C33<\/td>\n",
       "      <td>100<\/td>\n",
       "      <td>402.60<\/td>\n",
       "      <td>USD 40260.00<\/td>\n",
       "      <td>32832.17<\/td>\n",
       "    <\/tr>\n",
       "    <tr>\n",
       "      <th>73<\/th>\n",
       "      <td>POWERSHS EQQQ<\/td>\n",
       "      <td>IE0032077012<\/td>\n",
       "      <td>110<\/td>\n",
       "      <td>24698.00<\/td>\n",
       "      <td>GBX 2716780.00<\/td>\n",
       "      <td>27167.80<\/td>\n",
       "    <\/tr>\n",
       "    <tr>\n",
       "      <th>23<\/th>\n",
       "      <td>ES 3400 P 18DEC26<\/td>\n",
       "      <td>NaN<\/td>\n",
       "      <td>1<\/td>\n",
       "      <td>357.00<\/td>\n",
       "      <td>USD 17850.00<\/td>\n",
       "      <td>14556.74<\/td>\n",
       "    <\/tr>\n",
       "    <tr>\n",
       "      <th>24<\/th>\n",
       "      <td>ES 3400 P 19DEC25<\/td>\n",
       "      <td>NaN<\/td>\n",
       "      <td>1<\/td>\n",
       "      <td>334.50<\/td>\n",
       "      <td>USD 16725.00<\/td>\n",
       "      <td>13639.30<\/td>\n",
       "    <\/tr>\n",
       "    <tr>\n",
       "      <th>47<\/th>\n",
       "      <td>ISHR EU PROP<\/td>\n",
       "      <td>IE00B0M63284<\/td>\n",
       "      <td>400<\/td>\n",
       "      <td>3013.00<\/td>\n",
       "      <td>GBX 1205200.00<\/td>\n",
       "      <td>12052.00<\/td>\n",
       "    <\/tr>\n",
       "    <tr>\n",
       "      <th>...<\/th>\n",
       "      <td>...<\/td>\n",
       "      <td>...<\/td>\n",
       "      <td>...<\/td>\n",
       "      <td>...<\/td>\n",
       "      <td>...<\/td>\n",
       "      <td>...<\/td>\n",
       "    <\/tr>\n",
       "    <tr>\n",
       "      <th>11<\/th>\n",
       "      <td>CANOPY GROWTH CORPORATION COMMO...<\/td>\n",
       "      <td>CA1380351009<\/td>\n",
       "      <td>12<\/td>\n",
       "      <td>5.92<\/td>\n",
       "      <td>USD 71.04<\/td>\n",
       "      <td>57.93<\/td>\n",
       "    <\/tr>\n",
       "    <tr>\n",
       "      <th>25<\/th>\n",
       "      <td>ES 3600 P 17JUN22<\/td>\n",
       "      <td>NaN<\/td>\n",
       "      <td>-1<\/td>\n",
       "      <td>27.25<\/td>\n",
       "      <td>USD -1362.50<\/td>\n",
       "      <td>-1111.12<\/td>\n",
       "    <\/tr>\n",
       "    <tr>\n",
       "      <th>26<\/th>\n",
       "      <td>ES 3800 P 16DEC22<\/td>\n",
       "      <td>NaN<\/td>\n",
       "      <td>-1<\/td>\n",
       "      <td>218.75<\/td>\n",
       "      <td>USD -10937.50<\/td>\n",
       "      <td>-8919.57<\/td>\n",
       "    <\/tr>\n",
       "    <tr>\n",
       "      <th>28<\/th>\n",
       "      <td>ES 4000 P 19DEC25<\/td>\n",
       "      <td>NaN<\/td>\n",
       "      <td>-1<\/td>\n",
       "      <td>526.50<\/td>\n",
       "      <td>USD -26325.00<\/td>\n",
       "      <td>-21468.13<\/td>\n",
       "    <\/tr>\n",
       "    <tr>\n",
       "      <th>27<\/th>\n",
       "      <td>ES 4000 P 18DEC26<\/td>\n",
       "      <td>NaN<\/td>\n",
       "      <td>-1<\/td>\n",
       "      <td>553.25<\/td>\n",
       "      <td>USD -27662.50<\/td>\n",
       "      <td>-22558.87<\/td>\n",
       "    <\/tr>\n",
       "  <\/tbody>\n",
       "<\/table>\n",
       "<p>91 rows × 6 columns<\/p>\n",
       "<\/div>"
      ]
     },
     "metadata":{
      
     },
     "output_type":"display_data"
    }
   ],
   "metadata":{
    "datalore":{
     "node_id":"yHG05wJuTMZdaby3b5bF0C",
     "type":"CODE",
     "hide_input_from_viewers":false,
     "hide_output_from_viewers":false
    }
   }
  },
  {
   "cell_type":"code",
   "source":[
    "portfolio.sort_values([\"Amount\", \"Closing\"] , ascending=False)"
   ],
   "execution_count":9,
   "outputs":[
    {
     "data":{
      "text\/html":[
       "<div>\n",
       "<style scoped>\n",
       "    .dataframe tbody tr th:only-of-type {\n",
       "        vertical-align: middle;\n",
       "    }\n",
       "\n",
       "    .dataframe tbody tr th {\n",
       "        vertical-align: top;\n",
       "    }\n",
       "\n",
       "    .dataframe thead th {\n",
       "        text-align: right;\n",
       "    }\n",
       "<\/style>\n",
       "<table border=\"1\" class=\"dataframe\">\n",
       "  <thead>\n",
       "    <tr style=\"text-align: right;\">\n",
       "      <th><\/th>\n",
       "      <th>Product<\/th>\n",
       "      <th>Symbol\/ISIN<\/th>\n",
       "      <th>Amount<\/th>\n",
       "      <th>Closing<\/th>\n",
       "      <th>Local value<\/th>\n",
       "      <th>Value in GBP<\/th>\n",
       "    <\/tr>\n",
       "  <\/thead>\n",
       "  <tbody>\n",
       "    <tr>\n",
       "      <th>8<\/th>\n",
       "      <td>BLUEFIELD SOLAR<\/td>\n",
       "      <td>GG00BB0RDB98<\/td>\n",
       "      <td>7000<\/td>\n",
       "      <td>133.00<\/td>\n",
       "      <td>GBX 931000.00<\/td>\n",
       "      <td>9310.00<\/td>\n",
       "    <\/tr>\n",
       "    <tr>\n",
       "      <th>34<\/th>\n",
       "      <td>HEND.FAR EAST<\/td>\n",
       "      <td>JE00B1GXH751<\/td>\n",
       "      <td>2000<\/td>\n",
       "      <td>290.00<\/td>\n",
       "      <td>GBX 580000.00<\/td>\n",
       "      <td>5800.00<\/td>\n",
       "    <\/tr>\n",
       "    <tr>\n",
       "      <th>75<\/th>\n",
       "      <td>REAL EST.CRED<\/td>\n",
       "      <td>GB00B0HW5366<\/td>\n",
       "      <td>1920<\/td>\n",
       "      <td>150.75<\/td>\n",
       "      <td>GBX 289440.00<\/td>\n",
       "      <td>2894.40<\/td>\n",
       "    <\/tr>\n",
       "    <tr>\n",
       "      <th>61<\/th>\n",
       "      <td>ISHR UK PROP<\/td>\n",
       "      <td>IE00B1TXLS18<\/td>\n",
       "      <td>1500<\/td>\n",
       "      <td>589.50<\/td>\n",
       "      <td>GBX 884250.00<\/td>\n",
       "      <td>8842.50<\/td>\n",
       "    <\/tr>\n",
       "    <tr>\n",
       "      <th>6<\/th>\n",
       "      <td>BLACKSTONE GSO£<\/td>\n",
       "      <td>JE00BNCB5T53<\/td>\n",
       "      <td>1485<\/td>\n",
       "      <td>64.00<\/td>\n",
       "      <td>GBX 95040.00<\/td>\n",
       "      <td>950.40<\/td>\n",
       "    <\/tr>\n",
       "    <tr>\n",
       "      <th>...<\/th>\n",
       "      <td>...<\/td>\n",
       "      <td>...<\/td>\n",
       "      <td>...<\/td>\n",
       "      <td>...<\/td>\n",
       "      <td>...<\/td>\n",
       "      <td>...<\/td>\n",
       "    <\/tr>\n",
       "    <tr>\n",
       "      <th>21<\/th>\n",
       "      <td>ES 3000 P 17JUN22<\/td>\n",
       "      <td>NaN<\/td>\n",
       "      <td>1<\/td>\n",
       "      <td>3.90<\/td>\n",
       "      <td>USD 195.00<\/td>\n",
       "      <td>159.02<\/td>\n",
       "    <\/tr>\n",
       "    <tr>\n",
       "      <th>27<\/th>\n",
       "      <td>ES 4000 P 18DEC26<\/td>\n",
       "      <td>NaN<\/td>\n",
       "      <td>-1<\/td>\n",
       "      <td>553.25<\/td>\n",
       "      <td>USD -27662.50<\/td>\n",
       "      <td>-22558.87<\/td>\n",
       "    <\/tr>\n",
       "    <tr>\n",
       "      <th>28<\/th>\n",
       "      <td>ES 4000 P 19DEC25<\/td>\n",
       "      <td>NaN<\/td>\n",
       "      <td>-1<\/td>\n",
       "      <td>526.50<\/td>\n",
       "      <td>USD -26325.00<\/td>\n",
       "      <td>-21468.13<\/td>\n",
       "    <\/tr>\n",
       "    <tr>\n",
       "      <th>26<\/th>\n",
       "      <td>ES 3800 P 16DEC22<\/td>\n",
       "      <td>NaN<\/td>\n",
       "      <td>-1<\/td>\n",
       "      <td>218.75<\/td>\n",
       "      <td>USD -10937.50<\/td>\n",
       "      <td>-8919.57<\/td>\n",
       "    <\/tr>\n",
       "    <tr>\n",
       "      <th>25<\/th>\n",
       "      <td>ES 3600 P 17JUN22<\/td>\n",
       "      <td>NaN<\/td>\n",
       "      <td>-1<\/td>\n",
       "      <td>27.25<\/td>\n",
       "      <td>USD -1362.50<\/td>\n",
       "      <td>-1111.12<\/td>\n",
       "    <\/tr>\n",
       "  <\/tbody>\n",
       "<\/table>\n",
       "<p>91 rows × 6 columns<\/p>\n",
       "<\/div>"
      ]
     },
     "metadata":{
      
     },
     "output_type":"display_data"
    }
   ],
   "metadata":{
    "datalore":{
     "node_id":"TZSnslwOicQV58SF9bxcNI",
     "type":"CODE",
     "hide_input_from_viewers":false,
     "hide_output_from_viewers":false
    }
   }
  },
  {
   "cell_type":"code",
   "source":[
    "portfolio.sort_values([\"Amount\", \"Closing\"] , ascending=[False, True])"
   ],
   "execution_count":10,
   "outputs":[
    {
     "data":{
      "text\/html":[
       "<div>\n",
       "<style scoped>\n",
       "    .dataframe tbody tr th:only-of-type {\n",
       "        vertical-align: middle;\n",
       "    }\n",
       "\n",
       "    .dataframe tbody tr th {\n",
       "        vertical-align: top;\n",
       "    }\n",
       "\n",
       "    .dataframe thead th {\n",
       "        text-align: right;\n",
       "    }\n",
       "<\/style>\n",
       "<table border=\"1\" class=\"dataframe\">\n",
       "  <thead>\n",
       "    <tr style=\"text-align: right;\">\n",
       "      <th><\/th>\n",
       "      <th>Product<\/th>\n",
       "      <th>Symbol\/ISIN<\/th>\n",
       "      <th>Amount<\/th>\n",
       "      <th>Closing<\/th>\n",
       "      <th>Local value<\/th>\n",
       "      <th>Value in GBP<\/th>\n",
       "    <\/tr>\n",
       "  <\/thead>\n",
       "  <tbody>\n",
       "    <tr>\n",
       "      <th>8<\/th>\n",
       "      <td>BLUEFIELD SOLAR<\/td>\n",
       "      <td>GG00BB0RDB98<\/td>\n",
       "      <td>7000<\/td>\n",
       "      <td>133.00<\/td>\n",
       "      <td>GBX 931000.00<\/td>\n",
       "      <td>9310.00<\/td>\n",
       "    <\/tr>\n",
       "    <tr>\n",
       "      <th>34<\/th>\n",
       "      <td>HEND.FAR EAST<\/td>\n",
       "      <td>JE00B1GXH751<\/td>\n",
       "      <td>2000<\/td>\n",
       "      <td>290.00<\/td>\n",
       "      <td>GBX 580000.00<\/td>\n",
       "      <td>5800.00<\/td>\n",
       "    <\/tr>\n",
       "    <tr>\n",
       "      <th>75<\/th>\n",
       "      <td>REAL EST.CRED<\/td>\n",
       "      <td>GB00B0HW5366<\/td>\n",
       "      <td>1920<\/td>\n",
       "      <td>150.75<\/td>\n",
       "      <td>GBX 289440.00<\/td>\n",
       "      <td>2894.40<\/td>\n",
       "    <\/tr>\n",
       "    <tr>\n",
       "      <th>61<\/th>\n",
       "      <td>ISHR UK PROP<\/td>\n",
       "      <td>IE00B1TXLS18<\/td>\n",
       "      <td>1500<\/td>\n",
       "      <td>589.50<\/td>\n",
       "      <td>GBX 884250.00<\/td>\n",
       "      <td>8842.50<\/td>\n",
       "    <\/tr>\n",
       "    <tr>\n",
       "      <th>6<\/th>\n",
       "      <td>BLACKSTONE GSO£<\/td>\n",
       "      <td>JE00BNCB5T53<\/td>\n",
       "      <td>1485<\/td>\n",
       "      <td>64.00<\/td>\n",
       "      <td>GBX 95040.00<\/td>\n",
       "      <td>950.40<\/td>\n",
       "    <\/tr>\n",
       "    <tr>\n",
       "      <th>...<\/th>\n",
       "      <td>...<\/td>\n",
       "      <td>...<\/td>\n",
       "      <td>...<\/td>\n",
       "      <td>...<\/td>\n",
       "      <td>...<\/td>\n",
       "      <td>...<\/td>\n",
       "    <\/tr>\n",
       "    <tr>\n",
       "      <th>2<\/th>\n",
       "      <td>ALPHABET INC. - CLASS C<\/td>\n",
       "      <td>US02079K1079<\/td>\n",
       "      <td>1<\/td>\n",
       "      <td>2330.31<\/td>\n",
       "      <td>USD 2330.31<\/td>\n",
       "      <td>1900.38<\/td>\n",
       "    <\/tr>\n",
       "    <tr>\n",
       "      <th>25<\/th>\n",
       "      <td>ES 3600 P 17JUN22<\/td>\n",
       "      <td>NaN<\/td>\n",
       "      <td>-1<\/td>\n",
       "      <td>27.25<\/td>\n",
       "      <td>USD -1362.50<\/td>\n",
       "      <td>-1111.12<\/td>\n",
       "    <\/tr>\n",
       "    <tr>\n",
       "      <th>26<\/th>\n",
       "      <td>ES 3800 P 16DEC22<\/td>\n",
       "      <td>NaN<\/td>\n",
       "      <td>-1<\/td>\n",
       "      <td>218.75<\/td>\n",
       "      <td>USD -10937.50<\/td>\n",
       "      <td>-8919.57<\/td>\n",
       "    <\/tr>\n",
       "    <tr>\n",
       "      <th>28<\/th>\n",
       "      <td>ES 4000 P 19DEC25<\/td>\n",
       "      <td>NaN<\/td>\n",
       "      <td>-1<\/td>\n",
       "      <td>526.50<\/td>\n",
       "      <td>USD -26325.00<\/td>\n",
       "      <td>-21468.13<\/td>\n",
       "    <\/tr>\n",
       "    <tr>\n",
       "      <th>27<\/th>\n",
       "      <td>ES 4000 P 18DEC26<\/td>\n",
       "      <td>NaN<\/td>\n",
       "      <td>-1<\/td>\n",
       "      <td>553.25<\/td>\n",
       "      <td>USD -27662.50<\/td>\n",
       "      <td>-22558.87<\/td>\n",
       "    <\/tr>\n",
       "  <\/tbody>\n",
       "<\/table>\n",
       "<p>91 rows × 6 columns<\/p>\n",
       "<\/div>"
      ]
     },
     "metadata":{
      
     },
     "output_type":"display_data"
    }
   ],
   "metadata":{
    "datalore":{
     "node_id":"YPo2smeXhkQphUOJ4CRNZZ",
     "type":"CODE",
     "hide_input_from_viewers":false,
     "hide_output_from_viewers":false
    }
   }
  },
  {
   "cell_type":"code",
   "source":[
    "portfolio[\"Product\"]"
   ],
   "execution_count":11,
   "outputs":[
    {
     "data":{
      "text\/html":[
       "<pre>0                 ADVANCED MICRO DEVICES\n",
       "1                              AIRBUS SE\n",
       "2                ALPHABET INC. - CLASS C\n",
       "3                  AMAZON.COM INC. - COM\n",
       "4                               BAE SYS.\n",
       "                     ...                \n",
       "86                              UNILEVER\n",
       "87                             VOLTA FIN\n",
       "88                WALT DISNEY COMPANY (T\n",
       "89    XTRACKERS MSCI SINGAPORE UCITS ...\n",
       "90                XYLEM INC. COMMON STOC\n",
       "Name: Product, Length: 91, dtype: object<\/pre>"
      ]
     },
     "metadata":{
      
     },
     "output_type":"display_data"
    }
   ],
   "metadata":{
    "datalore":{
     "node_id":"lsrT2CEdNpP3Tfxuztnms7",
     "type":"CODE",
     "hide_input_from_viewers":false,
     "hide_output_from_viewers":false
    }
   }
  },
  {
   "cell_type":"code",
   "source":[
    "portfolio[[\"Product\", \"Value in GBP\"]]"
   ],
   "execution_count":12,
   "outputs":[
    {
     "data":{
      "text\/html":[
       "<div>\n",
       "<style scoped>\n",
       "    .dataframe tbody tr th:only-of-type {\n",
       "        vertical-align: middle;\n",
       "    }\n",
       "\n",
       "    .dataframe tbody tr th {\n",
       "        vertical-align: top;\n",
       "    }\n",
       "\n",
       "    .dataframe thead th {\n",
       "        text-align: right;\n",
       "    }\n",
       "<\/style>\n",
       "<table border=\"1\" class=\"dataframe\">\n",
       "  <thead>\n",
       "    <tr style=\"text-align: right;\">\n",
       "      <th><\/th>\n",
       "      <th>Product<\/th>\n",
       "      <th>Value in GBP<\/th>\n",
       "    <\/tr>\n",
       "  <\/thead>\n",
       "  <tbody>\n",
       "    <tr>\n",
       "      <th>0<\/th>\n",
       "      <td>ADVANCED MICRO DEVICES<\/td>\n",
       "      <td>155.14<\/td>\n",
       "    <\/tr>\n",
       "    <tr>\n",
       "      <th>1<\/th>\n",
       "      <td>AIRBUS SE<\/td>\n",
       "      <td>270.96<\/td>\n",
       "    <\/tr>\n",
       "    <tr>\n",
       "      <th>2<\/th>\n",
       "      <td>ALPHABET INC. - CLASS C<\/td>\n",
       "      <td>1900.38<\/td>\n",
       "    <\/tr>\n",
       "    <tr>\n",
       "      <th>3<\/th>\n",
       "      <td>AMAZON.COM INC. - COM<\/td>\n",
       "      <td>1843.93<\/td>\n",
       "    <\/tr>\n",
       "    <tr>\n",
       "      <th>4<\/th>\n",
       "      <td>BAE SYS.<\/td>\n",
       "      <td>148.24<\/td>\n",
       "    <\/tr>\n",
       "    <tr>\n",
       "      <th>...<\/th>\n",
       "      <td>...<\/td>\n",
       "      <td>...<\/td>\n",
       "    <\/tr>\n",
       "    <tr>\n",
       "      <th>86<\/th>\n",
       "      <td>UNILEVER<\/td>\n",
       "      <td>112.41<\/td>\n",
       "    <\/tr>\n",
       "    <tr>\n",
       "      <th>87<\/th>\n",
       "      <td>VOLTA FIN<\/td>\n",
       "      <td>3005.60<\/td>\n",
       "    <\/tr>\n",
       "    <tr>\n",
       "      <th>88<\/th>\n",
       "      <td>WALT DISNEY COMPANY (T<\/td>\n",
       "      <td>262.58<\/td>\n",
       "    <\/tr>\n",
       "    <tr>\n",
       "      <th>89<\/th>\n",
       "      <td>XTRACKERS MSCI SINGAPORE UCITS ...<\/td>\n",
       "      <td>1294.35<\/td>\n",
       "    <\/tr>\n",
       "    <tr>\n",
       "      <th>90<\/th>\n",
       "      <td>XYLEM INC. COMMON STOC<\/td>\n",
       "      <td>273.72<\/td>\n",
       "    <\/tr>\n",
       "  <\/tbody>\n",
       "<\/table>\n",
       "<p>91 rows × 2 columns<\/p>\n",
       "<\/div>"
      ]
     },
     "metadata":{
      
     },
     "output_type":"display_data"
    }
   ],
   "metadata":{
    "datalore":{
     "node_id":"BQPl5IsytF1CPMIAY0ekcJ",
     "type":"CODE",
     "hide_input_from_viewers":false,
     "hide_output_from_viewers":false
    }
   }
  },
  {
   "cell_type":"code",
   "source":[
    "columns_to_subset = [\"Product\", \"Symbol\/ISIN\", \"Amount\"]\n",
    "\n",
    "portfolio[columns_to_subset]"
   ],
   "execution_count":13,
   "outputs":[
    {
     "data":{
      "text\/html":[
       "<div>\n",
       "<style scoped>\n",
       "    .dataframe tbody tr th:only-of-type {\n",
       "        vertical-align: middle;\n",
       "    }\n",
       "\n",
       "    .dataframe tbody tr th {\n",
       "        vertical-align: top;\n",
       "    }\n",
       "\n",
       "    .dataframe thead th {\n",
       "        text-align: right;\n",
       "    }\n",
       "<\/style>\n",
       "<table border=\"1\" class=\"dataframe\">\n",
       "  <thead>\n",
       "    <tr style=\"text-align: right;\">\n",
       "      <th><\/th>\n",
       "      <th>Product<\/th>\n",
       "      <th>Symbol\/ISIN<\/th>\n",
       "      <th>Amount<\/th>\n",
       "    <\/tr>\n",
       "  <\/thead>\n",
       "  <tbody>\n",
       "    <tr>\n",
       "      <th>0<\/th>\n",
       "      <td>ADVANCED MICRO DEVICES<\/td>\n",
       "      <td>US0079031078<\/td>\n",
       "      <td>2<\/td>\n",
       "    <\/tr>\n",
       "    <tr>\n",
       "      <th>1<\/th>\n",
       "      <td>AIRBUS SE<\/td>\n",
       "      <td>NL0000235190<\/td>\n",
       "      <td>3<\/td>\n",
       "    <\/tr>\n",
       "    <tr>\n",
       "      <th>2<\/th>\n",
       "      <td>ALPHABET INC. - CLASS C<\/td>\n",
       "      <td>US02079K1079<\/td>\n",
       "      <td>1<\/td>\n",
       "    <\/tr>\n",
       "    <tr>\n",
       "      <th>3<\/th>\n",
       "      <td>AMAZON.COM INC. - COM<\/td>\n",
       "      <td>US0231351067<\/td>\n",
       "      <td>1<\/td>\n",
       "    <\/tr>\n",
       "    <tr>\n",
       "      <th>4<\/th>\n",
       "      <td>BAE SYS.<\/td>\n",
       "      <td>GB0002634946<\/td>\n",
       "      <td>20<\/td>\n",
       "    <\/tr>\n",
       "    <tr>\n",
       "      <th>...<\/th>\n",
       "      <td>...<\/td>\n",
       "      <td>...<\/td>\n",
       "      <td>...<\/td>\n",
       "    <\/tr>\n",
       "    <tr>\n",
       "      <th>86<\/th>\n",
       "      <td>UNILEVER<\/td>\n",
       "      <td>GB00B10RZP78<\/td>\n",
       "      <td>3<\/td>\n",
       "    <\/tr>\n",
       "    <tr>\n",
       "      <th>87<\/th>\n",
       "      <td>VOLTA FIN<\/td>\n",
       "      <td>GG00B1GHHH78<\/td>\n",
       "      <td>600<\/td>\n",
       "    <\/tr>\n",
       "    <tr>\n",
       "      <th>88<\/th>\n",
       "      <td>WALT DISNEY COMPANY (T<\/td>\n",
       "      <td>US2546871060<\/td>\n",
       "      <td>3<\/td>\n",
       "    <\/tr>\n",
       "    <tr>\n",
       "      <th>89<\/th>\n",
       "      <td>XTRACKERS MSCI SINGAPORE UCITS ...<\/td>\n",
       "      <td>LU0659578842<\/td>\n",
       "      <td>1200<\/td>\n",
       "    <\/tr>\n",
       "    <tr>\n",
       "      <th>90<\/th>\n",
       "      <td>XYLEM INC. COMMON STOC<\/td>\n",
       "      <td>US98419M1009<\/td>\n",
       "      <td>4<\/td>\n",
       "    <\/tr>\n",
       "  <\/tbody>\n",
       "<\/table>\n",
       "<p>91 rows × 3 columns<\/p>\n",
       "<\/div>"
      ]
     },
     "metadata":{
      
     },
     "output_type":"display_data"
    }
   ],
   "metadata":{
    "datalore":{
     "node_id":"tTu3SOREevBcloXmRxZfzd",
     "type":"CODE",
     "hide_input_from_viewers":false,
     "hide_output_from_viewers":false
    }
   }
  },
  {
   "cell_type":"markdown",
   "source":[
    "There are numerous ways to subset rows. The most common way is to create a boolean to filter against the dataframe.\n",
    "\n",
    "We can also specify a specific value to be selected \n",
    "\n",
    "If we want to subset for multiple conditons we can combine operators to do this"
   ],
   "attachments":{
    
   },
   "metadata":{
    "datalore":{
     "node_id":"lyw3UIoScJIItf3Xey9MgK",
     "type":"MD",
     "hide_input_from_viewers":false,
     "hide_output_from_viewers":false
    }
   }
  },
  {
   "cell_type":"code",
   "source":[
    "portfolio[\"Value in GBP\"] > 5000"
   ],
   "execution_count":14,
   "outputs":[
    {
     "data":{
      "text\/html":[
       "<pre>0     False\n",
       "1     False\n",
       "2     False\n",
       "3     False\n",
       "4     False\n",
       "      ...  \n",
       "86    False\n",
       "87    False\n",
       "88    False\n",
       "89    False\n",
       "90    False\n",
       "Name: Value in GBP, Length: 91, dtype: bool<\/pre>"
      ]
     },
     "metadata":{
      
     },
     "output_type":"display_data"
    }
   ],
   "metadata":{
    "datalore":{
     "node_id":"8veuY6SgMpj4BLL9yimP30",
     "type":"CODE",
     "hide_input_from_viewers":false,
     "hide_output_from_viewers":false
    }
   }
  },
  {
   "cell_type":"code",
   "source":[
    "portfolio[portfolio[\"Value in GBP\"] > 5000]"
   ],
   "execution_count":15,
   "outputs":[
    {
     "data":{
      "text\/html":[
       "<div>\n",
       "<style scoped>\n",
       "    .dataframe tbody tr th:only-of-type {\n",
       "        vertical-align: middle;\n",
       "    }\n",
       "\n",
       "    .dataframe tbody tr th {\n",
       "        vertical-align: top;\n",
       "    }\n",
       "\n",
       "    .dataframe thead th {\n",
       "        text-align: right;\n",
       "    }\n",
       "<\/style>\n",
       "<table border=\"1\" class=\"dataframe\">\n",
       "  <thead>\n",
       "    <tr style=\"text-align: right;\">\n",
       "      <th><\/th>\n",
       "      <th>Product<\/th>\n",
       "      <th>Symbol\/ISIN<\/th>\n",
       "      <th>Amount<\/th>\n",
       "      <th>Closing<\/th>\n",
       "      <th>Local value<\/th>\n",
       "      <th>Value in GBP<\/th>\n",
       "    <\/tr>\n",
       "  <\/thead>\n",
       "  <tbody>\n",
       "    <tr>\n",
       "      <th>8<\/th>\n",
       "      <td>BLUEFIELD SOLAR<\/td>\n",
       "      <td>GG00BB0RDB98<\/td>\n",
       "      <td>7000<\/td>\n",
       "      <td>133.00<\/td>\n",
       "      <td>GBX 931000.00<\/td>\n",
       "      <td>9310.00<\/td>\n",
       "    <\/tr>\n",
       "    <tr>\n",
       "      <th>23<\/th>\n",
       "      <td>ES 3400 P 18DEC26<\/td>\n",
       "      <td>NaN<\/td>\n",
       "      <td>1<\/td>\n",
       "      <td>357.00<\/td>\n",
       "      <td>USD 17850.00<\/td>\n",
       "      <td>14556.74<\/td>\n",
       "    <\/tr>\n",
       "    <tr>\n",
       "      <th>24<\/th>\n",
       "      <td>ES 3400 P 19DEC25<\/td>\n",
       "      <td>NaN<\/td>\n",
       "      <td>1<\/td>\n",
       "      <td>334.50<\/td>\n",
       "      <td>USD 16725.00<\/td>\n",
       "      <td>13639.30<\/td>\n",
       "    <\/tr>\n",
       "    <tr>\n",
       "      <th>34<\/th>\n",
       "      <td>HEND.FAR EAST<\/td>\n",
       "      <td>JE00B1GXH751<\/td>\n",
       "      <td>2000<\/td>\n",
       "      <td>290.00<\/td>\n",
       "      <td>GBX 580000.00<\/td>\n",
       "      <td>5800.00<\/td>\n",
       "    <\/tr>\n",
       "    <tr>\n",
       "      <th>40<\/th>\n",
       "      <td>ISH COREFTSE100<\/td>\n",
       "      <td>IE0005042456<\/td>\n",
       "      <td>700<\/td>\n",
       "      <td>732.30<\/td>\n",
       "      <td>GBX 512610.00<\/td>\n",
       "      <td>5126.10<\/td>\n",
       "    <\/tr>\n",
       "    <tr>\n",
       "      <th>41<\/th>\n",
       "      <td>ISHARES NASDAQ US BIOTECHNOLOGY...<\/td>\n",
       "      <td>IE00BYXG2H39<\/td>\n",
       "      <td>1200<\/td>\n",
       "      <td>4.95<\/td>\n",
       "      <td>EUR 5943.00<\/td>\n",
       "      <td>5045.85<\/td>\n",
       "    <\/tr>\n",
       "    <tr>\n",
       "      <th>44<\/th>\n",
       "      <td>ISHR ASIA PROP<\/td>\n",
       "      <td>IE00B1FZS244<\/td>\n",
       "      <td>500<\/td>\n",
       "      <td>1966.25<\/td>\n",
       "      <td>GBX 983125.00<\/td>\n",
       "      <td>9831.25<\/td>\n",
       "    <\/tr>\n",
       "    <tr>\n",
       "      <th>47<\/th>\n",
       "      <td>ISHR EU PROP<\/td>\n",
       "      <td>IE00B0M63284<\/td>\n",
       "      <td>400<\/td>\n",
       "      <td>3013.00<\/td>\n",
       "      <td>GBX 1205200.00<\/td>\n",
       "      <td>12052.00<\/td>\n",
       "    <\/tr>\n",
       "    <tr>\n",
       "      <th>52<\/th>\n",
       "      <td>ISHR JPM $ EMB<\/td>\n",
       "      <td>IE00B2NPKV68<\/td>\n",
       "      <td>70<\/td>\n",
       "      <td>7266.00<\/td>\n",
       "      <td>GBX 508620.00<\/td>\n",
       "      <td>5086.20<\/td>\n",
       "    <\/tr>\n",
       "    <tr>\n",
       "      <th>61<\/th>\n",
       "      <td>ISHR UK PROP<\/td>\n",
       "      <td>IE00B1TXLS18<\/td>\n",
       "      <td>1500<\/td>\n",
       "      <td>589.50<\/td>\n",
       "      <td>GBX 884250.00<\/td>\n",
       "      <td>8842.50<\/td>\n",
       "    <\/tr>\n",
       "    <tr>\n",
       "      <th>62<\/th>\n",
       "      <td>ISHR US PROP<\/td>\n",
       "      <td>IE00B1FZSF77<\/td>\n",
       "      <td>474<\/td>\n",
       "      <td>2506.00<\/td>\n",
       "      <td>GBX 1187844.00<\/td>\n",
       "      <td>11878.44<\/td>\n",
       "    <\/tr>\n",
       "    <tr>\n",
       "      <th>73<\/th>\n",
       "      <td>POWERSHS EQQQ<\/td>\n",
       "      <td>IE0032077012<\/td>\n",
       "      <td>110<\/td>\n",
       "      <td>24698.00<\/td>\n",
       "      <td>GBX 2716780.00<\/td>\n",
       "      <td>27167.80<\/td>\n",
       "    <\/tr>\n",
       "    <tr>\n",
       "      <th>83<\/th>\n",
       "      <td>SPDR S&amp;P 500 $<\/td>\n",
       "      <td>IE00B6YX5C33<\/td>\n",
       "      <td>100<\/td>\n",
       "      <td>402.60<\/td>\n",
       "      <td>USD 40260.00<\/td>\n",
       "      <td>32832.17<\/td>\n",
       "    <\/tr>\n",
       "  <\/tbody>\n",
       "<\/table>\n",
       "<\/div>"
      ]
     },
     "metadata":{
      
     },
     "output_type":"display_data"
    }
   ],
   "metadata":{
    "datalore":{
     "node_id":"UaJ9m540xtPuAUhEiuzoLD",
     "type":"CODE",
     "hide_input_from_viewers":false,
     "hide_output_from_viewers":false
    }
   }
  },
  {
   "cell_type":"code",
   "source":[
    "portfolio[portfolio[\"Product\"] == \"BLUEFIELD SOLAR\"]"
   ],
   "execution_count":16,
   "outputs":[
    {
     "data":{
      "text\/html":[
       "<div>\n",
       "<style scoped>\n",
       "    .dataframe tbody tr th:only-of-type {\n",
       "        vertical-align: middle;\n",
       "    }\n",
       "\n",
       "    .dataframe tbody tr th {\n",
       "        vertical-align: top;\n",
       "    }\n",
       "\n",
       "    .dataframe thead th {\n",
       "        text-align: right;\n",
       "    }\n",
       "<\/style>\n",
       "<table border=\"1\" class=\"dataframe\">\n",
       "  <thead>\n",
       "    <tr style=\"text-align: right;\">\n",
       "      <th><\/th>\n",
       "      <th>Product<\/th>\n",
       "      <th>Symbol\/ISIN<\/th>\n",
       "      <th>Amount<\/th>\n",
       "      <th>Closing<\/th>\n",
       "      <th>Local value<\/th>\n",
       "      <th>Value in GBP<\/th>\n",
       "    <\/tr>\n",
       "  <\/thead>\n",
       "  <tbody>\n",
       "    <tr>\n",
       "      <th>8<\/th>\n",
       "      <td>BLUEFIELD SOLAR<\/td>\n",
       "      <td>GG00BB0RDB98<\/td>\n",
       "      <td>7000<\/td>\n",
       "      <td>133.0<\/td>\n",
       "      <td>GBX 931000.00<\/td>\n",
       "      <td>9310.0<\/td>\n",
       "    <\/tr>\n",
       "  <\/tbody>\n",
       "<\/table>\n",
       "<\/div>"
      ]
     },
     "metadata":{
      
     },
     "output_type":"display_data"
    }
   ],
   "metadata":{
    "datalore":{
     "node_id":"SpjH1p5uAXWGKADkg8qmCV",
     "type":"CODE",
     "hide_input_from_viewers":false,
     "hide_output_from_viewers":false
    }
   }
  },
  {
   "cell_type":"code",
   "source":[
    "value_5k = portfolio[\"Value in GBP\"] > 5000\n",
    "shares_100 = portfolio[\"Amount\"] > 100\n",
    "\n",
    "portfolio[value_5k & shares_100]"
   ],
   "execution_count":17,
   "outputs":[
    {
     "data":{
      "text\/html":[
       "<div>\n",
       "<style scoped>\n",
       "    .dataframe tbody tr th:only-of-type {\n",
       "        vertical-align: middle;\n",
       "    }\n",
       "\n",
       "    .dataframe tbody tr th {\n",
       "        vertical-align: top;\n",
       "    }\n",
       "\n",
       "    .dataframe thead th {\n",
       "        text-align: right;\n",
       "    }\n",
       "<\/style>\n",
       "<table border=\"1\" class=\"dataframe\">\n",
       "  <thead>\n",
       "    <tr style=\"text-align: right;\">\n",
       "      <th><\/th>\n",
       "      <th>Product<\/th>\n",
       "      <th>Symbol\/ISIN<\/th>\n",
       "      <th>Amount<\/th>\n",
       "      <th>Closing<\/th>\n",
       "      <th>Local value<\/th>\n",
       "      <th>Value in GBP<\/th>\n",
       "    <\/tr>\n",
       "  <\/thead>\n",
       "  <tbody>\n",
       "    <tr>\n",
       "      <th>8<\/th>\n",
       "      <td>BLUEFIELD SOLAR<\/td>\n",
       "      <td>GG00BB0RDB98<\/td>\n",
       "      <td>7000<\/td>\n",
       "      <td>133.00<\/td>\n",
       "      <td>GBX 931000.00<\/td>\n",
       "      <td>9310.00<\/td>\n",
       "    <\/tr>\n",
       "    <tr>\n",
       "      <th>34<\/th>\n",
       "      <td>HEND.FAR EAST<\/td>\n",
       "      <td>JE00B1GXH751<\/td>\n",
       "      <td>2000<\/td>\n",
       "      <td>290.00<\/td>\n",
       "      <td>GBX 580000.00<\/td>\n",
       "      <td>5800.00<\/td>\n",
       "    <\/tr>\n",
       "    <tr>\n",
       "      <th>40<\/th>\n",
       "      <td>ISH COREFTSE100<\/td>\n",
       "      <td>IE0005042456<\/td>\n",
       "      <td>700<\/td>\n",
       "      <td>732.30<\/td>\n",
       "      <td>GBX 512610.00<\/td>\n",
       "      <td>5126.10<\/td>\n",
       "    <\/tr>\n",
       "    <tr>\n",
       "      <th>41<\/th>\n",
       "      <td>ISHARES NASDAQ US BIOTECHNOLOGY...<\/td>\n",
       "      <td>IE00BYXG2H39<\/td>\n",
       "      <td>1200<\/td>\n",
       "      <td>4.95<\/td>\n",
       "      <td>EUR 5943.00<\/td>\n",
       "      <td>5045.85<\/td>\n",
       "    <\/tr>\n",
       "    <tr>\n",
       "      <th>44<\/th>\n",
       "      <td>ISHR ASIA PROP<\/td>\n",
       "      <td>IE00B1FZS244<\/td>\n",
       "      <td>500<\/td>\n",
       "      <td>1966.25<\/td>\n",
       "      <td>GBX 983125.00<\/td>\n",
       "      <td>9831.25<\/td>\n",
       "    <\/tr>\n",
       "    <tr>\n",
       "      <th>47<\/th>\n",
       "      <td>ISHR EU PROP<\/td>\n",
       "      <td>IE00B0M63284<\/td>\n",
       "      <td>400<\/td>\n",
       "      <td>3013.00<\/td>\n",
       "      <td>GBX 1205200.00<\/td>\n",
       "      <td>12052.00<\/td>\n",
       "    <\/tr>\n",
       "    <tr>\n",
       "      <th>61<\/th>\n",
       "      <td>ISHR UK PROP<\/td>\n",
       "      <td>IE00B1TXLS18<\/td>\n",
       "      <td>1500<\/td>\n",
       "      <td>589.50<\/td>\n",
       "      <td>GBX 884250.00<\/td>\n",
       "      <td>8842.50<\/td>\n",
       "    <\/tr>\n",
       "    <tr>\n",
       "      <th>62<\/th>\n",
       "      <td>ISHR US PROP<\/td>\n",
       "      <td>IE00B1FZSF77<\/td>\n",
       "      <td>474<\/td>\n",
       "      <td>2506.00<\/td>\n",
       "      <td>GBX 1187844.00<\/td>\n",
       "      <td>11878.44<\/td>\n",
       "    <\/tr>\n",
       "    <tr>\n",
       "      <th>73<\/th>\n",
       "      <td>POWERSHS EQQQ<\/td>\n",
       "      <td>IE0032077012<\/td>\n",
       "      <td>110<\/td>\n",
       "      <td>24698.00<\/td>\n",
       "      <td>GBX 2716780.00<\/td>\n",
       "      <td>27167.80<\/td>\n",
       "    <\/tr>\n",
       "  <\/tbody>\n",
       "<\/table>\n",
       "<\/div>"
      ]
     },
     "metadata":{
      
     },
     "output_type":"display_data"
    }
   ],
   "metadata":{
    "datalore":{
     "node_id":"jvzDzW3VxLgKObcPiN10ND",
     "type":"CODE",
     "hide_input_from_viewers":false,
     "hide_output_from_viewers":false
    }
   }
  },
  {
   "cell_type":"code",
   "source":[
    "#this can also be done in one line of code \n",
    "\n",
    "portfolio[ (portfolio[\"Value in GBP\"] > 5000) & (portfolio[\"Amount\"] > 100) ]"
   ],
   "execution_count":18,
   "outputs":[
    {
     "data":{
      "text\/html":[
       "<div>\n",
       "<style scoped>\n",
       "    .dataframe tbody tr th:only-of-type {\n",
       "        vertical-align: middle;\n",
       "    }\n",
       "\n",
       "    .dataframe tbody tr th {\n",
       "        vertical-align: top;\n",
       "    }\n",
       "\n",
       "    .dataframe thead th {\n",
       "        text-align: right;\n",
       "    }\n",
       "<\/style>\n",
       "<table border=\"1\" class=\"dataframe\">\n",
       "  <thead>\n",
       "    <tr style=\"text-align: right;\">\n",
       "      <th><\/th>\n",
       "      <th>Product<\/th>\n",
       "      <th>Symbol\/ISIN<\/th>\n",
       "      <th>Amount<\/th>\n",
       "      <th>Closing<\/th>\n",
       "      <th>Local value<\/th>\n",
       "      <th>Value in GBP<\/th>\n",
       "    <\/tr>\n",
       "  <\/thead>\n",
       "  <tbody>\n",
       "    <tr>\n",
       "      <th>8<\/th>\n",
       "      <td>BLUEFIELD SOLAR<\/td>\n",
       "      <td>GG00BB0RDB98<\/td>\n",
       "      <td>7000<\/td>\n",
       "      <td>133.00<\/td>\n",
       "      <td>GBX 931000.00<\/td>\n",
       "      <td>9310.00<\/td>\n",
       "    <\/tr>\n",
       "    <tr>\n",
       "      <th>34<\/th>\n",
       "      <td>HEND.FAR EAST<\/td>\n",
       "      <td>JE00B1GXH751<\/td>\n",
       "      <td>2000<\/td>\n",
       "      <td>290.00<\/td>\n",
       "      <td>GBX 580000.00<\/td>\n",
       "      <td>5800.00<\/td>\n",
       "    <\/tr>\n",
       "    <tr>\n",
       "      <th>40<\/th>\n",
       "      <td>ISH COREFTSE100<\/td>\n",
       "      <td>IE0005042456<\/td>\n",
       "      <td>700<\/td>\n",
       "      <td>732.30<\/td>\n",
       "      <td>GBX 512610.00<\/td>\n",
       "      <td>5126.10<\/td>\n",
       "    <\/tr>\n",
       "    <tr>\n",
       "      <th>41<\/th>\n",
       "      <td>ISHARES NASDAQ US BIOTECHNOLOGY...<\/td>\n",
       "      <td>IE00BYXG2H39<\/td>\n",
       "      <td>1200<\/td>\n",
       "      <td>4.95<\/td>\n",
       "      <td>EUR 5943.00<\/td>\n",
       "      <td>5045.85<\/td>\n",
       "    <\/tr>\n",
       "    <tr>\n",
       "      <th>44<\/th>\n",
       "      <td>ISHR ASIA PROP<\/td>\n",
       "      <td>IE00B1FZS244<\/td>\n",
       "      <td>500<\/td>\n",
       "      <td>1966.25<\/td>\n",
       "      <td>GBX 983125.00<\/td>\n",
       "      <td>9831.25<\/td>\n",
       "    <\/tr>\n",
       "    <tr>\n",
       "      <th>47<\/th>\n",
       "      <td>ISHR EU PROP<\/td>\n",
       "      <td>IE00B0M63284<\/td>\n",
       "      <td>400<\/td>\n",
       "      <td>3013.00<\/td>\n",
       "      <td>GBX 1205200.00<\/td>\n",
       "      <td>12052.00<\/td>\n",
       "    <\/tr>\n",
       "    <tr>\n",
       "      <th>61<\/th>\n",
       "      <td>ISHR UK PROP<\/td>\n",
       "      <td>IE00B1TXLS18<\/td>\n",
       "      <td>1500<\/td>\n",
       "      <td>589.50<\/td>\n",
       "      <td>GBX 884250.00<\/td>\n",
       "      <td>8842.50<\/td>\n",
       "    <\/tr>\n",
       "    <tr>\n",
       "      <th>62<\/th>\n",
       "      <td>ISHR US PROP<\/td>\n",
       "      <td>IE00B1FZSF77<\/td>\n",
       "      <td>474<\/td>\n",
       "      <td>2506.00<\/td>\n",
       "      <td>GBX 1187844.00<\/td>\n",
       "      <td>11878.44<\/td>\n",
       "    <\/tr>\n",
       "    <tr>\n",
       "      <th>73<\/th>\n",
       "      <td>POWERSHS EQQQ<\/td>\n",
       "      <td>IE0032077012<\/td>\n",
       "      <td>110<\/td>\n",
       "      <td>24698.00<\/td>\n",
       "      <td>GBX 2716780.00<\/td>\n",
       "      <td>27167.80<\/td>\n",
       "    <\/tr>\n",
       "  <\/tbody>\n",
       "<\/table>\n",
       "<\/div>"
      ]
     },
     "metadata":{
      
     },
     "output_type":"display_data"
    }
   ],
   "metadata":{
    "datalore":{
     "node_id":"Id4cTNtOVkApBrhM3tiZH0",
     "type":"CODE",
     "hide_input_from_viewers":false,
     "hide_output_from_viewers":false
    }
   }
  },
  {
   "cell_type":"markdown",
   "source":[
    "The easiest way to see whether values are in the dataframe is to use the **.isin()** method "
   ],
   "attachments":{
    
   },
   "metadata":{
    "datalore":{
     "node_id":"WNxiN0RYP6S7oudJA6VtGr",
     "type":"MD",
     "hide_input_from_viewers":false,
     "hide_output_from_viewers":false
    }
   }
  },
  {
   "cell_type":"code",
   "source":[
    "is_property = portfolio[\"Product\"].isin([\"ISHR EU PROP\", \"ISHR US PROP\", \"ISHR ASIA PROP\", \"ISHR UK PROP\"])\n",
    "                                        \n",
    "\n",
    "portfolio[is_property]                              "
   ],
   "execution_count":19,
   "outputs":[
    {
     "data":{
      "text\/html":[
       "<div>\n",
       "<style scoped>\n",
       "    .dataframe tbody tr th:only-of-type {\n",
       "        vertical-align: middle;\n",
       "    }\n",
       "\n",
       "    .dataframe tbody tr th {\n",
       "        vertical-align: top;\n",
       "    }\n",
       "\n",
       "    .dataframe thead th {\n",
       "        text-align: right;\n",
       "    }\n",
       "<\/style>\n",
       "<table border=\"1\" class=\"dataframe\">\n",
       "  <thead>\n",
       "    <tr style=\"text-align: right;\">\n",
       "      <th><\/th>\n",
       "      <th>Product<\/th>\n",
       "      <th>Symbol\/ISIN<\/th>\n",
       "      <th>Amount<\/th>\n",
       "      <th>Closing<\/th>\n",
       "      <th>Local value<\/th>\n",
       "      <th>Value in GBP<\/th>\n",
       "    <\/tr>\n",
       "  <\/thead>\n",
       "  <tbody>\n",
       "    <tr>\n",
       "      <th>44<\/th>\n",
       "      <td>ISHR ASIA PROP<\/td>\n",
       "      <td>IE00B1FZS244<\/td>\n",
       "      <td>500<\/td>\n",
       "      <td>1966.25<\/td>\n",
       "      <td>GBX 983125.00<\/td>\n",
       "      <td>9831.25<\/td>\n",
       "    <\/tr>\n",
       "    <tr>\n",
       "      <th>47<\/th>\n",
       "      <td>ISHR EU PROP<\/td>\n",
       "      <td>IE00B0M63284<\/td>\n",
       "      <td>400<\/td>\n",
       "      <td>3013.00<\/td>\n",
       "      <td>GBX 1205200.00<\/td>\n",
       "      <td>12052.00<\/td>\n",
       "    <\/tr>\n",
       "    <tr>\n",
       "      <th>61<\/th>\n",
       "      <td>ISHR UK PROP<\/td>\n",
       "      <td>IE00B1TXLS18<\/td>\n",
       "      <td>1500<\/td>\n",
       "      <td>589.50<\/td>\n",
       "      <td>GBX 884250.00<\/td>\n",
       "      <td>8842.50<\/td>\n",
       "    <\/tr>\n",
       "    <tr>\n",
       "      <th>62<\/th>\n",
       "      <td>ISHR US PROP<\/td>\n",
       "      <td>IE00B1FZSF77<\/td>\n",
       "      <td>474<\/td>\n",
       "      <td>2506.00<\/td>\n",
       "      <td>GBX 1187844.00<\/td>\n",
       "      <td>11878.44<\/td>\n",
       "    <\/tr>\n",
       "  <\/tbody>\n",
       "<\/table>\n",
       "<\/div>"
      ]
     },
     "metadata":{
      
     },
     "output_type":"display_data"
    }
   ],
   "metadata":{
    "datalore":{
     "node_id":"V9e9DX5jaMX5pEBU5h53oe",
     "type":"CODE",
     "hide_input_from_viewers":false,
     "hide_output_from_viewers":false
    }
   }
  },
  {
   "cell_type":"markdown",
   "source":[
    "# New Columns In Pandas"
   ],
   "attachments":{
    
   },
   "metadata":{
    "datalore":{
     "node_id":"yETPqBd9iJNgdwKj211aHg",
     "type":"MD",
     "hide_input_from_viewers":false,
     "hide_output_from_viewers":false
    }
   }
  },
  {
   "cell_type":"markdown",
   "source":[
    "To add in a new column we just need to state the new name of it. We can do calculations to get new columns that are calcs of others."
   ],
   "attachments":{
    
   },
   "metadata":{
    "datalore":{
     "node_id":"WVo4y9I5LZUOS13vfFNwF2",
     "type":"MD",
     "hide_input_from_viewers":false,
     "hide_output_from_viewers":false
    }
   }
  },
  {
   "cell_type":"code",
   "source":[
    "portfolio[\"Value in 000's\"] = (portfolio[\"Value in GBP\"] \/ 1000).round(2)\n",
    "\n",
    "portfolio"
   ],
   "execution_count":20,
   "outputs":[
    {
     "data":{
      "text\/html":[
       "<div>\n",
       "<style scoped>\n",
       "    .dataframe tbody tr th:only-of-type {\n",
       "        vertical-align: middle;\n",
       "    }\n",
       "\n",
       "    .dataframe tbody tr th {\n",
       "        vertical-align: top;\n",
       "    }\n",
       "\n",
       "    .dataframe thead th {\n",
       "        text-align: right;\n",
       "    }\n",
       "<\/style>\n",
       "<table border=\"1\" class=\"dataframe\">\n",
       "  <thead>\n",
       "    <tr style=\"text-align: right;\">\n",
       "      <th><\/th>\n",
       "      <th>Product<\/th>\n",
       "      <th>Symbol\/ISIN<\/th>\n",
       "      <th>Amount<\/th>\n",
       "      <th>Closing<\/th>\n",
       "      <th>Local value<\/th>\n",
       "      <th>Value in GBP<\/th>\n",
       "      <th>Value in 000's<\/th>\n",
       "    <\/tr>\n",
       "  <\/thead>\n",
       "  <tbody>\n",
       "    <tr>\n",
       "      <th>0<\/th>\n",
       "      <td>ADVANCED MICRO DEVICES<\/td>\n",
       "      <td>US0079031078<\/td>\n",
       "      <td>2<\/td>\n",
       "      <td>95.12<\/td>\n",
       "      <td>USD 190.24<\/td>\n",
       "      <td>155.14<\/td>\n",
       "      <td>0.16<\/td>\n",
       "    <\/tr>\n",
       "    <tr>\n",
       "      <th>1<\/th>\n",
       "      <td>AIRBUS SE<\/td>\n",
       "      <td>NL0000235190<\/td>\n",
       "      <td>3<\/td>\n",
       "      <td>106.38<\/td>\n",
       "      <td>EUR 319.14<\/td>\n",
       "      <td>270.96<\/td>\n",
       "      <td>0.27<\/td>\n",
       "    <\/tr>\n",
       "    <tr>\n",
       "      <th>2<\/th>\n",
       "      <td>ALPHABET INC. - CLASS C<\/td>\n",
       "      <td>US02079K1079<\/td>\n",
       "      <td>1<\/td>\n",
       "      <td>2330.31<\/td>\n",
       "      <td>USD 2330.31<\/td>\n",
       "      <td>1900.38<\/td>\n",
       "      <td>1.90<\/td>\n",
       "    <\/tr>\n",
       "    <tr>\n",
       "      <th>3<\/th>\n",
       "      <td>AMAZON.COM INC. - COM<\/td>\n",
       "      <td>US0231351067<\/td>\n",
       "      <td>1<\/td>\n",
       "      <td>2261.10<\/td>\n",
       "      <td>USD 2261.10<\/td>\n",
       "      <td>1843.93<\/td>\n",
       "      <td>1.84<\/td>\n",
       "    <\/tr>\n",
       "    <tr>\n",
       "      <th>4<\/th>\n",
       "      <td>BAE SYS.<\/td>\n",
       "      <td>GB0002634946<\/td>\n",
       "      <td>20<\/td>\n",
       "      <td>741.20<\/td>\n",
       "      <td>GBX 14824.00<\/td>\n",
       "      <td>148.24<\/td>\n",
       "      <td>0.15<\/td>\n",
       "    <\/tr>\n",
       "    <tr>\n",
       "      <th>...<\/th>\n",
       "      <td>...<\/td>\n",
       "      <td>...<\/td>\n",
       "      <td>...<\/td>\n",
       "      <td>...<\/td>\n",
       "      <td>...<\/td>\n",
       "      <td>...<\/td>\n",
       "      <td>...<\/td>\n",
       "    <\/tr>\n",
       "    <tr>\n",
       "      <th>86<\/th>\n",
       "      <td>UNILEVER<\/td>\n",
       "      <td>GB00B10RZP78<\/td>\n",
       "      <td>3<\/td>\n",
       "      <td>3747.00<\/td>\n",
       "      <td>GBX 11241.00<\/td>\n",
       "      <td>112.41<\/td>\n",
       "      <td>0.11<\/td>\n",
       "    <\/tr>\n",
       "    <tr>\n",
       "      <th>87<\/th>\n",
       "      <td>VOLTA FIN<\/td>\n",
       "      <td>GG00B1GHHH78<\/td>\n",
       "      <td>600<\/td>\n",
       "      <td>5.90<\/td>\n",
       "      <td>EUR 3540.00<\/td>\n",
       "      <td>3005.60<\/td>\n",
       "      <td>3.01<\/td>\n",
       "    <\/tr>\n",
       "    <tr>\n",
       "      <th>88<\/th>\n",
       "      <td>WALT DISNEY COMPANY (T<\/td>\n",
       "      <td>US2546871060<\/td>\n",
       "      <td>3<\/td>\n",
       "      <td>107.33<\/td>\n",
       "      <td>USD 321.99<\/td>\n",
       "      <td>262.58<\/td>\n",
       "      <td>0.26<\/td>\n",
       "    <\/tr>\n",
       "    <tr>\n",
       "      <th>89<\/th>\n",
       "      <td>XTRACKERS MSCI SINGAPORE UCITS ...<\/td>\n",
       "      <td>LU0659578842<\/td>\n",
       "      <td>1200<\/td>\n",
       "      <td>1.27<\/td>\n",
       "      <td>EUR 1524.48<\/td>\n",
       "      <td>1294.35<\/td>\n",
       "      <td>1.29<\/td>\n",
       "    <\/tr>\n",
       "    <tr>\n",
       "      <th>90<\/th>\n",
       "      <td>XYLEM INC. COMMON STOC<\/td>\n",
       "      <td>US98419M1009<\/td>\n",
       "      <td>4<\/td>\n",
       "      <td>83.91<\/td>\n",
       "      <td>USD 335.64<\/td>\n",
       "      <td>273.72<\/td>\n",
       "      <td>0.27<\/td>\n",
       "    <\/tr>\n",
       "  <\/tbody>\n",
       "<\/table>\n",
       "<p>91 rows × 7 columns<\/p>\n",
       "<\/div>"
      ]
     },
     "metadata":{
      
     },
     "output_type":"display_data"
    }
   ],
   "metadata":{
    "datalore":{
     "node_id":"NTXAYD3BC0w6v5IxS1SYw6",
     "type":"CODE",
     "hide_input_from_viewers":false,
     "hide_output_from_viewers":false
    }
   }
  }
 ],
 "metadata":{
  "kernelspec":{
   "display_name":"Python",
   "language":"python",
   "name":"python"
  },
  "datalore":{
   "version":1,
   "computation_mode":"JUPYTER",
   "package_manager":"pip",
   "base_environment":"default",
   "packages":[
    
   ]
  }
 },
 "nbformat":4,
 "nbformat_minor":4
}