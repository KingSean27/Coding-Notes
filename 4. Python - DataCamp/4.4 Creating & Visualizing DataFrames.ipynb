{
 "cells":[
  {
   "cell_type":"markdown",
   "source":[
    "# Creating & Visualizing DataFrames"
   ],
   "attachments":{
    
   },
   "metadata":{
    "datalore":{
     "node_id":"KZAV8hJIpYA0b1qmiDaNEJ",
     "type":"MD",
     "hide_input_from_viewers":false,
     "hide_output_from_viewers":false
    }
   }
  },
  {
   "cell_type":"markdown",
   "source":[
    "Matplotlib works well with pandas we can use it to make histograms very easily\n",
    "\n",
    "See the chapter on matplotlib for further details on this"
   ],
   "attachments":{
    
   },
   "metadata":{
    "datalore":{
     "node_id":"UR6E0snDQS5YmvR1JQYyij",
     "type":"MD",
     "hide_input_from_viewers":false,
     "hide_output_from_viewers":false
    }
   }
  },
  {
   "cell_type":"code",
   "source":[
    "import pandas as pd\n",
    "import numpy as np\n",
    "import matplotlib.pyplot as pp\n",
    "\n",
    "\n",
    "pitches = pd.read_csv(\"\/data\/workspace_files\/stocks_pitches.csv\")\n",
    "pitches.head()"
   ],
   "execution_count":2,
   "outputs":[
    {
     "data":{
      "text\/html":[
       "<div>\n",
       "<style scoped>\n",
       "    .dataframe tbody tr th:only-of-type {\n",
       "        vertical-align: middle;\n",
       "    }\n",
       "\n",
       "    .dataframe tbody tr th {\n",
       "        vertical-align: top;\n",
       "    }\n",
       "\n",
       "    .dataframe thead th {\n",
       "        text-align: right;\n",
       "    }\n",
       "<\/style>\n",
       "<table border=\"1\" class=\"dataframe\">\n",
       "  <thead>\n",
       "    <tr style=\"text-align: right;\">\n",
       "      <th><\/th>\n",
       "      <th>Name<\/th>\n",
       "      <th>Associate<\/th>\n",
       "      <th>Ticker<\/th>\n",
       "      <th>Pitch Date<\/th>\n",
       "      <th>Pitch Price<\/th>\n",
       "      <th>Curr<\/th>\n",
       "      <th>Today Price<\/th>\n",
       "      <th>Price %<\/th>\n",
       "      <th>Total Divs<\/th>\n",
       "      <th>Currency ?<\/th>\n",
       "      <th>Total %<\/th>\n",
       "    <\/tr>\n",
       "  <\/thead>\n",
       "  <tbody>\n",
       "    <tr>\n",
       "      <th>0<\/th>\n",
       "      <td>ABB Ltd<\/td>\n",
       "      <td>Matt Smith<\/td>\n",
       "      <td>ABB<\/td>\n",
       "      <td>06\/03\/2018<\/td>\n",
       "      <td>22.80<\/td>\n",
       "      <td>CHF<\/td>\n",
       "      <td>21.86<\/td>\n",
       "      <td>-0.04<\/td>\n",
       "      <td>1.623<\/td>\n",
       "      <td>1.02<\/td>\n",
       "      <td>0.03<\/td>\n",
       "    <\/tr>\n",
       "    <tr>\n",
       "      <th>1<\/th>\n",
       "      <td>Alibaba Group Holding Ltd<\/td>\n",
       "      <td>Anna Erofeeva<\/td>\n",
       "      <td>BABA<\/td>\n",
       "      <td>05\/12\/2017<\/td>\n",
       "      <td>177.62<\/td>\n",
       "      <td>USD<\/td>\n",
       "      <td>186.78<\/td>\n",
       "      <td>0.05<\/td>\n",
       "      <td>0.000<\/td>\n",
       "      <td>1.04<\/td>\n",
       "      <td>0.05<\/td>\n",
       "    <\/tr>\n",
       "    <tr>\n",
       "      <th>2<\/th>\n",
       "      <td>Apple Inc<\/td>\n",
       "      <td>Darren Wyy<\/td>\n",
       "      <td>AAPL<\/td>\n",
       "      <td>16\/01\/2018<\/td>\n",
       "      <td>176.30<\/td>\n",
       "      <td>USD<\/td>\n",
       "      <td>261.78<\/td>\n",
       "      <td>0.48<\/td>\n",
       "      <td>5.860<\/td>\n",
       "      <td>1.06<\/td>\n",
       "      <td>0.55<\/td>\n",
       "    <\/tr>\n",
       "    <tr>\n",
       "      <th>3<\/th>\n",
       "      <td>Arista Networks Inc<\/td>\n",
       "      <td>Xu Jiawei<\/td>\n",
       "      <td>ANET<\/td>\n",
       "      <td>14\/11\/2017<\/td>\n",
       "      <td>225.50<\/td>\n",
       "      <td>USD<\/td>\n",
       "      <td>194.49<\/td>\n",
       "      <td>-0.14<\/td>\n",
       "      <td>0.000<\/td>\n",
       "      <td>1.02<\/td>\n",
       "      <td>-0.14<\/td>\n",
       "    <\/tr>\n",
       "    <tr>\n",
       "      <th>4<\/th>\n",
       "      <td>BHP Billiton Ltd<\/td>\n",
       "      <td>Matt Smith<\/td>\n",
       "      <td>BHP<\/td>\n",
       "      <td>05\/12\/2017<\/td>\n",
       "      <td>42.10<\/td>\n",
       "      <td>USD<\/td>\n",
       "      <td>50.84<\/td>\n",
       "      <td>0.21<\/td>\n",
       "      <td>7.060<\/td>\n",
       "      <td>1.04<\/td>\n",
       "      <td>0.39<\/td>\n",
       "    <\/tr>\n",
       "  <\/tbody>\n",
       "<\/table>\n",
       "<\/div>"
      ]
     },
     "metadata":{
      
     },
     "output_type":"display_data"
    }
   ],
   "metadata":{
    "datalore":{
     "node_id":"1kI92I46UFzGFm9GNSMHrQ",
     "type":"CODE",
     "hide_input_from_viewers":false,
     "hide_output_from_viewers":false
    }
   }
  },
  {
   "cell_type":"code",
   "source":[
    "pitches[\"Total %\"].hist()\n",
    "\n",
    "#pp.show(())"
   ],
   "execution_count":3,
   "outputs":[
    {
     "data":{
      "text\/plain":[
       "<AxesSubplot:>"
      ]
     },
     "metadata":{
      
     },
     "output_type":"display_data"
    },
    {
     "data":{
      "image\/png":"[encoded data removed]"
     },
     "metadata":{
      "image\/png":{
       
      }
     },
     "output_type":"display_data"
    }
   ],
   "metadata":{
    "datalore":{
     "node_id":"ChhWU2r3TkHKXMVYR1Lj2G",
     "type":"CODE",
     "hide_input_from_viewers":false,
     "hide_output_from_viewers":false
    }
   }
  },
  {
   "cell_type":"code",
   "source":[
    "pitches[\"Total %\"].hist(bins=30)"
   ],
   "execution_count":4,
   "outputs":[
    {
     "data":{
      "text\/plain":[
       "<AxesSubplot:>"
      ]
     },
     "metadata":{
      
     },
     "output_type":"display_data"
    },
    {
     "data":{
      "image\/png":"[encoded data removed]"
     },
     "metadata":{
      "image\/png":{
       
      }
     },
     "output_type":"display_data"
    }
   ],
   "metadata":{
    "datalore":{
     "node_id":"UxlNFzTHjbm6lKFkiqyE0o",
     "type":"CODE",
     "hide_input_from_viewers":false,
     "hide_output_from_viewers":false
    }
   }
  },
  {
   "cell_type":"markdown",
   "source":[
    "# Missing Values"
   ],
   "attachments":{
    
   },
   "metadata":{
    "datalore":{
     "node_id":"SYAXeGNSWxrXSQFy9fHeoU",
     "type":"MD",
     "hide_input_from_viewers":false,
     "hide_output_from_viewers":false
    }
   }
  },
  {
   "cell_type":"markdown",
   "source":[
    "Some data may be missing values as we know, these will be displayed as NaN\n",
    "\n",
    "isna() method is used to detect NaNs. It gives us a boolean value for each data point \n",
    "\n",
    "We can chain this with .any() which is more useful when working with big data. .sum() counts the number missing too "
   ],
   "attachments":{
    
   },
   "metadata":{
    "datalore":{
     "node_id":"hgdgEdlr56k0KKeZIAcb54",
     "type":"MD",
     "hide_input_from_viewers":false,
     "hide_output_from_viewers":false
    }
   }
  },
  {
   "cell_type":"code",
   "source":[
    "portfolio = pd.read_csv(\"\/data\/workspace_files\/investment_portfolio.csv\")\n",
    "portfolio_indexed = portfolio.set_index(\"Product\")\n",
    "\n",
    "portfolio_indexed"
   ],
   "execution_count":5,
   "outputs":[
    {
     "data":{
      "text\/html":[
       "<div>\n",
       "<style scoped>\n",
       "    .dataframe tbody tr th:only-of-type {\n",
       "        vertical-align: middle;\n",
       "    }\n",
       "\n",
       "    .dataframe tbody tr th {\n",
       "        vertical-align: top;\n",
       "    }\n",
       "\n",
       "    .dataframe thead th {\n",
       "        text-align: right;\n",
       "    }\n",
       "<\/style>\n",
       "<table border=\"1\" class=\"dataframe\">\n",
       "  <thead>\n",
       "    <tr style=\"text-align: right;\">\n",
       "      <th><\/th>\n",
       "      <th>Symbol\/ISIN<\/th>\n",
       "      <th>Amount<\/th>\n",
       "      <th>Closing<\/th>\n",
       "      <th>Local value<\/th>\n",
       "      <th>Value in GBP<\/th>\n",
       "    <\/tr>\n",
       "    <tr>\n",
       "      <th>Product<\/th>\n",
       "      <th><\/th>\n",
       "      <th><\/th>\n",
       "      <th><\/th>\n",
       "      <th><\/th>\n",
       "      <th><\/th>\n",
       "    <\/tr>\n",
       "  <\/thead>\n",
       "  <tbody>\n",
       "    <tr>\n",
       "      <th>ADVANCED MICRO DEVICES<\/th>\n",
       "      <td>US0079031078<\/td>\n",
       "      <td>2<\/td>\n",
       "      <td>95.12<\/td>\n",
       "      <td>USD 190.24<\/td>\n",
       "      <td>155.14<\/td>\n",
       "    <\/tr>\n",
       "    <tr>\n",
       "      <th>AIRBUS SE<\/th>\n",
       "      <td>NL0000235190<\/td>\n",
       "      <td>3<\/td>\n",
       "      <td>106.38<\/td>\n",
       "      <td>EUR 319.14<\/td>\n",
       "      <td>270.96<\/td>\n",
       "    <\/tr>\n",
       "    <tr>\n",
       "      <th>ALPHABET INC. - CLASS C<\/th>\n",
       "      <td>US02079K1079<\/td>\n",
       "      <td>1<\/td>\n",
       "      <td>2330.31<\/td>\n",
       "      <td>USD 2330.31<\/td>\n",
       "      <td>1900.38<\/td>\n",
       "    <\/tr>\n",
       "    <tr>\n",
       "      <th>AMAZON.COM INC. - COM<\/th>\n",
       "      <td>US0231351067<\/td>\n",
       "      <td>1<\/td>\n",
       "      <td>2261.10<\/td>\n",
       "      <td>USD 2261.10<\/td>\n",
       "      <td>1843.93<\/td>\n",
       "    <\/tr>\n",
       "    <tr>\n",
       "      <th>BAE SYS.<\/th>\n",
       "      <td>GB0002634946<\/td>\n",
       "      <td>20<\/td>\n",
       "      <td>741.20<\/td>\n",
       "      <td>GBX 14824.00<\/td>\n",
       "      <td>148.24<\/td>\n",
       "    <\/tr>\n",
       "    <tr>\n",
       "      <th>...<\/th>\n",
       "      <td>...<\/td>\n",
       "      <td>...<\/td>\n",
       "      <td>...<\/td>\n",
       "      <td>...<\/td>\n",
       "      <td>...<\/td>\n",
       "    <\/tr>\n",
       "    <tr>\n",
       "      <th>UNILEVER<\/th>\n",
       "      <td>GB00B10RZP78<\/td>\n",
       "      <td>3<\/td>\n",
       "      <td>3747.00<\/td>\n",
       "      <td>GBX 11241.00<\/td>\n",
       "      <td>112.41<\/td>\n",
       "    <\/tr>\n",
       "    <tr>\n",
       "      <th>VOLTA FIN<\/th>\n",
       "      <td>GG00B1GHHH78<\/td>\n",
       "      <td>600<\/td>\n",
       "      <td>5.90<\/td>\n",
       "      <td>EUR 3540.00<\/td>\n",
       "      <td>3005.60<\/td>\n",
       "    <\/tr>\n",
       "    <tr>\n",
       "      <th>WALT DISNEY COMPANY (T<\/th>\n",
       "      <td>US2546871060<\/td>\n",
       "      <td>3<\/td>\n",
       "      <td>107.33<\/td>\n",
       "      <td>USD 321.99<\/td>\n",
       "      <td>262.58<\/td>\n",
       "    <\/tr>\n",
       "    <tr>\n",
       "      <th>XTRACKERS MSCI SINGAPORE UCITS ...<\/th>\n",
       "      <td>LU0659578842<\/td>\n",
       "      <td>1200<\/td>\n",
       "      <td>1.27<\/td>\n",
       "      <td>EUR 1524.48<\/td>\n",
       "      <td>1294.35<\/td>\n",
       "    <\/tr>\n",
       "    <tr>\n",
       "      <th>XYLEM INC. COMMON STOC<\/th>\n",
       "      <td>US98419M1009<\/td>\n",
       "      <td>4<\/td>\n",
       "      <td>83.91<\/td>\n",
       "      <td>USD 335.64<\/td>\n",
       "      <td>273.72<\/td>\n",
       "    <\/tr>\n",
       "  <\/tbody>\n",
       "<\/table>\n",
       "<p>91 rows × 5 columns<\/p>\n",
       "<\/div>"
      ]
     },
     "metadata":{
      
     },
     "output_type":"display_data"
    }
   ],
   "metadata":{
    "datalore":{
     "node_id":"X3iZFmWPtDvwDPlQYwQw09",
     "type":"CODE",
     "hide_input_from_viewers":false,
     "hide_output_from_viewers":false
    }
   }
  },
  {
   "cell_type":"code",
   "source":[
    "options = portfolio_indexed.loc[\"ES 3000 P 17JUN22\":\"ES 4000 P 19DEC25\"]\n",
    "\n",
    "options.isna()"
   ],
   "execution_count":6,
   "outputs":[
    {
     "data":{
      "text\/html":[
       "<div>\n",
       "<style scoped>\n",
       "    .dataframe tbody tr th:only-of-type {\n",
       "        vertical-align: middle;\n",
       "    }\n",
       "\n",
       "    .dataframe tbody tr th {\n",
       "        vertical-align: top;\n",
       "    }\n",
       "\n",
       "    .dataframe thead th {\n",
       "        text-align: right;\n",
       "    }\n",
       "<\/style>\n",
       "<table border=\"1\" class=\"dataframe\">\n",
       "  <thead>\n",
       "    <tr style=\"text-align: right;\">\n",
       "      <th><\/th>\n",
       "      <th>Symbol\/ISIN<\/th>\n",
       "      <th>Amount<\/th>\n",
       "      <th>Closing<\/th>\n",
       "      <th>Local value<\/th>\n",
       "      <th>Value in GBP<\/th>\n",
       "    <\/tr>\n",
       "    <tr>\n",
       "      <th>Product<\/th>\n",
       "      <th><\/th>\n",
       "      <th><\/th>\n",
       "      <th><\/th>\n",
       "      <th><\/th>\n",
       "      <th><\/th>\n",
       "    <\/tr>\n",
       "  <\/thead>\n",
       "  <tbody>\n",
       "    <tr>\n",
       "      <th>ES 3000 P 17JUN22<\/th>\n",
       "      <td>True<\/td>\n",
       "      <td>False<\/td>\n",
       "      <td>False<\/td>\n",
       "      <td>False<\/td>\n",
       "      <td>False<\/td>\n",
       "    <\/tr>\n",
       "    <tr>\n",
       "      <th>ES 3200 P 16DEC22<\/th>\n",
       "      <td>True<\/td>\n",
       "      <td>False<\/td>\n",
       "      <td>False<\/td>\n",
       "      <td>False<\/td>\n",
       "      <td>False<\/td>\n",
       "    <\/tr>\n",
       "    <tr>\n",
       "      <th>ES 3400 P 18DEC26<\/th>\n",
       "      <td>True<\/td>\n",
       "      <td>False<\/td>\n",
       "      <td>False<\/td>\n",
       "      <td>False<\/td>\n",
       "      <td>False<\/td>\n",
       "    <\/tr>\n",
       "    <tr>\n",
       "      <th>ES 3400 P 19DEC25<\/th>\n",
       "      <td>True<\/td>\n",
       "      <td>False<\/td>\n",
       "      <td>False<\/td>\n",
       "      <td>False<\/td>\n",
       "      <td>False<\/td>\n",
       "    <\/tr>\n",
       "    <tr>\n",
       "      <th>ES 3600 P 17JUN22<\/th>\n",
       "      <td>True<\/td>\n",
       "      <td>False<\/td>\n",
       "      <td>False<\/td>\n",
       "      <td>False<\/td>\n",
       "      <td>False<\/td>\n",
       "    <\/tr>\n",
       "    <tr>\n",
       "      <th>ES 3800 P 16DEC22<\/th>\n",
       "      <td>True<\/td>\n",
       "      <td>False<\/td>\n",
       "      <td>False<\/td>\n",
       "      <td>False<\/td>\n",
       "      <td>False<\/td>\n",
       "    <\/tr>\n",
       "    <tr>\n",
       "      <th>ES 4000 P 18DEC26<\/th>\n",
       "      <td>True<\/td>\n",
       "      <td>False<\/td>\n",
       "      <td>False<\/td>\n",
       "      <td>False<\/td>\n",
       "      <td>False<\/td>\n",
       "    <\/tr>\n",
       "    <tr>\n",
       "      <th>ES 4000 P 19DEC25<\/th>\n",
       "      <td>True<\/td>\n",
       "      <td>False<\/td>\n",
       "      <td>False<\/td>\n",
       "      <td>False<\/td>\n",
       "      <td>False<\/td>\n",
       "    <\/tr>\n",
       "  <\/tbody>\n",
       "<\/table>\n",
       "<\/div>"
      ]
     },
     "metadata":{
      
     },
     "output_type":"display_data"
    }
   ],
   "metadata":{
    "datalore":{
     "node_id":"ldYMlQ5nmHElTPVyJWVfKx",
     "type":"CODE",
     "hide_input_from_viewers":false,
     "hide_output_from_viewers":false
    }
   }
  },
  {
   "cell_type":"code",
   "source":[
    "options.isna().any()"
   ],
   "execution_count":7,
   "outputs":[
    {
     "data":{
      "text\/html":[
       "<pre>Symbol\/ISIN      True\n",
       "Amount          False\n",
       "Closing         False\n",
       "Local value     False\n",
       "Value in GBP    False\n",
       "dtype: bool<\/pre>"
      ]
     },
     "metadata":{
      
     },
     "output_type":"display_data"
    }
   ],
   "metadata":{
    "datalore":{
     "node_id":"ty7rHVdYid5sstAoDuH5cn",
     "type":"CODE",
     "hide_input_from_viewers":false,
     "hide_output_from_viewers":false
    }
   }
  },
  {
   "cell_type":"code",
   "source":[
    "options.isna().sum()"
   ],
   "execution_count":8,
   "outputs":[
    {
     "data":{
      "text\/html":[
       "<pre>Symbol\/ISIN     8\n",
       "Amount          0\n",
       "Closing         0\n",
       "Local value     0\n",
       "Value in GBP    0\n",
       "dtype: int64<\/pre>"
      ]
     },
     "metadata":{
      
     },
     "output_type":"display_data"
    }
   ],
   "metadata":{
    "datalore":{
     "node_id":"2KI9HAqzp4IdhosEHVfHAF",
     "type":"CODE",
     "hide_input_from_viewers":false,
     "hide_output_from_viewers":false
    }
   }
  },
  {
   "cell_type":"markdown",
   "source":[
    "We can drop the NaN values with .dropna()\n",
    "\n",
    "Or fill them in with a with .fillna()"
   ],
   "attachments":{
    
   },
   "metadata":{
    "datalore":{
     "node_id":"IP6OGZAulw7FIZKF3sJXVR",
     "type":"MD",
     "hide_input_from_viewers":false,
     "hide_output_from_viewers":false
    }
   }
  },
  {
   "cell_type":"code",
   "source":[
    "options.dropna()"
   ],
   "execution_count":9,
   "outputs":[
    {
     "data":{
      "text\/html":[
       "<div>\n",
       "<style scoped>\n",
       "    .dataframe tbody tr th:only-of-type {\n",
       "        vertical-align: middle;\n",
       "    }\n",
       "\n",
       "    .dataframe tbody tr th {\n",
       "        vertical-align: top;\n",
       "    }\n",
       "\n",
       "    .dataframe thead th {\n",
       "        text-align: right;\n",
       "    }\n",
       "<\/style>\n",
       "<table border=\"1\" class=\"dataframe\">\n",
       "  <thead>\n",
       "    <tr style=\"text-align: right;\">\n",
       "      <th><\/th>\n",
       "      <th>Symbol\/ISIN<\/th>\n",
       "      <th>Amount<\/th>\n",
       "      <th>Closing<\/th>\n",
       "      <th>Local value<\/th>\n",
       "      <th>Value in GBP<\/th>\n",
       "    <\/tr>\n",
       "    <tr>\n",
       "      <th>Product<\/th>\n",
       "      <th><\/th>\n",
       "      <th><\/th>\n",
       "      <th><\/th>\n",
       "      <th><\/th>\n",
       "      <th><\/th>\n",
       "    <\/tr>\n",
       "  <\/thead>\n",
       "  <tbody>\n",
       "  <\/tbody>\n",
       "<\/table>\n",
       "<\/div>"
      ]
     },
     "metadata":{
      
     },
     "output_type":"display_data"
    }
   ],
   "metadata":{
    "datalore":{
     "node_id":"Ei8RbEZEVjntujPRvvmqmo",
     "type":"CODE",
     "hide_input_from_viewers":false,
     "hide_output_from_viewers":false
    }
   }
  },
  {
   "cell_type":"code",
   "source":[
    "options.fillna(\"No ISIN\")"
   ],
   "execution_count":10,
   "outputs":[
    {
     "data":{
      "text\/html":[
       "<div>\n",
       "<style scoped>\n",
       "    .dataframe tbody tr th:only-of-type {\n",
       "        vertical-align: middle;\n",
       "    }\n",
       "\n",
       "    .dataframe tbody tr th {\n",
       "        vertical-align: top;\n",
       "    }\n",
       "\n",
       "    .dataframe thead th {\n",
       "        text-align: right;\n",
       "    }\n",
       "<\/style>\n",
       "<table border=\"1\" class=\"dataframe\">\n",
       "  <thead>\n",
       "    <tr style=\"text-align: right;\">\n",
       "      <th><\/th>\n",
       "      <th>Symbol\/ISIN<\/th>\n",
       "      <th>Amount<\/th>\n",
       "      <th>Closing<\/th>\n",
       "      <th>Local value<\/th>\n",
       "      <th>Value in GBP<\/th>\n",
       "    <\/tr>\n",
       "    <tr>\n",
       "      <th>Product<\/th>\n",
       "      <th><\/th>\n",
       "      <th><\/th>\n",
       "      <th><\/th>\n",
       "      <th><\/th>\n",
       "      <th><\/th>\n",
       "    <\/tr>\n",
       "  <\/thead>\n",
       "  <tbody>\n",
       "    <tr>\n",
       "      <th>ES 3000 P 17JUN22<\/th>\n",
       "      <td>No ISIN<\/td>\n",
       "      <td>1<\/td>\n",
       "      <td>3.90<\/td>\n",
       "      <td>USD 195.00<\/td>\n",
       "      <td>159.02<\/td>\n",
       "    <\/tr>\n",
       "    <tr>\n",
       "      <th>ES 3200 P 16DEC22<\/th>\n",
       "      <td>No ISIN<\/td>\n",
       "      <td>1<\/td>\n",
       "      <td>89.25<\/td>\n",
       "      <td>USD 4462.50<\/td>\n",
       "      <td>3639.18<\/td>\n",
       "    <\/tr>\n",
       "    <tr>\n",
       "      <th>ES 3400 P 18DEC26<\/th>\n",
       "      <td>No ISIN<\/td>\n",
       "      <td>1<\/td>\n",
       "      <td>357.00<\/td>\n",
       "      <td>USD 17850.00<\/td>\n",
       "      <td>14556.74<\/td>\n",
       "    <\/tr>\n",
       "    <tr>\n",
       "      <th>ES 3400 P 19DEC25<\/th>\n",
       "      <td>No ISIN<\/td>\n",
       "      <td>1<\/td>\n",
       "      <td>334.50<\/td>\n",
       "      <td>USD 16725.00<\/td>\n",
       "      <td>13639.30<\/td>\n",
       "    <\/tr>\n",
       "    <tr>\n",
       "      <th>ES 3600 P 17JUN22<\/th>\n",
       "      <td>No ISIN<\/td>\n",
       "      <td>-1<\/td>\n",
       "      <td>27.25<\/td>\n",
       "      <td>USD -1362.50<\/td>\n",
       "      <td>-1111.12<\/td>\n",
       "    <\/tr>\n",
       "    <tr>\n",
       "      <th>ES 3800 P 16DEC22<\/th>\n",
       "      <td>No ISIN<\/td>\n",
       "      <td>-1<\/td>\n",
       "      <td>218.75<\/td>\n",
       "      <td>USD -10937.50<\/td>\n",
       "      <td>-8919.57<\/td>\n",
       "    <\/tr>\n",
       "    <tr>\n",
       "      <th>ES 4000 P 18DEC26<\/th>\n",
       "      <td>No ISIN<\/td>\n",
       "      <td>-1<\/td>\n",
       "      <td>553.25<\/td>\n",
       "      <td>USD -27662.50<\/td>\n",
       "      <td>-22558.87<\/td>\n",
       "    <\/tr>\n",
       "    <tr>\n",
       "      <th>ES 4000 P 19DEC25<\/th>\n",
       "      <td>No ISIN<\/td>\n",
       "      <td>-1<\/td>\n",
       "      <td>526.50<\/td>\n",
       "      <td>USD -26325.00<\/td>\n",
       "      <td>-21468.13<\/td>\n",
       "    <\/tr>\n",
       "  <\/tbody>\n",
       "<\/table>\n",
       "<\/div>"
      ]
     },
     "metadata":{
      
     },
     "output_type":"display_data"
    }
   ],
   "metadata":{
    "datalore":{
     "node_id":"heinBKZ2CNeiqKT7bJ5PCl",
     "type":"CODE",
     "hide_input_from_viewers":false,
     "hide_output_from_viewers":false
    }
   }
  },
  {
   "cell_type":"markdown",
   "source":[
    "# Reading and Importing Data"
   ],
   "attachments":{
    
   },
   "metadata":{
    "datalore":{
     "node_id":"ojNLoLeFI5Et01Rr4Pno7b",
     "type":"MD",
     "hide_input_from_viewers":false,
     "hide_output_from_viewers":false
    }
   }
  },
  {
   "cell_type":"markdown",
   "source":[
    "Pandas data frames can be created from a list or dictionary"
   ],
   "attachments":{
    
   },
   "metadata":{
    "datalore":{
     "node_id":"Jv8R8qcQIlny4lhae0t0RI",
     "type":"MD",
     "hide_input_from_viewers":false,
     "hide_output_from_viewers":false
    }
   }
  },
  {
   "cell_type":"code",
   "source":[
    "my_dict = {\"key1\": \"Value\", \"key2\":2}"
   ],
   "execution_count":14,
   "outputs":[
    
   ],
   "metadata":{
    "datalore":{
     "node_id":"UD7UzSadFAQImDu470coLr",
     "type":"CODE",
     "hide_input_from_viewers":false,
     "hide_output_from_viewers":false
    }
   }
  },
  {
   "cell_type":"code",
   "source":[
    "df = pd.DataFrame.from_dict(my_dict, orient=\"index\")\n",
    "\n",
    "df"
   ],
   "execution_count":20,
   "outputs":[
    {
     "data":{
      "text\/html":[
       "<div>\n",
       "<style scoped>\n",
       "    .dataframe tbody tr th:only-of-type {\n",
       "        vertical-align: middle;\n",
       "    }\n",
       "\n",
       "    .dataframe tbody tr th {\n",
       "        vertical-align: top;\n",
       "    }\n",
       "\n",
       "    .dataframe thead th {\n",
       "        text-align: right;\n",
       "    }\n",
       "<\/style>\n",
       "<table border=\"1\" class=\"dataframe\">\n",
       "  <thead>\n",
       "    <tr style=\"text-align: right;\">\n",
       "      <th><\/th>\n",
       "      <th>0<\/th>\n",
       "    <\/tr>\n",
       "  <\/thead>\n",
       "  <tbody>\n",
       "    <tr>\n",
       "      <th>key1<\/th>\n",
       "      <td>Value<\/td>\n",
       "    <\/tr>\n",
       "    <tr>\n",
       "      <th>key2<\/th>\n",
       "      <td>2<\/td>\n",
       "    <\/tr>\n",
       "  <\/tbody>\n",
       "<\/table>\n",
       "<\/div>"
      ]
     },
     "metadata":{
      
     },
     "output_type":"display_data"
    }
   ],
   "metadata":{
    "datalore":{
     "node_id":"my34M3AJVpX5b1k7EBxefo",
     "type":"CODE",
     "hide_input_from_viewers":false,
     "hide_output_from_viewers":false
    }
   }
  },
  {
   "cell_type":"markdown",
   "source":[
    "However, it's not often you are going to be doing this. Mainly you are going to be using csv files \n",
    "\n",
    "We load the data frame with .read_csv() \n",
    "And store it as a csv with .to_csv()"
   ],
   "attachments":{
    
   },
   "metadata":{
    "datalore":{
     "node_id":"Rej6LmbQzuwSc2vXMre3kr",
     "type":"MD",
     "hide_input_from_viewers":false,
     "hide_output_from_viewers":false
    }
   }
  },
  {
   "cell_type":"code",
   "source":[
    "pd.read_csv(\"\/data\/workspace_files\/stocks_pitches.csv\")"
   ],
   "execution_count":21,
   "outputs":[
    {
     "data":{
      "text\/html":[
       "<div>\n",
       "<style scoped>\n",
       "    .dataframe tbody tr th:only-of-type {\n",
       "        vertical-align: middle;\n",
       "    }\n",
       "\n",
       "    .dataframe tbody tr th {\n",
       "        vertical-align: top;\n",
       "    }\n",
       "\n",
       "    .dataframe thead th {\n",
       "        text-align: right;\n",
       "    }\n",
       "<\/style>\n",
       "<table border=\"1\" class=\"dataframe\">\n",
       "  <thead>\n",
       "    <tr style=\"text-align: right;\">\n",
       "      <th><\/th>\n",
       "      <th>Name<\/th>\n",
       "      <th>Associate<\/th>\n",
       "      <th>Ticker<\/th>\n",
       "      <th>Pitch Date<\/th>\n",
       "      <th>Pitch Price<\/th>\n",
       "      <th>Curr<\/th>\n",
       "      <th>Today Price<\/th>\n",
       "      <th>Price %<\/th>\n",
       "      <th>Total Divs<\/th>\n",
       "      <th>Currency ?<\/th>\n",
       "      <th>Total %<\/th>\n",
       "    <\/tr>\n",
       "  <\/thead>\n",
       "  <tbody>\n",
       "    <tr>\n",
       "      <th>0<\/th>\n",
       "      <td>ABB Ltd<\/td>\n",
       "      <td>Matt Smith<\/td>\n",
       "      <td>ABB<\/td>\n",
       "      <td>06\/03\/2018<\/td>\n",
       "      <td>22.80<\/td>\n",
       "      <td>CHF<\/td>\n",
       "      <td>21.86<\/td>\n",
       "      <td>-0.04<\/td>\n",
       "      <td>1.623<\/td>\n",
       "      <td>1.02<\/td>\n",
       "      <td>0.03<\/td>\n",
       "    <\/tr>\n",
       "    <tr>\n",
       "      <th>1<\/th>\n",
       "      <td>Alibaba Group Holding Ltd<\/td>\n",
       "      <td>Anna Erofeeva<\/td>\n",
       "      <td>BABA<\/td>\n",
       "      <td>05\/12\/2017<\/td>\n",
       "      <td>177.62<\/td>\n",
       "      <td>USD<\/td>\n",
       "      <td>186.78<\/td>\n",
       "      <td>0.05<\/td>\n",
       "      <td>0.000<\/td>\n",
       "      <td>1.04<\/td>\n",
       "      <td>0.05<\/td>\n",
       "    <\/tr>\n",
       "    <tr>\n",
       "      <th>2<\/th>\n",
       "      <td>Apple Inc<\/td>\n",
       "      <td>Darren Wyy<\/td>\n",
       "      <td>AAPL<\/td>\n",
       "      <td>16\/01\/2018<\/td>\n",
       "      <td>176.30<\/td>\n",
       "      <td>USD<\/td>\n",
       "      <td>261.78<\/td>\n",
       "      <td>0.48<\/td>\n",
       "      <td>5.860<\/td>\n",
       "      <td>1.06<\/td>\n",
       "      <td>0.55<\/td>\n",
       "    <\/tr>\n",
       "    <tr>\n",
       "      <th>3<\/th>\n",
       "      <td>Arista Networks Inc<\/td>\n",
       "      <td>Xu Jiawei<\/td>\n",
       "      <td>ANET<\/td>\n",
       "      <td>14\/11\/2017<\/td>\n",
       "      <td>225.50<\/td>\n",
       "      <td>USD<\/td>\n",
       "      <td>194.49<\/td>\n",
       "      <td>-0.14<\/td>\n",
       "      <td>0.000<\/td>\n",
       "      <td>1.02<\/td>\n",
       "      <td>-0.14<\/td>\n",
       "    <\/tr>\n",
       "    <tr>\n",
       "      <th>4<\/th>\n",
       "      <td>BHP Billiton Ltd<\/td>\n",
       "      <td>Matt Smith<\/td>\n",
       "      <td>BHP<\/td>\n",
       "      <td>05\/12\/2017<\/td>\n",
       "      <td>42.10<\/td>\n",
       "      <td>USD<\/td>\n",
       "      <td>50.84<\/td>\n",
       "      <td>0.21<\/td>\n",
       "      <td>7.060<\/td>\n",
       "      <td>1.04<\/td>\n",
       "      <td>0.39<\/td>\n",
       "    <\/tr>\n",
       "    <tr>\n",
       "      <th>5<\/th>\n",
       "      <td>BlackRock Inc<\/td>\n",
       "      <td>Marcus McLaney<\/td>\n",
       "      <td>BLK<\/td>\n",
       "      <td>27\/02\/2018<\/td>\n",
       "      <td>563.97<\/td>\n",
       "      <td>USD<\/td>\n",
       "      <td>485.00<\/td>\n",
       "      <td>-0.14<\/td>\n",
       "      <td>21.920<\/td>\n",
       "      <td>1.07<\/td>\n",
       "      <td>-0.11<\/td>\n",
       "    <\/tr>\n",
       "    <tr>\n",
       "      <th>6<\/th>\n",
       "      <td>Domino's Pizza Inc<\/td>\n",
       "      <td>Dev Singh<\/td>\n",
       "      <td>DPZ<\/td>\n",
       "      <td>12\/12\/2017<\/td>\n",
       "      <td>180.96<\/td>\n",
       "      <td>USD<\/td>\n",
       "      <td>285.76<\/td>\n",
       "      <td>0.58<\/td>\n",
       "      <td>4.610<\/td>\n",
       "      <td>1.03<\/td>\n",
       "      <td>0.62<\/td>\n",
       "    <\/tr>\n",
       "    <tr>\n",
       "      <th>7<\/th>\n",
       "      <td>Estee Lauder Companies Inc<\/td>\n",
       "      <td>Kelvin Fang<\/td>\n",
       "      <td>EL<\/td>\n",
       "      <td>20\/02\/2018<\/td>\n",
       "      <td>139.65<\/td>\n",
       "      <td>USD<\/td>\n",
       "      <td>193.18<\/td>\n",
       "      <td>0.38<\/td>\n",
       "      <td>2.860<\/td>\n",
       "      <td>1.08<\/td>\n",
       "      <td>0.44<\/td>\n",
       "    <\/tr>\n",
       "    <tr>\n",
       "      <th>8<\/th>\n",
       "      <td>Foot Locker Inc<\/td>\n",
       "      <td>Arjun Kandola<\/td>\n",
       "      <td>FL<\/td>\n",
       "      <td>06\/03\/2018<\/td>\n",
       "      <td>42.10<\/td>\n",
       "      <td>USD<\/td>\n",
       "      <td>40.25<\/td>\n",
       "      <td>-0.04<\/td>\n",
       "      <td>2.520<\/td>\n",
       "      <td>1.07<\/td>\n",
       "      <td>0.02<\/td>\n",
       "    <\/tr>\n",
       "    <tr>\n",
       "      <th>9<\/th>\n",
       "      <td>General Motors Co<\/td>\n",
       "      <td>Matt Smith<\/td>\n",
       "      <td>GM<\/td>\n",
       "      <td>30\/01\/2018<\/td>\n",
       "      <td>42.41<\/td>\n",
       "      <td>USD<\/td>\n",
       "      <td>35.33<\/td>\n",
       "      <td>-0.17<\/td>\n",
       "      <td>2.660<\/td>\n",
       "      <td>1.08<\/td>\n",
       "      <td>-0.11<\/td>\n",
       "    <\/tr>\n",
       "    <tr>\n",
       "      <th>10<\/th>\n",
       "      <td>Honeywell International Inc.<\/td>\n",
       "      <td>Darren Wyy<\/td>\n",
       "      <td>HON<\/td>\n",
       "      <td>13\/03\/2018<\/td>\n",
       "      <td>145.90<\/td>\n",
       "      <td>USD<\/td>\n",
       "      <td>176.79<\/td>\n",
       "      <td>0.21<\/td>\n",
       "      <td>5.670<\/td>\n",
       "      <td>1.07<\/td>\n",
       "      <td>0.27<\/td>\n",
       "    <\/tr>\n",
       "    <tr>\n",
       "      <th>11<\/th>\n",
       "      <td>Intertek Group plc<\/td>\n",
       "      <td>Joshua Zeng<\/td>\n",
       "      <td>ITRK.L<\/td>\n",
       "      <td>23\/01\/2018<\/td>\n",
       "      <td>5178.00<\/td>\n",
       "      <td>GBX<\/td>\n",
       "      <td>5504.00<\/td>\n",
       "      <td>0.06<\/td>\n",
       "      <td>181.100<\/td>\n",
       "      <td>1.00<\/td>\n",
       "      <td>0.10<\/td>\n",
       "    <\/tr>\n",
       "    <tr>\n",
       "      <th>12<\/th>\n",
       "      <td>Kraft Heinz Co<\/td>\n",
       "      <td>Joshua Zeng<\/td>\n",
       "      <td>KHC<\/td>\n",
       "      <td>19\/03\/2018<\/td>\n",
       "      <td>67.23<\/td>\n",
       "      <td>USD<\/td>\n",
       "      <td>30.54<\/td>\n",
       "      <td>-0.55<\/td>\n",
       "      <td>3.475<\/td>\n",
       "      <td>1.07<\/td>\n",
       "      <td>-0.53<\/td>\n",
       "    <\/tr>\n",
       "    <tr>\n",
       "      <th>13<\/th>\n",
       "      <td>Marriott International Inc<\/td>\n",
       "      <td>Jerry Kim<\/td>\n",
       "      <td>MAR<\/td>\n",
       "      <td>20\/02\/2018<\/td>\n",
       "      <td>140.44<\/td>\n",
       "      <td>USD<\/td>\n",
       "      <td>136.25<\/td>\n",
       "      <td>-0.03<\/td>\n",
       "      <td>3.410<\/td>\n",
       "      <td>1.08<\/td>\n",
       "      <td>-0.01<\/td>\n",
       "    <\/tr>\n",
       "    <tr>\n",
       "      <th>14<\/th>\n",
       "      <td>Mastercard Inc<\/td>\n",
       "      <td>Kelvin Fang<\/td>\n",
       "      <td>MA<\/td>\n",
       "      <td>28\/11\/2017<\/td>\n",
       "      <td>154.77<\/td>\n",
       "      <td>USD<\/td>\n",
       "      <td>282.57<\/td>\n",
       "      <td>0.83<\/td>\n",
       "      <td>2.320<\/td>\n",
       "      <td>1.03<\/td>\n",
       "      <td>0.87<\/td>\n",
       "    <\/tr>\n",
       "    <tr>\n",
       "      <th>15<\/th>\n",
       "      <td>On The Beach Group plc<\/td>\n",
       "      <td>Edmund Xia<\/td>\n",
       "      <td>OTB.L<\/td>\n",
       "      <td>30\/01\/2018<\/td>\n",
       "      <td>492.00<\/td>\n",
       "      <td>GBX<\/td>\n",
       "      <td>434.60<\/td>\n",
       "      <td>-0.12<\/td>\n",
       "      <td>4.600<\/td>\n",
       "      <td>1.00<\/td>\n",
       "      <td>-0.11<\/td>\n",
       "    <\/tr>\n",
       "    <tr>\n",
       "      <th>16<\/th>\n",
       "      <td>Overstock<\/td>\n",
       "      <td>Anna Erofeeva<\/td>\n",
       "      <td>OSTK<\/td>\n",
       "      <td>27\/02\/2018<\/td>\n",
       "      <td>64.40<\/td>\n",
       "      <td>USD<\/td>\n",
       "      <td>7.57<\/td>\n",
       "      <td>-0.88<\/td>\n",
       "      <td>0.000<\/td>\n",
       "      <td>1.07<\/td>\n",
       "      <td>-0.94<\/td>\n",
       "    <\/tr>\n",
       "    <tr>\n",
       "      <th>17<\/th>\n",
       "      <td>Royal Carribean Cruises Ltd<\/td>\n",
       "      <td>Marcus McLaney<\/td>\n",
       "      <td>RCL<\/td>\n",
       "      <td>09\/01\/2018<\/td>\n",
       "      <td>123.18<\/td>\n",
       "      <td>USD<\/td>\n",
       "      <td>119.13<\/td>\n",
       "      <td>-0.03<\/td>\n",
       "      <td>4.780<\/td>\n",
       "      <td>1.05<\/td>\n",
       "      <td>0.01<\/td>\n",
       "    <\/tr>\n",
       "    <tr>\n",
       "      <th>18<\/th>\n",
       "      <td>Ryanair Holdings<\/td>\n",
       "      <td>Charlotte Pinder<\/td>\n",
       "      <td>RYA.L<\/td>\n",
       "      <td>16\/01\/2018<\/td>\n",
       "      <td>16.53<\/td>\n",
       "      <td>EUR<\/td>\n",
       "      <td>13.69<\/td>\n",
       "      <td>-0.17<\/td>\n",
       "      <td>0.000<\/td>\n",
       "      <td>0.97<\/td>\n",
       "      <td>-0.17<\/td>\n",
       "    <\/tr>\n",
       "    <tr>\n",
       "      <th>19<\/th>\n",
       "      <td>Siemens AG<\/td>\n",
       "      <td>Amos Jaupi<\/td>\n",
       "      <td>SIEGY<\/td>\n",
       "      <td>12\/12\/2017<\/td>\n",
       "      <td>116.42<\/td>\n",
       "      <td>EUR<\/td>\n",
       "      <td>63.24<\/td>\n",
       "      <td>-0.46<\/td>\n",
       "      <td>4.329<\/td>\n",
       "      <td>0.97<\/td>\n",
       "      <td>-0.41<\/td>\n",
       "    <\/tr>\n",
       "    <tr>\n",
       "      <th>20<\/th>\n",
       "      <td>St Microelectronics<\/td>\n",
       "      <td>Adam Barbarowicz<\/td>\n",
       "      <td>STM<\/td>\n",
       "      <td>06\/02\/2018<\/td>\n",
       "      <td>18.34<\/td>\n",
       "      <td>EUR<\/td>\n",
       "      <td>23.87<\/td>\n",
       "      <td>0.30<\/td>\n",
       "      <td>0.420<\/td>\n",
       "      <td>0.97<\/td>\n",
       "      <td>0.31<\/td>\n",
       "    <\/tr>\n",
       "    <tr>\n",
       "      <th>21<\/th>\n",
       "      <td>Starbucks Corp<\/td>\n",
       "      <td>Dev Singh<\/td>\n",
       "      <td>SBUX<\/td>\n",
       "      <td>28\/11\/2017<\/td>\n",
       "      <td>55.91<\/td>\n",
       "      <td>USD<\/td>\n",
       "      <td>83.02<\/td>\n",
       "      <td>0.48<\/td>\n",
       "      <td>2.810<\/td>\n",
       "      <td>1.03<\/td>\n",
       "      <td>0.55<\/td>\n",
       "    <\/tr>\n",
       "    <tr>\n",
       "      <th>22<\/th>\n",
       "      <td>Supernus Pharmaceuticals Inc<\/td>\n",
       "      <td>Arjun Kandola<\/td>\n",
       "      <td>SUPN<\/td>\n",
       "      <td>23\/01\/2018<\/td>\n",
       "      <td>44.25<\/td>\n",
       "      <td>USD<\/td>\n",
       "      <td>21.76<\/td>\n",
       "      <td>-0.51<\/td>\n",
       "      <td>0.000<\/td>\n",
       "      <td>1.08<\/td>\n",
       "      <td>-0.55<\/td>\n",
       "    <\/tr>\n",
       "    <tr>\n",
       "      <th>23<\/th>\n",
       "      <td>US Concrete Inc<\/td>\n",
       "      <td>Charlotte Pinder<\/td>\n",
       "      <td>USCR<\/td>\n",
       "      <td>13\/03\/2018<\/td>\n",
       "      <td>65.20<\/td>\n",
       "      <td>USD<\/td>\n",
       "      <td>39.96<\/td>\n",
       "      <td>-0.39<\/td>\n",
       "      <td>0.000<\/td>\n",
       "      <td>1.07<\/td>\n",
       "      <td>-0.41<\/td>\n",
       "    <\/tr>\n",
       "    <tr>\n",
       "      <th>24<\/th>\n",
       "      <td>US Silica Holdings Inc<\/td>\n",
       "      <td>Dev Singh<\/td>\n",
       "      <td>SLCA<\/td>\n",
       "      <td>19\/03\/2018<\/td>\n",
       "      <td>25.83<\/td>\n",
       "      <td>USD<\/td>\n",
       "      <td>4.55<\/td>\n",
       "      <td>-0.82<\/td>\n",
       "      <td>0.375<\/td>\n",
       "      <td>1.07<\/td>\n",
       "      <td>-0.87<\/td>\n",
       "    <\/tr>\n",
       "  <\/tbody>\n",
       "<\/table>\n",
       "<\/div>"
      ]
     },
     "metadata":{
      
     },
     "output_type":"display_data"
    }
   ],
   "metadata":{
    "datalore":{
     "node_id":"JSUZVPjYWm49Lwd5Lh9Ukv",
     "type":"CODE",
     "hide_input_from_viewers":false,
     "hide_output_from_viewers":false
    }
   }
  }
 ],
 "metadata":{
  "kernelspec":{
   "display_name":"Python",
   "language":"python",
   "name":"python"
  },
  "datalore":{
   "version":1,
   "computation_mode":"JUPYTER",
   "package_manager":"pip",
   "base_environment":"default",
   "packages":[
    
   ]
  }
 },
 "nbformat":4,
 "nbformat_minor":4
}