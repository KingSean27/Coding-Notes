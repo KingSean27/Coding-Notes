{
 "cells":[
  {
   "cell_type":"markdown",
   "source":[
    "# Summary Statistics"
   ],
   "attachments":{
    
   },
   "metadata":{
    "datalore":{
     "node_id":"qPg8nGad194xBTjWWYHgYr",
     "type":"MD",
     "hide_input_from_viewers":false,
     "hide_output_from_viewers":false
    }
   }
  },
  {
   "cell_type":"markdown",
   "source":[
    "These are numbers that tell you about your datasets "
   ],
   "attachments":{
    
   },
   "metadata":{
    "datalore":{
     "node_id":"vumWLeaRIrjDdEtgfbCKfn",
     "type":"MD",
     "hide_input_from_viewers":false,
     "hide_output_from_viewers":false
    }
   }
  },
  {
   "cell_type":"code",
   "source":[
    "import pandas as pd\n",
    "import numpy as np\n",
    "\n",
    "\n",
    "pitches = pd.read_csv(\"\/data\/workspace_files\/stocks_pitches.csv\")\n",
    "pitches.head()"
   ],
   "execution_count":2,
   "outputs":[
    {
     "data":{
      "text\/html":[
       "<div>\n",
       "<style scoped>\n",
       "    .dataframe tbody tr th:only-of-type {\n",
       "        vertical-align: middle;\n",
       "    }\n",
       "\n",
       "    .dataframe tbody tr th {\n",
       "        vertical-align: top;\n",
       "    }\n",
       "\n",
       "    .dataframe thead th {\n",
       "        text-align: right;\n",
       "    }\n",
       "<\/style>\n",
       "<table border=\"1\" class=\"dataframe\">\n",
       "  <thead>\n",
       "    <tr style=\"text-align: right;\">\n",
       "      <th><\/th>\n",
       "      <th>Name<\/th>\n",
       "      <th>Associate<\/th>\n",
       "      <th>Ticker<\/th>\n",
       "      <th>Pitch Date<\/th>\n",
       "      <th>Pitch Price<\/th>\n",
       "      <th>Curr<\/th>\n",
       "      <th>Today Price<\/th>\n",
       "      <th>Price %<\/th>\n",
       "      <th>Total Divs<\/th>\n",
       "      <th>Currency ?<\/th>\n",
       "      <th>Total %<\/th>\n",
       "    <\/tr>\n",
       "  <\/thead>\n",
       "  <tbody>\n",
       "    <tr>\n",
       "      <th>0<\/th>\n",
       "      <td>ABB Ltd<\/td>\n",
       "      <td>Matt Smith<\/td>\n",
       "      <td>ABB<\/td>\n",
       "      <td>06\/03\/2018<\/td>\n",
       "      <td>22.80<\/td>\n",
       "      <td>CHF<\/td>\n",
       "      <td>21.86<\/td>\n",
       "      <td>-0.04<\/td>\n",
       "      <td>1.623<\/td>\n",
       "      <td>1.02<\/td>\n",
       "      <td>0.03<\/td>\n",
       "    <\/tr>\n",
       "    <tr>\n",
       "      <th>1<\/th>\n",
       "      <td>Alibaba Group Holding Ltd<\/td>\n",
       "      <td>Anna Erofeeva<\/td>\n",
       "      <td>BABA<\/td>\n",
       "      <td>05\/12\/2017<\/td>\n",
       "      <td>177.62<\/td>\n",
       "      <td>USD<\/td>\n",
       "      <td>186.78<\/td>\n",
       "      <td>0.05<\/td>\n",
       "      <td>0.000<\/td>\n",
       "      <td>1.04<\/td>\n",
       "      <td>0.05<\/td>\n",
       "    <\/tr>\n",
       "    <tr>\n",
       "      <th>2<\/th>\n",
       "      <td>Apple Inc<\/td>\n",
       "      <td>Darren Wyy<\/td>\n",
       "      <td>AAPL<\/td>\n",
       "      <td>16\/01\/2018<\/td>\n",
       "      <td>176.30<\/td>\n",
       "      <td>USD<\/td>\n",
       "      <td>261.78<\/td>\n",
       "      <td>0.48<\/td>\n",
       "      <td>5.860<\/td>\n",
       "      <td>1.06<\/td>\n",
       "      <td>0.55<\/td>\n",
       "    <\/tr>\n",
       "    <tr>\n",
       "      <th>3<\/th>\n",
       "      <td>Arista Networks Inc<\/td>\n",
       "      <td>Xu Jiawei<\/td>\n",
       "      <td>ANET<\/td>\n",
       "      <td>14\/11\/2017<\/td>\n",
       "      <td>225.50<\/td>\n",
       "      <td>USD<\/td>\n",
       "      <td>194.49<\/td>\n",
       "      <td>-0.14<\/td>\n",
       "      <td>0.000<\/td>\n",
       "      <td>1.02<\/td>\n",
       "      <td>-0.14<\/td>\n",
       "    <\/tr>\n",
       "    <tr>\n",
       "      <th>4<\/th>\n",
       "      <td>BHP Billiton Ltd<\/td>\n",
       "      <td>Matt Smith<\/td>\n",
       "      <td>BHP<\/td>\n",
       "      <td>05\/12\/2017<\/td>\n",
       "      <td>42.10<\/td>\n",
       "      <td>USD<\/td>\n",
       "      <td>50.84<\/td>\n",
       "      <td>0.21<\/td>\n",
       "      <td>7.060<\/td>\n",
       "      <td>1.04<\/td>\n",
       "      <td>0.39<\/td>\n",
       "    <\/tr>\n",
       "  <\/tbody>\n",
       "<\/table>\n",
       "<\/div>"
      ]
     },
     "metadata":{
      
     },
     "output_type":"display_data"
    }
   ],
   "metadata":{
    "datalore":{
     "node_id":"UFGiv5R0UBwss0PW3oLflP",
     "type":"CODE",
     "hide_input_from_viewers":false,
     "hide_output_from_viewers":false
    }
   }
  },
  {
   "cell_type":"code",
   "source":[
    "pitches[\"Price %\"].mean()"
   ],
   "execution_count":3,
   "outputs":[
    {
     "data":{
      "text\/plain":[
       "-0.0364"
      ]
     },
     "metadata":{
      
     },
     "output_type":"display_data"
    }
   ],
   "metadata":{
    "datalore":{
     "node_id":"d0Wk3XvQUQe2rSdgpcwum7",
     "type":"CODE",
     "hide_input_from_viewers":false,
     "hide_output_from_viewers":false
    }
   }
  },
  {
   "cell_type":"code",
   "source":[
    "pitches[\"Price %\"].min()"
   ],
   "execution_count":4,
   "outputs":[
    {
     "data":{
      "text\/plain":[
       "-0.88"
      ]
     },
     "metadata":{
      
     },
     "output_type":"display_data"
    }
   ],
   "metadata":{
    "datalore":{
     "node_id":"KGbvTj7eUexsxCEsz0ZbY7",
     "type":"CODE",
     "hide_input_from_viewers":false,
     "hide_output_from_viewers":false
    }
   }
  },
  {
   "cell_type":"code",
   "source":[
    "pitches[\"Price %\"].max()"
   ],
   "execution_count":5,
   "outputs":[
    {
     "data":{
      "text\/plain":[
       "0.83"
      ]
     },
     "metadata":{
      
     },
     "output_type":"display_data"
    }
   ],
   "metadata":{
    "datalore":{
     "node_id":"WzAz4n7MPTxGDszxwh4V12",
     "type":"CODE",
     "hide_input_from_viewers":false,
     "hide_output_from_viewers":false
    }
   }
  },
  {
   "cell_type":"code",
   "source":[
    "pitches[\"Price %\"].var()"
   ],
   "execution_count":6,
   "outputs":[
    {
     "data":{
      "text\/plain":[
       "0.17796566666666666"
      ]
     },
     "metadata":{
      
     },
     "output_type":"display_data"
    }
   ],
   "metadata":{
    "datalore":{
     "node_id":"lJVksmPUS18ZqcVi1Mkht5",
     "type":"CODE",
     "hide_input_from_viewers":false,
     "hide_output_from_viewers":false
    }
   }
  },
  {
   "cell_type":"code",
   "source":[
    "pitches[\"Price %\"].std()"
   ],
   "execution_count":7,
   "outputs":[
    {
     "data":{
      "text\/plain":[
       "0.4218597713300791"
      ]
     },
     "metadata":{
      
     },
     "output_type":"display_data"
    }
   ],
   "metadata":{
    "datalore":{
     "node_id":"b2UV2u6XqIRhUmPjmgRWoc",
     "type":"CODE",
     "hide_input_from_viewers":false,
     "hide_output_from_viewers":false
    }
   }
  },
  {
   "cell_type":"markdown",
   "source":[
    "Also .sum(), .quantile(), .mode(). Note .min(), .max() works on dates too. \n",
    "\n",
    "We can use .agg() to make custom calcs. It can be used on multiple columns too "
   ],
   "attachments":{
    
   },
   "metadata":{
    "datalore":{
     "node_id":"q9mF6LtlMlx7jezplIPqJ1",
     "type":"MD",
     "hide_input_from_viewers":false,
     "hide_output_from_viewers":false
    }
   }
  },
  {
   "cell_type":"code",
   "source":[
    "def pct30(column): \n",
    "    return column.quantile(0.3)\n",
    "\n",
    "pitches[\"Price %\"].agg(pct30)"
   ],
   "execution_count":8,
   "outputs":[
    {
     "data":{
      "text\/plain":[
       "-0.16400000000000003"
      ]
     },
     "metadata":{
      
     },
     "output_type":"display_data"
    }
   ],
   "metadata":{
    "datalore":{
     "node_id":"ShDVHP37Rqbu4oTZgziMWa",
     "type":"CODE",
     "hide_input_from_viewers":false,
     "hide_output_from_viewers":false
    }
   }
  },
  {
   "cell_type":"markdown",
   "source":[
    ".agg() can take in multiple calcs too "
   ],
   "attachments":{
    
   },
   "metadata":{
    "datalore":{
     "node_id":"KVCVPEqC31BS1FwPi0ZXWr",
     "type":"MD",
     "hide_input_from_viewers":false,
     "hide_output_from_viewers":false
    }
   }
  },
  {
   "cell_type":"code",
   "source":[
    "def pct40(column): \n",
    "    return column.quantile(0.4)\n",
    "\n",
    "pitches[[\"Price %\", \"Total %\"]].agg([pct30,pct40])"
   ],
   "execution_count":9,
   "outputs":[
    {
     "data":{
      "text\/html":[
       "<div>\n",
       "<style scoped>\n",
       "    .dataframe tbody tr th:only-of-type {\n",
       "        vertical-align: middle;\n",
       "    }\n",
       "\n",
       "    .dataframe tbody tr th {\n",
       "        vertical-align: top;\n",
       "    }\n",
       "\n",
       "    .dataframe thead th {\n",
       "        text-align: right;\n",
       "    }\n",
       "<\/style>\n",
       "<table border=\"1\" class=\"dataframe\">\n",
       "  <thead>\n",
       "    <tr style=\"text-align: right;\">\n",
       "      <th><\/th>\n",
       "      <th>Price %<\/th>\n",
       "      <th>Total %<\/th>\n",
       "    <\/tr>\n",
       "  <\/thead>\n",
       "  <tbody>\n",
       "    <tr>\n",
       "      <th>pct30<\/th>\n",
       "      <td>-0.164<\/td>\n",
       "      <td>-0.134<\/td>\n",
       "    <\/tr>\n",
       "    <tr>\n",
       "      <th>pct40<\/th>\n",
       "      <td>-0.128<\/td>\n",
       "      <td>-0.110<\/td>\n",
       "    <\/tr>\n",
       "  <\/tbody>\n",
       "<\/table>\n",
       "<\/div>"
      ]
     },
     "metadata":{
      
     },
     "output_type":"display_data"
    }
   ],
   "metadata":{
    "datalore":{
     "node_id":"mr8F4GjciHkSwKVrka0Tde",
     "type":"CODE",
     "hide_input_from_viewers":false,
     "hide_output_from_viewers":false
    }
   }
  },
  {
   "cell_type":"markdown",
   "source":[
    "Pandas has methods for taking in cumulative sums too .cumsum(), .cummax(), .cummin(), .cumprod(). These will return the whole column. Be wary of nan values that can impact these "
   ],
   "attachments":{
    
   },
   "metadata":{
    "datalore":{
     "node_id":"3s4uZAaDdEjFnlh9Rl9pCb",
     "type":"MD",
     "hide_input_from_viewers":false,
     "hide_output_from_viewers":false
    }
   }
  },
  {
   "cell_type":"code",
   "source":[
    "pitches[\"Price %\"].cumsum()"
   ],
   "execution_count":10,
   "outputs":[
    {
     "data":{
      "text\/html":[
       "<pre>0    -0.04\n",
       "1     0.01\n",
       "2     0.49\n",
       "3     0.35\n",
       "4     0.56\n",
       "5     0.42\n",
       "6     1.00\n",
       "7     1.38\n",
       "8     1.34\n",
       "9     1.17\n",
       "10    1.38\n",
       "11    1.44\n",
       "12    0.89\n",
       "13    0.86\n",
       "14    1.69\n",
       "15    1.57\n",
       "16    0.69\n",
       "17    0.66\n",
       "18    0.49\n",
       "19    0.03\n",
       "20    0.33\n",
       "21    0.81\n",
       "22    0.30\n",
       "23   -0.09\n",
       "24   -0.91\n",
       "Name: Price %, dtype: float64<\/pre>"
      ]
     },
     "metadata":{
      
     },
     "output_type":"display_data"
    }
   ],
   "metadata":{
    "datalore":{
     "node_id":"vcDR92GhoOhvLF26kbMNp9",
     "type":"CODE",
     "hide_input_from_viewers":false,
     "hide_output_from_viewers":false
    }
   }
  },
  {
   "cell_type":"markdown",
   "source":[
    "# Counting in Pandas"
   ],
   "attachments":{
    
   },
   "metadata":{
    "datalore":{
     "node_id":"436BnH7xYk056Gs2remss6",
     "type":"MD",
     "hide_input_from_viewers":false,
     "hide_output_from_viewers":false
    }
   }
  },
  {
   "cell_type":"markdown",
   "source":[
    "Counting is used to summarise numerical data. .value_counts() is used we can add sort=True to sort what we get returned, or normalize=True to get the % of total"
   ],
   "attachments":{
    
   },
   "metadata":{
    "datalore":{
     "node_id":"jW2EaxugZe7JpeDJ8SKQEE",
     "type":"MD",
     "hide_input_from_viewers":false,
     "hide_output_from_viewers":false
    }
   }
  },
  {
   "cell_type":"code",
   "source":[
    "pitches[\"Curr\"].value_counts()"
   ],
   "execution_count":11,
   "outputs":[
    {
     "data":{
      "text\/html":[
       "<pre>USD    19\n",
       "EUR     3\n",
       "GBX     2\n",
       "CHF     1\n",
       "Name: Curr, dtype: int64<\/pre>"
      ]
     },
     "metadata":{
      
     },
     "output_type":"display_data"
    }
   ],
   "metadata":{
    "datalore":{
     "node_id":"O9eBinbe8ouMrh023PpfEz",
     "type":"CODE",
     "hide_input_from_viewers":false,
     "hide_output_from_viewers":false
    }
   }
  },
  {
   "cell_type":"code",
   "source":[
    "pitches[\"Curr\"].value_counts(normalize=True)"
   ],
   "execution_count":12,
   "outputs":[
    {
     "data":{
      "text\/html":[
       "<pre>USD    0.76\n",
       "EUR    0.12\n",
       "GBX    0.08\n",
       "CHF    0.04\n",
       "Name: Curr, dtype: float64<\/pre>"
      ]
     },
     "metadata":{
      
     },
     "output_type":"display_data"
    }
   ],
   "metadata":{
    "datalore":{
     "node_id":"CxO9TRCeJAmkcboPv6T5RL",
     "type":"CODE",
     "hide_input_from_viewers":false,
     "hide_output_from_viewers":false
    }
   }
  },
  {
   "cell_type":"markdown",
   "source":[
    "We can use drop_duplicates to remove duplicate values"
   ],
   "attachments":{
    
   },
   "metadata":{
    "datalore":{
     "node_id":"rWaTykSeLYToR254d1XAAG",
     "type":"MD",
     "hide_input_from_viewers":false,
     "hide_output_from_viewers":false
    }
   }
  },
  {
   "cell_type":"code",
   "source":[
    "pitches.drop_duplicates(subset=\"Associate \")"
   ],
   "execution_count":13,
   "outputs":[
    {
     "data":{
      "text\/html":[
       "<div>\n",
       "<style scoped>\n",
       "    .dataframe tbody tr th:only-of-type {\n",
       "        vertical-align: middle;\n",
       "    }\n",
       "\n",
       "    .dataframe tbody tr th {\n",
       "        vertical-align: top;\n",
       "    }\n",
       "\n",
       "    .dataframe thead th {\n",
       "        text-align: right;\n",
       "    }\n",
       "<\/style>\n",
       "<table border=\"1\" class=\"dataframe\">\n",
       "  <thead>\n",
       "    <tr style=\"text-align: right;\">\n",
       "      <th><\/th>\n",
       "      <th>Name<\/th>\n",
       "      <th>Associate<\/th>\n",
       "      <th>Ticker<\/th>\n",
       "      <th>Pitch Date<\/th>\n",
       "      <th>Pitch Price<\/th>\n",
       "      <th>Curr<\/th>\n",
       "      <th>Today Price<\/th>\n",
       "      <th>Price %<\/th>\n",
       "      <th>Total Divs<\/th>\n",
       "      <th>Currency ?<\/th>\n",
       "      <th>Total %<\/th>\n",
       "    <\/tr>\n",
       "  <\/thead>\n",
       "  <tbody>\n",
       "    <tr>\n",
       "      <th>0<\/th>\n",
       "      <td>ABB Ltd<\/td>\n",
       "      <td>Matt Smith<\/td>\n",
       "      <td>ABB<\/td>\n",
       "      <td>06\/03\/2018<\/td>\n",
       "      <td>22.80<\/td>\n",
       "      <td>CHF<\/td>\n",
       "      <td>21.86<\/td>\n",
       "      <td>-0.04<\/td>\n",
       "      <td>1.623<\/td>\n",
       "      <td>1.02<\/td>\n",
       "      <td>0.03<\/td>\n",
       "    <\/tr>\n",
       "    <tr>\n",
       "      <th>1<\/th>\n",
       "      <td>Alibaba Group Holding Ltd<\/td>\n",
       "      <td>Anna Erofeeva<\/td>\n",
       "      <td>BABA<\/td>\n",
       "      <td>05\/12\/2017<\/td>\n",
       "      <td>177.62<\/td>\n",
       "      <td>USD<\/td>\n",
       "      <td>186.78<\/td>\n",
       "      <td>0.05<\/td>\n",
       "      <td>0.000<\/td>\n",
       "      <td>1.04<\/td>\n",
       "      <td>0.05<\/td>\n",
       "    <\/tr>\n",
       "    <tr>\n",
       "      <th>2<\/th>\n",
       "      <td>Apple Inc<\/td>\n",
       "      <td>Darren Wyy<\/td>\n",
       "      <td>AAPL<\/td>\n",
       "      <td>16\/01\/2018<\/td>\n",
       "      <td>176.30<\/td>\n",
       "      <td>USD<\/td>\n",
       "      <td>261.78<\/td>\n",
       "      <td>0.48<\/td>\n",
       "      <td>5.860<\/td>\n",
       "      <td>1.06<\/td>\n",
       "      <td>0.55<\/td>\n",
       "    <\/tr>\n",
       "    <tr>\n",
       "      <th>3<\/th>\n",
       "      <td>Arista Networks Inc<\/td>\n",
       "      <td>Xu Jiawei<\/td>\n",
       "      <td>ANET<\/td>\n",
       "      <td>14\/11\/2017<\/td>\n",
       "      <td>225.50<\/td>\n",
       "      <td>USD<\/td>\n",
       "      <td>194.49<\/td>\n",
       "      <td>-0.14<\/td>\n",
       "      <td>0.000<\/td>\n",
       "      <td>1.02<\/td>\n",
       "      <td>-0.14<\/td>\n",
       "    <\/tr>\n",
       "    <tr>\n",
       "      <th>5<\/th>\n",
       "      <td>BlackRock Inc<\/td>\n",
       "      <td>Marcus McLaney<\/td>\n",
       "      <td>BLK<\/td>\n",
       "      <td>27\/02\/2018<\/td>\n",
       "      <td>563.97<\/td>\n",
       "      <td>USD<\/td>\n",
       "      <td>485.00<\/td>\n",
       "      <td>-0.14<\/td>\n",
       "      <td>21.920<\/td>\n",
       "      <td>1.07<\/td>\n",
       "      <td>-0.11<\/td>\n",
       "    <\/tr>\n",
       "    <tr>\n",
       "      <th>6<\/th>\n",
       "      <td>Domino's Pizza Inc<\/td>\n",
       "      <td>Dev Singh<\/td>\n",
       "      <td>DPZ<\/td>\n",
       "      <td>12\/12\/2017<\/td>\n",
       "      <td>180.96<\/td>\n",
       "      <td>USD<\/td>\n",
       "      <td>285.76<\/td>\n",
       "      <td>0.58<\/td>\n",
       "      <td>4.610<\/td>\n",
       "      <td>1.03<\/td>\n",
       "      <td>0.62<\/td>\n",
       "    <\/tr>\n",
       "    <tr>\n",
       "      <th>7<\/th>\n",
       "      <td>Estee Lauder Companies Inc<\/td>\n",
       "      <td>Kelvin Fang<\/td>\n",
       "      <td>EL<\/td>\n",
       "      <td>20\/02\/2018<\/td>\n",
       "      <td>139.65<\/td>\n",
       "      <td>USD<\/td>\n",
       "      <td>193.18<\/td>\n",
       "      <td>0.38<\/td>\n",
       "      <td>2.860<\/td>\n",
       "      <td>1.08<\/td>\n",
       "      <td>0.44<\/td>\n",
       "    <\/tr>\n",
       "    <tr>\n",
       "      <th>8<\/th>\n",
       "      <td>Foot Locker Inc<\/td>\n",
       "      <td>Arjun Kandola<\/td>\n",
       "      <td>FL<\/td>\n",
       "      <td>06\/03\/2018<\/td>\n",
       "      <td>42.10<\/td>\n",
       "      <td>USD<\/td>\n",
       "      <td>40.25<\/td>\n",
       "      <td>-0.04<\/td>\n",
       "      <td>2.520<\/td>\n",
       "      <td>1.07<\/td>\n",
       "      <td>0.02<\/td>\n",
       "    <\/tr>\n",
       "    <tr>\n",
       "      <th>11<\/th>\n",
       "      <td>Intertek Group plc<\/td>\n",
       "      <td>Joshua Zeng<\/td>\n",
       "      <td>ITRK.L<\/td>\n",
       "      <td>23\/01\/2018<\/td>\n",
       "      <td>5178.00<\/td>\n",
       "      <td>GBX<\/td>\n",
       "      <td>5504.00<\/td>\n",
       "      <td>0.06<\/td>\n",
       "      <td>181.100<\/td>\n",
       "      <td>1.00<\/td>\n",
       "      <td>0.10<\/td>\n",
       "    <\/tr>\n",
       "    <tr>\n",
       "      <th>13<\/th>\n",
       "      <td>Marriott International Inc<\/td>\n",
       "      <td>Jerry Kim<\/td>\n",
       "      <td>MAR<\/td>\n",
       "      <td>20\/02\/2018<\/td>\n",
       "      <td>140.44<\/td>\n",
       "      <td>USD<\/td>\n",
       "      <td>136.25<\/td>\n",
       "      <td>-0.03<\/td>\n",
       "      <td>3.410<\/td>\n",
       "      <td>1.08<\/td>\n",
       "      <td>-0.01<\/td>\n",
       "    <\/tr>\n",
       "    <tr>\n",
       "      <th>15<\/th>\n",
       "      <td>On The Beach Group plc<\/td>\n",
       "      <td>Edmund Xia<\/td>\n",
       "      <td>OTB.L<\/td>\n",
       "      <td>30\/01\/2018<\/td>\n",
       "      <td>492.00<\/td>\n",
       "      <td>GBX<\/td>\n",
       "      <td>434.60<\/td>\n",
       "      <td>-0.12<\/td>\n",
       "      <td>4.600<\/td>\n",
       "      <td>1.00<\/td>\n",
       "      <td>-0.11<\/td>\n",
       "    <\/tr>\n",
       "    <tr>\n",
       "      <th>18<\/th>\n",
       "      <td>Ryanair Holdings<\/td>\n",
       "      <td>Charlotte Pinder<\/td>\n",
       "      <td>RYA.L<\/td>\n",
       "      <td>16\/01\/2018<\/td>\n",
       "      <td>16.53<\/td>\n",
       "      <td>EUR<\/td>\n",
       "      <td>13.69<\/td>\n",
       "      <td>-0.17<\/td>\n",
       "      <td>0.000<\/td>\n",
       "      <td>0.97<\/td>\n",
       "      <td>-0.17<\/td>\n",
       "    <\/tr>\n",
       "    <tr>\n",
       "      <th>19<\/th>\n",
       "      <td>Siemens AG<\/td>\n",
       "      <td>Amos Jaupi<\/td>\n",
       "      <td>SIEGY<\/td>\n",
       "      <td>12\/12\/2017<\/td>\n",
       "      <td>116.42<\/td>\n",
       "      <td>EUR<\/td>\n",
       "      <td>63.24<\/td>\n",
       "      <td>-0.46<\/td>\n",
       "      <td>4.329<\/td>\n",
       "      <td>0.97<\/td>\n",
       "      <td>-0.41<\/td>\n",
       "    <\/tr>\n",
       "    <tr>\n",
       "      <th>20<\/th>\n",
       "      <td>St Microelectronics<\/td>\n",
       "      <td>Adam Barbarowicz<\/td>\n",
       "      <td>STM<\/td>\n",
       "      <td>06\/02\/2018<\/td>\n",
       "      <td>18.34<\/td>\n",
       "      <td>EUR<\/td>\n",
       "      <td>23.87<\/td>\n",
       "      <td>0.30<\/td>\n",
       "      <td>0.420<\/td>\n",
       "      <td>0.97<\/td>\n",
       "      <td>0.31<\/td>\n",
       "    <\/tr>\n",
       "  <\/tbody>\n",
       "<\/table>\n",
       "<\/div>"
      ]
     },
     "metadata":{
      
     },
     "output_type":"display_data"
    }
   ],
   "metadata":{
    "datalore":{
     "node_id":"qnY6TUlvt9mFLUlgg4Akrw",
     "type":"CODE",
     "hide_input_from_viewers":false,
     "hide_output_from_viewers":false
    }
   }
  },
  {
   "cell_type":"markdown",
   "source":[
    "# Grouped Summary Statistics"
   ],
   "attachments":{
    
   },
   "metadata":{
    "datalore":{
     "node_id":"HNmvxhiR2fLtORwpsyol1w",
     "type":"MD",
     "hide_input_from_viewers":false,
     "hide_output_from_viewers":false
    }
   }
  },
  {
   "cell_type":"markdown",
   "source":[
    "Summary statistics can be used to compare differences in groups i.e. we can already do this individually but we can do this more easily by using .groupby(). Note the difference brackets we use here\n",
    "\n",
    "We can combine this with .agg() to get more powerful combos of calcs\n",
    "\n",
    "Note for the mean we need to use numpy when doing calcs in .agg()"
   ],
   "attachments":{
    
   },
   "metadata":{
    "datalore":{
     "node_id":"umbUhPLgKRr3qgahg5ITeq",
     "type":"MD",
     "hide_input_from_viewers":false,
     "hide_output_from_viewers":false
    }
   }
  },
  {
   "cell_type":"code",
   "source":[
    "print(\"USD mean:\", pitches[pitches[\"Curr\"] == \"USD\"][\"Total %\"].mean())\n",
    "print(\"EUR mean:\", pitches[pitches[\"Curr\"] == \"EUR\"][\"Total %\"].mean())\n",
    "print(\"GBX mean:\", pitches[pitches[\"Curr\"] == \"GBX\"][\"Total %\"].mean())"
   ],
   "execution_count":14,
   "outputs":[
    {
     "name":"stdout",
     "text":[
      "USD mean: 0.005263157894736841\n",
      "EUR mean: -0.08999999999999998\n",
      "GBX mean: -0.0049999999999999975\n"
     ],
     "output_type":"stream"
    }
   ],
   "metadata":{
    "datalore":{
     "node_id":"jxp5mcvXmw6sEAQlLEPvFG",
     "type":"CODE",
     "hide_input_from_viewers":false,
     "hide_output_from_viewers":false
    }
   }
  },
  {
   "cell_type":"code",
   "source":[
    "pitches.groupby(\"Curr\")[\"Total %\"].mean()"
   ],
   "execution_count":15,
   "outputs":[
    {
     "data":{
      "text\/html":[
       "<pre>Curr\n",
       "CHF    0.030000\n",
       "EUR   -0.090000\n",
       "GBX   -0.005000\n",
       "USD    0.005263\n",
       "Name: Total %, dtype: float64<\/pre>"
      ]
     },
     "metadata":{
      
     },
     "output_type":"display_data"
    }
   ],
   "metadata":{
    "datalore":{
     "node_id":"ZyH0rrmAuWtSahzVfdRyHp",
     "type":"CODE",
     "hide_input_from_viewers":false,
     "hide_output_from_viewers":false
    }
   }
  },
  {
   "cell_type":"code",
   "source":[
    "pitches.groupby(\"Curr\")[\"Total %\"].agg([min, max, sum, np.mean])"
   ],
   "execution_count":16,
   "outputs":[
    {
     "data":{
      "text\/html":[
       "<div>\n",
       "<style scoped>\n",
       "    .dataframe tbody tr th:only-of-type {\n",
       "        vertical-align: middle;\n",
       "    }\n",
       "\n",
       "    .dataframe tbody tr th {\n",
       "        vertical-align: top;\n",
       "    }\n",
       "\n",
       "    .dataframe thead th {\n",
       "        text-align: right;\n",
       "    }\n",
       "<\/style>\n",
       "<table border=\"1\" class=\"dataframe\">\n",
       "  <thead>\n",
       "    <tr style=\"text-align: right;\">\n",
       "      <th><\/th>\n",
       "      <th>min<\/th>\n",
       "      <th>max<\/th>\n",
       "      <th>sum<\/th>\n",
       "      <th>mean<\/th>\n",
       "    <\/tr>\n",
       "    <tr>\n",
       "      <th>Curr<\/th>\n",
       "      <th><\/th>\n",
       "      <th><\/th>\n",
       "      <th><\/th>\n",
       "      <th><\/th>\n",
       "    <\/tr>\n",
       "  <\/thead>\n",
       "  <tbody>\n",
       "    <tr>\n",
       "      <th>CHF<\/th>\n",
       "      <td>0.03<\/td>\n",
       "      <td>0.03<\/td>\n",
       "      <td>0.03<\/td>\n",
       "      <td>0.030000<\/td>\n",
       "    <\/tr>\n",
       "    <tr>\n",
       "      <th>EUR<\/th>\n",
       "      <td>-0.41<\/td>\n",
       "      <td>0.31<\/td>\n",
       "      <td>-0.27<\/td>\n",
       "      <td>-0.090000<\/td>\n",
       "    <\/tr>\n",
       "    <tr>\n",
       "      <th>GBX<\/th>\n",
       "      <td>-0.11<\/td>\n",
       "      <td>0.10<\/td>\n",
       "      <td>-0.01<\/td>\n",
       "      <td>-0.005000<\/td>\n",
       "    <\/tr>\n",
       "    <tr>\n",
       "      <th>USD<\/th>\n",
       "      <td>-0.94<\/td>\n",
       "      <td>0.87<\/td>\n",
       "      <td>0.10<\/td>\n",
       "      <td>0.005263<\/td>\n",
       "    <\/tr>\n",
       "  <\/tbody>\n",
       "<\/table>\n",
       "<\/div>"
      ]
     },
     "metadata":{
      
     },
     "output_type":"display_data"
    }
   ],
   "metadata":{
    "datalore":{
     "node_id":"saAWFBKFypW85GJISZwy10",
     "type":"CODE",
     "hide_input_from_viewers":false,
     "hide_output_from_viewers":false
    }
   }
  },
  {
   "cell_type":"code",
   "source":[
    "pitches.groupby([\"Associate \", \"Curr\"])[\"Total %\"].agg([min, max, np.mean])"
   ],
   "execution_count":17,
   "outputs":[
    {
     "data":{
      "text\/html":[
       "<div>\n",
       "<style scoped>\n",
       "    .dataframe tbody tr th:only-of-type {\n",
       "        vertical-align: middle;\n",
       "    }\n",
       "\n",
       "    .dataframe tbody tr th {\n",
       "        vertical-align: top;\n",
       "    }\n",
       "\n",
       "    .dataframe thead th {\n",
       "        text-align: right;\n",
       "    }\n",
       "<\/style>\n",
       "<table border=\"1\" class=\"dataframe\">\n",
       "  <thead>\n",
       "    <tr style=\"text-align: right;\">\n",
       "      <th><\/th>\n",
       "      <th><\/th>\n",
       "      <th>min<\/th>\n",
       "      <th>max<\/th>\n",
       "      <th>mean<\/th>\n",
       "    <\/tr>\n",
       "    <tr>\n",
       "      <th>Associate<\/th>\n",
       "      <th>Curr<\/th>\n",
       "      <th><\/th>\n",
       "      <th><\/th>\n",
       "      <th><\/th>\n",
       "    <\/tr>\n",
       "  <\/thead>\n",
       "  <tbody>\n",
       "    <tr>\n",
       "      <th>Adam Barbarowicz<\/th>\n",
       "      <th>EUR<\/th>\n",
       "      <td>0.31<\/td>\n",
       "      <td>0.31<\/td>\n",
       "      <td>0.310<\/td>\n",
       "    <\/tr>\n",
       "    <tr>\n",
       "      <th>Amos Jaupi<\/th>\n",
       "      <th>EUR<\/th>\n",
       "      <td>-0.41<\/td>\n",
       "      <td>-0.41<\/td>\n",
       "      <td>-0.410<\/td>\n",
       "    <\/tr>\n",
       "    <tr>\n",
       "      <th>Anna Erofeeva<\/th>\n",
       "      <th>USD<\/th>\n",
       "      <td>-0.94<\/td>\n",
       "      <td>0.05<\/td>\n",
       "      <td>-0.445<\/td>\n",
       "    <\/tr>\n",
       "    <tr>\n",
       "      <th>Arjun Kandola<\/th>\n",
       "      <th>USD<\/th>\n",
       "      <td>-0.55<\/td>\n",
       "      <td>0.02<\/td>\n",
       "      <td>-0.265<\/td>\n",
       "    <\/tr>\n",
       "    <tr>\n",
       "      <th rowspan=\"2\" valign=\"top\">Charlotte Pinder<\/th>\n",
       "      <th>EUR<\/th>\n",
       "      <td>-0.17<\/td>\n",
       "      <td>-0.17<\/td>\n",
       "      <td>-0.170<\/td>\n",
       "    <\/tr>\n",
       "    <tr>\n",
       "      <th>USD<\/th>\n",
       "      <td>-0.41<\/td>\n",
       "      <td>-0.41<\/td>\n",
       "      <td>-0.410<\/td>\n",
       "    <\/tr>\n",
       "    <tr>\n",
       "      <th>Darren Wyy<\/th>\n",
       "      <th>USD<\/th>\n",
       "      <td>0.27<\/td>\n",
       "      <td>0.55<\/td>\n",
       "      <td>0.410<\/td>\n",
       "    <\/tr>\n",
       "    <tr>\n",
       "      <th>Dev Singh<\/th>\n",
       "      <th>USD<\/th>\n",
       "      <td>-0.87<\/td>\n",
       "      <td>0.62<\/td>\n",
       "      <td>0.100<\/td>\n",
       "    <\/tr>\n",
       "    <tr>\n",
       "      <th>Edmund Xia<\/th>\n",
       "      <th>GBX<\/th>\n",
       "      <td>-0.11<\/td>\n",
       "      <td>-0.11<\/td>\n",
       "      <td>-0.110<\/td>\n",
       "    <\/tr>\n",
       "    <tr>\n",
       "      <th>Jerry Kim<\/th>\n",
       "      <th>USD<\/th>\n",
       "      <td>-0.01<\/td>\n",
       "      <td>-0.01<\/td>\n",
       "      <td>-0.010<\/td>\n",
       "    <\/tr>\n",
       "    <tr>\n",
       "      <th rowspan=\"2\" valign=\"top\">Joshua Zeng<\/th>\n",
       "      <th>GBX<\/th>\n",
       "      <td>0.10<\/td>\n",
       "      <td>0.10<\/td>\n",
       "      <td>0.100<\/td>\n",
       "    <\/tr>\n",
       "    <tr>\n",
       "      <th>USD<\/th>\n",
       "      <td>-0.53<\/td>\n",
       "      <td>-0.53<\/td>\n",
       "      <td>-0.530<\/td>\n",
       "    <\/tr>\n",
       "    <tr>\n",
       "      <th>Kelvin Fang<\/th>\n",
       "      <th>USD<\/th>\n",
       "      <td>0.44<\/td>\n",
       "      <td>0.87<\/td>\n",
       "      <td>0.655<\/td>\n",
       "    <\/tr>\n",
       "    <tr>\n",
       "      <th>Marcus McLaney<\/th>\n",
       "      <th>USD<\/th>\n",
       "      <td>-0.11<\/td>\n",
       "      <td>0.01<\/td>\n",
       "      <td>-0.050<\/td>\n",
       "    <\/tr>\n",
       "    <tr>\n",
       "      <th rowspan=\"2\" valign=\"top\">Matt Smith<\/th>\n",
       "      <th>CHF<\/th>\n",
       "      <td>0.03<\/td>\n",
       "      <td>0.03<\/td>\n",
       "      <td>0.030<\/td>\n",
       "    <\/tr>\n",
       "    <tr>\n",
       "      <th>USD<\/th>\n",
       "      <td>-0.11<\/td>\n",
       "      <td>0.39<\/td>\n",
       "      <td>0.140<\/td>\n",
       "    <\/tr>\n",
       "    <tr>\n",
       "      <th>Xu Jiawei<\/th>\n",
       "      <th>USD<\/th>\n",
       "      <td>-0.14<\/td>\n",
       "      <td>-0.14<\/td>\n",
       "      <td>-0.140<\/td>\n",
       "    <\/tr>\n",
       "  <\/tbody>\n",
       "<\/table>\n",
       "<\/div>"
      ]
     },
     "metadata":{
      
     },
     "output_type":"display_data"
    }
   ],
   "metadata":{
    "datalore":{
     "node_id":"vA1L8pBrMekRdNLFfb5liB",
     "type":"CODE",
     "hide_input_from_viewers":false,
     "hide_output_from_viewers":false
    }
   }
  },
  {
   "cell_type":"markdown",
   "source":[
    "# Pivot Tables"
   ],
   "attachments":{
    
   },
   "metadata":{
    "datalore":{
     "node_id":"sGBMAgBVdMkOaS2oTtNdTp",
     "type":"MD",
     "hide_input_from_viewers":false,
     "hide_output_from_viewers":false
    }
   }
  },
  {
   "cell_type":"markdown",
   "source":[
    "These are another way to calculate values, similar to pivot tables in excel. By default it will take the mean value for each group. We can change that by passing aggfunc= to the call. \n",
    "\n",
    "We can group on two variables by passing columns= to the call "
   ],
   "attachments":{
    
   },
   "metadata":{
    "datalore":{
     "node_id":"K0B6cDIZ92ll7KA4Fzq7Ex",
     "type":"MD",
     "hide_input_from_viewers":false,
     "hide_output_from_viewers":false
    }
   }
  },
  {
   "cell_type":"code",
   "source":[
    
   ],
   "execution_count":null,
   "outputs":[
    
   ],
   "metadata":{
    "datalore":{
     "node_id":"CGAZTG95ElhmCGHwBkFLYp",
     "type":"CODE",
     "hide_input_from_viewers":false,
     "hide_output_from_viewers":false
    }
   }
  },
  {
   "cell_type":"code",
   "source":[
    "pitches.pivot_table(values=\"Total %\", index=\"Curr\")"
   ],
   "execution_count":18,
   "outputs":[
    {
     "data":{
      "text\/html":[
       "<div>\n",
       "<style scoped>\n",
       "    .dataframe tbody tr th:only-of-type {\n",
       "        vertical-align: middle;\n",
       "    }\n",
       "\n",
       "    .dataframe tbody tr th {\n",
       "        vertical-align: top;\n",
       "    }\n",
       "\n",
       "    .dataframe thead th {\n",
       "        text-align: right;\n",
       "    }\n",
       "<\/style>\n",
       "<table border=\"1\" class=\"dataframe\">\n",
       "  <thead>\n",
       "    <tr style=\"text-align: right;\">\n",
       "      <th><\/th>\n",
       "      <th>Total %<\/th>\n",
       "    <\/tr>\n",
       "    <tr>\n",
       "      <th>Curr<\/th>\n",
       "      <th><\/th>\n",
       "    <\/tr>\n",
       "  <\/thead>\n",
       "  <tbody>\n",
       "    <tr>\n",
       "      <th>CHF<\/th>\n",
       "      <td>0.030000<\/td>\n",
       "    <\/tr>\n",
       "    <tr>\n",
       "      <th>EUR<\/th>\n",
       "      <td>-0.090000<\/td>\n",
       "    <\/tr>\n",
       "    <tr>\n",
       "      <th>GBX<\/th>\n",
       "      <td>-0.005000<\/td>\n",
       "    <\/tr>\n",
       "    <tr>\n",
       "      <th>USD<\/th>\n",
       "      <td>0.005263<\/td>\n",
       "    <\/tr>\n",
       "  <\/tbody>\n",
       "<\/table>\n",
       "<\/div>"
      ]
     },
     "metadata":{
      
     },
     "output_type":"display_data"
    }
   ],
   "metadata":{
    "datalore":{
     "node_id":"i4seBhO5k7UKKEVh45ZT14",
     "type":"CODE",
     "hide_input_from_viewers":false,
     "hide_output_from_viewers":false
    }
   }
  },
  {
   "cell_type":"code",
   "source":[
    "pitches.pivot_table(values=\"Total %\", index=\"Curr\", aggfunc=np.max)"
   ],
   "execution_count":19,
   "outputs":[
    {
     "data":{
      "text\/html":[
       "<div>\n",
       "<style scoped>\n",
       "    .dataframe tbody tr th:only-of-type {\n",
       "        vertical-align: middle;\n",
       "    }\n",
       "\n",
       "    .dataframe tbody tr th {\n",
       "        vertical-align: top;\n",
       "    }\n",
       "\n",
       "    .dataframe thead th {\n",
       "        text-align: right;\n",
       "    }\n",
       "<\/style>\n",
       "<table border=\"1\" class=\"dataframe\">\n",
       "  <thead>\n",
       "    <tr style=\"text-align: right;\">\n",
       "      <th><\/th>\n",
       "      <th>Total %<\/th>\n",
       "    <\/tr>\n",
       "    <tr>\n",
       "      <th>Curr<\/th>\n",
       "      <th><\/th>\n",
       "    <\/tr>\n",
       "  <\/thead>\n",
       "  <tbody>\n",
       "    <tr>\n",
       "      <th>CHF<\/th>\n",
       "      <td>0.03<\/td>\n",
       "    <\/tr>\n",
       "    <tr>\n",
       "      <th>EUR<\/th>\n",
       "      <td>0.31<\/td>\n",
       "    <\/tr>\n",
       "    <tr>\n",
       "      <th>GBX<\/th>\n",
       "      <td>0.10<\/td>\n",
       "    <\/tr>\n",
       "    <tr>\n",
       "      <th>USD<\/th>\n",
       "      <td>0.87<\/td>\n",
       "    <\/tr>\n",
       "  <\/tbody>\n",
       "<\/table>\n",
       "<\/div>"
      ]
     },
     "metadata":{
      
     },
     "output_type":"display_data"
    }
   ],
   "metadata":{
    "datalore":{
     "node_id":"9IXzTFDSZDRB9YGOHYQl89",
     "type":"CODE",
     "hide_input_from_viewers":false,
     "hide_output_from_viewers":false
    }
   }
  },
  {
   "cell_type":"code",
   "source":[
    "pitches.pivot_table(values=\"Total %\", index=\"Curr\", aggfunc=[np.max, np.min])"
   ],
   "execution_count":20,
   "outputs":[
    {
     "data":{
      "text\/html":[
       "<div>\n",
       "<style scoped>\n",
       "    .dataframe tbody tr th:only-of-type {\n",
       "        vertical-align: middle;\n",
       "    }\n",
       "\n",
       "    .dataframe tbody tr th {\n",
       "        vertical-align: top;\n",
       "    }\n",
       "\n",
       "    .dataframe thead tr th {\n",
       "        text-align: left;\n",
       "    }\n",
       "\n",
       "    .dataframe thead tr:last-of-type th {\n",
       "        text-align: right;\n",
       "    }\n",
       "<\/style>\n",
       "<table border=\"1\" class=\"dataframe\">\n",
       "  <thead>\n",
       "    <tr>\n",
       "      <th><\/th>\n",
       "      <th>amax<\/th>\n",
       "      <th>amin<\/th>\n",
       "    <\/tr>\n",
       "    <tr>\n",
       "      <th><\/th>\n",
       "      <th>Total %<\/th>\n",
       "      <th>Total %<\/th>\n",
       "    <\/tr>\n",
       "    <tr>\n",
       "      <th>Curr<\/th>\n",
       "      <th><\/th>\n",
       "      <th><\/th>\n",
       "    <\/tr>\n",
       "  <\/thead>\n",
       "  <tbody>\n",
       "    <tr>\n",
       "      <th>CHF<\/th>\n",
       "      <td>0.03<\/td>\n",
       "      <td>0.03<\/td>\n",
       "    <\/tr>\n",
       "    <tr>\n",
       "      <th>EUR<\/th>\n",
       "      <td>0.31<\/td>\n",
       "      <td>-0.41<\/td>\n",
       "    <\/tr>\n",
       "    <tr>\n",
       "      <th>GBX<\/th>\n",
       "      <td>0.10<\/td>\n",
       "      <td>-0.11<\/td>\n",
       "    <\/tr>\n",
       "    <tr>\n",
       "      <th>USD<\/th>\n",
       "      <td>0.87<\/td>\n",
       "      <td>-0.94<\/td>\n",
       "    <\/tr>\n",
       "  <\/tbody>\n",
       "<\/table>\n",
       "<\/div>"
      ]
     },
     "metadata":{
      
     },
     "output_type":"display_data"
    }
   ],
   "metadata":{
    "datalore":{
     "node_id":"aaPhb798sh1dYDWm7SL0r7",
     "type":"CODE",
     "hide_input_from_viewers":false,
     "hide_output_from_viewers":false
    }
   }
  },
  {
   "cell_type":"code",
   "source":[
    "pitches.pivot_table(values=\"Total %\", index=\"Curr\", columns=\"Associate \", aggfunc=[np.max, np.min], fill_value=0, margins=True)"
   ],
   "execution_count":21,
   "outputs":[
    {
     "data":{
      "text\/html":[
       "<div>\n",
       "<style scoped>\n",
       "    .dataframe tbody tr th:only-of-type {\n",
       "        vertical-align: middle;\n",
       "    }\n",
       "\n",
       "    .dataframe tbody tr th {\n",
       "        vertical-align: top;\n",
       "    }\n",
       "\n",
       "    .dataframe thead tr th {\n",
       "        text-align: left;\n",
       "    }\n",
       "\n",
       "    .dataframe thead tr:last-of-type th {\n",
       "        text-align: right;\n",
       "    }\n",
       "<\/style>\n",
       "<table border=\"1\" class=\"dataframe\">\n",
       "  <thead>\n",
       "    <tr>\n",
       "      <th><\/th>\n",
       "      <th colspan=\"10\" halign=\"left\">amax<\/th>\n",
       "      <th>...<\/th>\n",
       "      <th colspan=\"10\" halign=\"left\">amin<\/th>\n",
       "    <\/tr>\n",
       "    <tr>\n",
       "      <th>Associate<\/th>\n",
       "      <th>Adam Barbarowicz<\/th>\n",
       "      <th>Amos Jaupi<\/th>\n",
       "      <th>Anna Erofeeva<\/th>\n",
       "      <th>Arjun Kandola<\/th>\n",
       "      <th>Charlotte Pinder<\/th>\n",
       "      <th>Darren Wyy<\/th>\n",
       "      <th>Dev Singh<\/th>\n",
       "      <th>Edmund Xia<\/th>\n",
       "      <th>Jerry Kim<\/th>\n",
       "      <th>Joshua Zeng<\/th>\n",
       "      <th>...<\/th>\n",
       "      <th>Darren Wyy<\/th>\n",
       "      <th>Dev Singh<\/th>\n",
       "      <th>Edmund Xia<\/th>\n",
       "      <th>Jerry Kim<\/th>\n",
       "      <th>Joshua Zeng<\/th>\n",
       "      <th>Kelvin Fang<\/th>\n",
       "      <th>Marcus McLaney<\/th>\n",
       "      <th>Matt Smith<\/th>\n",
       "      <th>Xu Jiawei<\/th>\n",
       "      <th>All<\/th>\n",
       "    <\/tr>\n",
       "    <tr>\n",
       "      <th>Curr<\/th>\n",
       "      <th><\/th>\n",
       "      <th><\/th>\n",
       "      <th><\/th>\n",
       "      <th><\/th>\n",
       "      <th><\/th>\n",
       "      <th><\/th>\n",
       "      <th><\/th>\n",
       "      <th><\/th>\n",
       "      <th><\/th>\n",
       "      <th><\/th>\n",
       "      <th><\/th>\n",
       "      <th><\/th>\n",
       "      <th><\/th>\n",
       "      <th><\/th>\n",
       "      <th><\/th>\n",
       "      <th><\/th>\n",
       "      <th><\/th>\n",
       "      <th><\/th>\n",
       "      <th><\/th>\n",
       "      <th><\/th>\n",
       "      <th><\/th>\n",
       "    <\/tr>\n",
       "  <\/thead>\n",
       "  <tbody>\n",
       "    <tr>\n",
       "      <th>CHF<\/th>\n",
       "      <td>0.00<\/td>\n",
       "      <td>0.00<\/td>\n",
       "      <td>0.00<\/td>\n",
       "      <td>0.00<\/td>\n",
       "      <td>0.00<\/td>\n",
       "      <td>0.00<\/td>\n",
       "      <td>0.00<\/td>\n",
       "      <td>0.00<\/td>\n",
       "      <td>0.00<\/td>\n",
       "      <td>0.00<\/td>\n",
       "      <td>...<\/td>\n",
       "      <td>0.00<\/td>\n",
       "      <td>0.00<\/td>\n",
       "      <td>0.00<\/td>\n",
       "      <td>0.00<\/td>\n",
       "      <td>0.00<\/td>\n",
       "      <td>0.00<\/td>\n",
       "      <td>0.00<\/td>\n",
       "      <td>0.03<\/td>\n",
       "      <td>0.00<\/td>\n",
       "      <td>0.03<\/td>\n",
       "    <\/tr>\n",
       "    <tr>\n",
       "      <th>EUR<\/th>\n",
       "      <td>0.31<\/td>\n",
       "      <td>-0.41<\/td>\n",
       "      <td>0.00<\/td>\n",
       "      <td>0.00<\/td>\n",
       "      <td>-0.17<\/td>\n",
       "      <td>0.00<\/td>\n",
       "      <td>0.00<\/td>\n",
       "      <td>0.00<\/td>\n",
       "      <td>0.00<\/td>\n",
       "      <td>0.00<\/td>\n",
       "      <td>...<\/td>\n",
       "      <td>0.00<\/td>\n",
       "      <td>0.00<\/td>\n",
       "      <td>0.00<\/td>\n",
       "      <td>0.00<\/td>\n",
       "      <td>0.00<\/td>\n",
       "      <td>0.00<\/td>\n",
       "      <td>0.00<\/td>\n",
       "      <td>0.00<\/td>\n",
       "      <td>0.00<\/td>\n",
       "      <td>-0.41<\/td>\n",
       "    <\/tr>\n",
       "    <tr>\n",
       "      <th>GBX<\/th>\n",
       "      <td>0.00<\/td>\n",
       "      <td>0.00<\/td>\n",
       "      <td>0.00<\/td>\n",
       "      <td>0.00<\/td>\n",
       "      <td>0.00<\/td>\n",
       "      <td>0.00<\/td>\n",
       "      <td>0.00<\/td>\n",
       "      <td>-0.11<\/td>\n",
       "      <td>0.00<\/td>\n",
       "      <td>0.10<\/td>\n",
       "      <td>...<\/td>\n",
       "      <td>0.00<\/td>\n",
       "      <td>0.00<\/td>\n",
       "      <td>-0.11<\/td>\n",
       "      <td>0.00<\/td>\n",
       "      <td>0.10<\/td>\n",
       "      <td>0.00<\/td>\n",
       "      <td>0.00<\/td>\n",
       "      <td>0.00<\/td>\n",
       "      <td>0.00<\/td>\n",
       "      <td>-0.11<\/td>\n",
       "    <\/tr>\n",
       "    <tr>\n",
       "      <th>USD<\/th>\n",
       "      <td>0.00<\/td>\n",
       "      <td>0.00<\/td>\n",
       "      <td>0.05<\/td>\n",
       "      <td>0.02<\/td>\n",
       "      <td>-0.41<\/td>\n",
       "      <td>0.55<\/td>\n",
       "      <td>0.62<\/td>\n",
       "      <td>0.00<\/td>\n",
       "      <td>-0.01<\/td>\n",
       "      <td>-0.53<\/td>\n",
       "      <td>...<\/td>\n",
       "      <td>0.27<\/td>\n",
       "      <td>-0.87<\/td>\n",
       "      <td>0.00<\/td>\n",
       "      <td>-0.01<\/td>\n",
       "      <td>-0.53<\/td>\n",
       "      <td>0.44<\/td>\n",
       "      <td>-0.11<\/td>\n",
       "      <td>-0.11<\/td>\n",
       "      <td>-0.14<\/td>\n",
       "      <td>-0.94<\/td>\n",
       "    <\/tr>\n",
       "    <tr>\n",
       "      <th>All<\/th>\n",
       "      <td>0.31<\/td>\n",
       "      <td>-0.41<\/td>\n",
       "      <td>0.05<\/td>\n",
       "      <td>0.02<\/td>\n",
       "      <td>-0.17<\/td>\n",
       "      <td>0.55<\/td>\n",
       "      <td>0.62<\/td>\n",
       "      <td>-0.11<\/td>\n",
       "      <td>-0.01<\/td>\n",
       "      <td>0.10<\/td>\n",
       "      <td>...<\/td>\n",
       "      <td>0.27<\/td>\n",
       "      <td>-0.87<\/td>\n",
       "      <td>-0.11<\/td>\n",
       "      <td>-0.01<\/td>\n",
       "      <td>-0.53<\/td>\n",
       "      <td>0.44<\/td>\n",
       "      <td>-0.11<\/td>\n",
       "      <td>-0.11<\/td>\n",
       "      <td>-0.14<\/td>\n",
       "      <td>-0.94<\/td>\n",
       "    <\/tr>\n",
       "  <\/tbody>\n",
       "<\/table>\n",
       "<p>5 rows × 30 columns<\/p>\n",
       "<\/div>"
      ]
     },
     "metadata":{
      
     },
     "output_type":"display_data"
    }
   ],
   "metadata":{
    "datalore":{
     "node_id":"4fmE2VSel5sdVaGv1jrvOe",
     "type":"CODE",
     "hide_input_from_viewers":false,
     "hide_output_from_viewers":false
    }
   }
  }
 ],
 "metadata":{
  "kernelspec":{
   "display_name":"Python",
   "language":"python",
   "name":"python"
  },
  "datalore":{
   "version":1,
   "computation_mode":"JUPYTER",
   "package_manager":"pip",
   "base_environment":"default",
   "packages":[
    
   ]
  }
 },
 "nbformat":4,
 "nbformat_minor":4
}