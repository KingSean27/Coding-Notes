{
 "cells":[
  {
   "cell_type":"markdown",
   "source":[
    "For a 1D numpy array we can loop through it with a simple for loop. However for 2D arrays it is not so simple. \n",
    "\n",
    "We need to use the np.nditer() function. This will iterate over everything as we can see in the example below. "
   ],
   "attachments":{
    
   },
   "metadata":{
    "datalore":{
     "type":"MD",
     "hide_input_from_viewers":false,
     "hide_output_from_viewers":false
    }
   }
  },
  {
   "cell_type":"code",
   "source":[
    "import pandas as pd\n",
    "import numpy as np\n",
    "\n",
    "height = np.array([3.5, 4.2, 6.5])\n",
    "weight = np.array([100, 143, 183])\n",
    "mass = np.array([height, weight])\n",
    "\n",
    "mass"
   ],
   "execution_count":5,
   "outputs":[
    {
     "data":{
      "text\/html":[
       
      ]
     },
     "metadata":{
      
     },
     "output_type":"display_data"
    }
   ],
   "metadata":{
    "datalore":{
     "type":"CODE",
     "hide_input_from_viewers":false,
     "hide_output_from_viewers":false
    }
   }
  },
  {
   "cell_type":"code",
   "source":[
    "for value in np.nditer(mass) : \n",
    "    print(value)"
   ],
   "execution_count":6,
   "outputs":[
    {
     "name":"stdout",
     "text":[
      "3.5\n",
      "4.2\n",
      "6.5\n",
      "100.0\n",
      "143.0\n",
      "183.0\n"
     ],
     "output_type":"stream"
    }
   ],
   "metadata":{
    "datalore":{
     "type":"CODE",
     "hide_input_from_viewers":false,
     "hide_output_from_viewers":false
    }
   }
  },
  {
   "cell_type":"markdown",
   "source":[
    "For pandas you need to explicitly say you want to iterate over rows. \n",
    "\n",
    "To do this we use the function iterrows()\n",
    "\n",
    "We can get the column names and the data they contain using this and splice them in a variety of ways as shown below "
   ],
   "attachments":{
    
   },
   "metadata":{
    "datalore":{
     "type":"MD",
     "hide_input_from_viewers":false,
     "hide_output_from_viewers":false
    }
   }
  },
  {
   "cell_type":"code",
   "source":[
    "stock_pitches = pd.read_csv(\"stocks_pitches.csv\", index_col = 2)\n",
    "stock_trimmed = stock_pitches.iloc[ 0:4 , : ]\n",
    "stock_trimmed"
   ],
   "execution_count":45,
   "outputs":[
    {
     "data":{
      "text\/html":[
       "<div>\n",
       "<style scoped>\n",
       "    .dataframe tbody tr th:only-of-type {\n",
       "        vertical-align: middle;\n",
       "    }\n",
       "\n",
       "    .dataframe tbody tr th {\n",
       "        vertical-align: top;\n",
       "    }\n",
       "\n",
       "    .dataframe thead th {\n",
       "        text-align: right;\n",
       "    }\n",
       "<\/style>\n",
       "<table border=\"1\" class=\"dataframe\">\n",
       "  <thead>\n",
       "    <tr style=\"text-align: right;\">\n",
       "      <th><\/th>\n",
       "      <th>Name<\/th>\n",
       "      <th>Associate<\/th>\n",
       "      <th>Pitch Date<\/th>\n",
       "      <th>Pitch Price<\/th>\n",
       "      <th>Curr<\/th>\n",
       "      <th>Today Price<\/th>\n",
       "      <th>Price %<\/th>\n",
       "      <th>Total Divs<\/th>\n",
       "      <th>Currency ?<\/th>\n",
       "      <th>Total %<\/th>\n",
       "    <\/tr>\n",
       "    <tr>\n",
       "      <th>Ticker<\/th>\n",
       "      <th><\/th>\n",
       "      <th><\/th>\n",
       "      <th><\/th>\n",
       "      <th><\/th>\n",
       "      <th><\/th>\n",
       "      <th><\/th>\n",
       "      <th><\/th>\n",
       "      <th><\/th>\n",
       "      <th><\/th>\n",
       "      <th><\/th>\n",
       "    <\/tr>\n",
       "  <\/thead>\n",
       "  <tbody>\n",
       "    <tr>\n",
       "      <th>ABB<\/th>\n",
       "      <td>ABB Ltd<\/td>\n",
       "      <td>Matt Smith<\/td>\n",
       "      <td>06\/03\/2018<\/td>\n",
       "      <td>22.80<\/td>\n",
       "      <td>CHF<\/td>\n",
       "      <td>21.86<\/td>\n",
       "      <td>-0.04<\/td>\n",
       "      <td>1.623<\/td>\n",
       "      <td>1.02<\/td>\n",
       "      <td>0.03<\/td>\n",
       "    <\/tr>\n",
       "    <tr>\n",
       "      <th>BABA<\/th>\n",
       "      <td>Alibaba Group Holding Ltd<\/td>\n",
       "      <td>Anna Erofeeva<\/td>\n",
       "      <td>05\/12\/2017<\/td>\n",
       "      <td>177.62<\/td>\n",
       "      <td>USD<\/td>\n",
       "      <td>186.78<\/td>\n",
       "      <td>0.05<\/td>\n",
       "      <td>0.000<\/td>\n",
       "      <td>1.04<\/td>\n",
       "      <td>0.05<\/td>\n",
       "    <\/tr>\n",
       "    <tr>\n",
       "      <th>AAPL<\/th>\n",
       "      <td>Apple Inc<\/td>\n",
       "      <td>Darren Wyy<\/td>\n",
       "      <td>16\/01\/2018<\/td>\n",
       "      <td>176.30<\/td>\n",
       "      <td>USD<\/td>\n",
       "      <td>261.78<\/td>\n",
       "      <td>0.48<\/td>\n",
       "      <td>5.860<\/td>\n",
       "      <td>1.06<\/td>\n",
       "      <td>0.55<\/td>\n",
       "    <\/tr>\n",
       "    <tr>\n",
       "      <th>ANET<\/th>\n",
       "      <td>Arista Networks Inc<\/td>\n",
       "      <td>Xu Jiawei<\/td>\n",
       "      <td>14\/11\/2017<\/td>\n",
       "      <td>225.50<\/td>\n",
       "      <td>USD<\/td>\n",
       "      <td>194.49<\/td>\n",
       "      <td>-0.14<\/td>\n",
       "      <td>0.000<\/td>\n",
       "      <td>1.02<\/td>\n",
       "      <td>-0.14<\/td>\n",
       "    <\/tr>\n",
       "  <\/tbody>\n",
       "<\/table>\n",
       "<\/div>"
      ]
     },
     "metadata":{
      
     },
     "output_type":"display_data"
    }
   ],
   "metadata":{
    "datalore":{
     "type":"CODE",
     "hide_input_from_viewers":false,
     "hide_output_from_viewers":false
    }
   }
  },
  {
   "cell_type":"code",
   "source":[
    "for ticker, row in stock_trimmed.iterrows():\n",
    "    print(ticker)"
   ],
   "execution_count":24,
   "outputs":[
    {
     "name":"stdout",
     "text":[
      "ABB\n",
      "BABA\n",
      "AAPL\n",
      "ANET\n"
     ],
     "output_type":"stream"
    }
   ],
   "metadata":{
    "datalore":{
     "type":"CODE",
     "hide_input_from_viewers":false,
     "hide_output_from_viewers":false
    }
   }
  },
  {
   "cell_type":"code",
   "source":[
    "for ticker, row in stock_trimmed.iterrows():\n",
    "    print(row)"
   ],
   "execution_count":25,
   "outputs":[
    {
     "name":"stdout",
     "text":[
      "Name             ABB Ltd \n",
      "Associate      Matt Smith\n",
      "Pitch Date     06\/03\/2018\n",
      "Pitch Price          22.8\n",
      "Curr                  CHF\n",
      "Today Price         21.86\n",
      "Price %             -0.04\n",
      "Total Divs          1.623\n",
      "Currency ?           1.02\n",
      "Total %              0.03\n",
      "Name: ABB, dtype: object\n",
      "Name           Alibaba Group Holding Ltd \n",
      "Associate                   Anna Erofeeva\n",
      "Pitch Date                     05\/12\/2017\n",
      "Pitch Price                        177.62\n",
      "Curr                                  USD\n",
      "Today Price                        186.78\n",
      "Price %                              0.05\n",
      "Total Divs                            0.0\n",
      "Currency ?                           1.04\n",
      "Total %                              0.05\n",
      "Name: BABA, dtype: object\n",
      "Name            Apple Inc\n",
      "Associate      Darren Wyy\n",
      "Pitch Date     16\/01\/2018\n",
      "Pitch Price         176.3\n",
      "Curr                  USD\n",
      "Today Price        261.78\n",
      "Price %              0.48\n",
      "Total Divs           5.86\n",
      "Currency ?           1.06\n",
      "Total %              0.55\n",
      "Name: AAPL, dtype: object\n",
      "Name           Arista Networks Inc \n",
      "Associate                 Xu Jiawei\n",
      "Pitch Date               14\/11\/2017\n",
      "Pitch Price                   225.5\n",
      "Curr                            USD\n",
      "Today Price                  194.49\n",
      "Price %                       -0.14\n",
      "Total Divs                      0.0\n",
      "Currency ?                     1.02\n",
      "Total %                       -0.14\n",
      "Name: ANET, dtype: object\n"
     ],
     "output_type":"stream"
    }
   ],
   "metadata":{
    "datalore":{
     "type":"CODE",
     "hide_input_from_viewers":false,
     "hide_output_from_viewers":false
    }
   }
  },
  {
   "cell_type":"code",
   "source":[
    "for ticker, row in stock_trimmed.iterrows():\n",
    "    print(ticker + \" - \", + row[\"Today Price\"])"
   ],
   "execution_count":27,
   "outputs":[
    {
     "name":"stdout",
     "text":[
      "ABB -  21.86\n",
      "BABA -  186.78\n",
      "AAPL -  261.78\n",
      "ANET -  194.49\n"
     ],
     "output_type":"stream"
    }
   ],
   "metadata":{
    "datalore":{
     "type":"CODE",
     "hide_input_from_viewers":false,
     "hide_output_from_viewers":false
    }
   }
  },
  {
   "cell_type":"markdown",
   "source":[
    "To add a column to pandas we just need to state what it is to add it. \n",
    "\n",
    "To add a column as a calculation we can use the apply function. \n",
    "\n",
    "As we can see we can't do this on the view of the dataframe but need to use the original dataframe itself."
   ],
   "attachments":{
    
   },
   "metadata":{
    "datalore":{
     "type":"MD",
     "hide_input_from_viewers":false,
     "hide_output_from_viewers":false
    }
   }
  },
  {
   "cell_type":"code",
   "source":[
    "stock_trimmed[\"name_length\"] = stock_trimmed[\"Pitch Date\"].apply(len)"
   ],
   "execution_count":51,
   "outputs":[
    {
     "name":"stderr",
     "text":[
      "<ipython-input-51-faaf039fe4ae>:1: SettingWithCopyWarning: \n",
      "A value is trying to be set on a copy of a slice from a DataFrame.\n",
      "Try using .loc[row_indexer,col_indexer] = value instead\n",
      "\n",
      "See the caveats in the documentation: https:\/\/pandas.pydata.org\/pandas-docs\/stable\/user_guide\/indexing.html#returning-a-view-versus-a-copy\n",
      "  stock_trimmed[\"name_length\"] = stock_trimmed[\"Pitch Date\"].apply(len)\n"
     ],
     "output_type":"stream"
    }
   ],
   "metadata":{
    "datalore":{
     "type":"CODE",
     "hide_input_from_viewers":false,
     "hide_output_from_viewers":false
    }
   }
  },
  {
   "cell_type":"code",
   "source":[
    "stock_pitches[\"name_length\"] = stock_pitches[\"Associate \"].apply(len)\n",
    "\n",
    "stock_pitches"
   ],
   "execution_count":50,
   "outputs":[
    {
     "data":{
      "text\/html":[
       "<div>\n",
       "<style scoped>\n",
       "    .dataframe tbody tr th:only-of-type {\n",
       "        vertical-align: middle;\n",
       "    }\n",
       "\n",
       "    .dataframe tbody tr th {\n",
       "        vertical-align: top;\n",
       "    }\n",
       "\n",
       "    .dataframe thead th {\n",
       "        text-align: right;\n",
       "    }\n",
       "<\/style>\n",
       "<table border=\"1\" class=\"dataframe\">\n",
       "  <thead>\n",
       "    <tr style=\"text-align: right;\">\n",
       "      <th><\/th>\n",
       "      <th>Name<\/th>\n",
       "      <th>Associate<\/th>\n",
       "      <th>Pitch Date<\/th>\n",
       "      <th>Pitch Price<\/th>\n",
       "      <th>Curr<\/th>\n",
       "      <th>Today Price<\/th>\n",
       "      <th>Price %<\/th>\n",
       "      <th>Total Divs<\/th>\n",
       "      <th>Currency ?<\/th>\n",
       "      <th>Total %<\/th>\n",
       "      <th>name_length<\/th>\n",
       "    <\/tr>\n",
       "    <tr>\n",
       "      <th>Ticker<\/th>\n",
       "      <th><\/th>\n",
       "      <th><\/th>\n",
       "      <th><\/th>\n",
       "      <th><\/th>\n",
       "      <th><\/th>\n",
       "      <th><\/th>\n",
       "      <th><\/th>\n",
       "      <th><\/th>\n",
       "      <th><\/th>\n",
       "      <th><\/th>\n",
       "      <th><\/th>\n",
       "    <\/tr>\n",
       "  <\/thead>\n",
       "  <tbody>\n",
       "    <tr>\n",
       "      <th>ABB<\/th>\n",
       "      <td>ABB Ltd<\/td>\n",
       "      <td>Matt Smith<\/td>\n",
       "      <td>06\/03\/2018<\/td>\n",
       "      <td>22.80<\/td>\n",
       "      <td>CHF<\/td>\n",
       "      <td>21.86<\/td>\n",
       "      <td>-0.04<\/td>\n",
       "      <td>1.623<\/td>\n",
       "      <td>1.02<\/td>\n",
       "      <td>0.03<\/td>\n",
       "      <td>10<\/td>\n",
       "    <\/tr>\n",
       "    <tr>\n",
       "      <th>BABA<\/th>\n",
       "      <td>Alibaba Group Holding Ltd<\/td>\n",
       "      <td>Anna Erofeeva<\/td>\n",
       "      <td>05\/12\/2017<\/td>\n",
       "      <td>177.62<\/td>\n",
       "      <td>USD<\/td>\n",
       "      <td>186.78<\/td>\n",
       "      <td>0.05<\/td>\n",
       "      <td>0.000<\/td>\n",
       "      <td>1.04<\/td>\n",
       "      <td>0.05<\/td>\n",
       "      <td>13<\/td>\n",
       "    <\/tr>\n",
       "    <tr>\n",
       "      <th>AAPL<\/th>\n",
       "      <td>Apple Inc<\/td>\n",
       "      <td>Darren Wyy<\/td>\n",
       "      <td>16\/01\/2018<\/td>\n",
       "      <td>176.30<\/td>\n",
       "      <td>USD<\/td>\n",
       "      <td>261.78<\/td>\n",
       "      <td>0.48<\/td>\n",
       "      <td>5.860<\/td>\n",
       "      <td>1.06<\/td>\n",
       "      <td>0.55<\/td>\n",
       "      <td>10<\/td>\n",
       "    <\/tr>\n",
       "    <tr>\n",
       "      <th>ANET<\/th>\n",
       "      <td>Arista Networks Inc<\/td>\n",
       "      <td>Xu Jiawei<\/td>\n",
       "      <td>14\/11\/2017<\/td>\n",
       "      <td>225.50<\/td>\n",
       "      <td>USD<\/td>\n",
       "      <td>194.49<\/td>\n",
       "      <td>-0.14<\/td>\n",
       "      <td>0.000<\/td>\n",
       "      <td>1.02<\/td>\n",
       "      <td>-0.14<\/td>\n",
       "      <td>9<\/td>\n",
       "    <\/tr>\n",
       "    <tr>\n",
       "      <th>BHP<\/th>\n",
       "      <td>BHP Billiton Ltd<\/td>\n",
       "      <td>Matt Smith<\/td>\n",
       "      <td>05\/12\/2017<\/td>\n",
       "      <td>42.10<\/td>\n",
       "      <td>USD<\/td>\n",
       "      <td>50.84<\/td>\n",
       "      <td>0.21<\/td>\n",
       "      <td>7.060<\/td>\n",
       "      <td>1.04<\/td>\n",
       "      <td>0.39<\/td>\n",
       "      <td>10<\/td>\n",
       "    <\/tr>\n",
       "    <tr>\n",
       "      <th>BLK<\/th>\n",
       "      <td>BlackRock Inc<\/td>\n",
       "      <td>Marcus McLaney<\/td>\n",
       "      <td>27\/02\/2018<\/td>\n",
       "      <td>563.97<\/td>\n",
       "      <td>USD<\/td>\n",
       "      <td>485.00<\/td>\n",
       "      <td>-0.14<\/td>\n",
       "      <td>21.920<\/td>\n",
       "      <td>1.07<\/td>\n",
       "      <td>-0.11<\/td>\n",
       "      <td>14<\/td>\n",
       "    <\/tr>\n",
       "    <tr>\n",
       "      <th>DPZ<\/th>\n",
       "      <td>Domino's Pizza Inc<\/td>\n",
       "      <td>Dev Singh<\/td>\n",
       "      <td>12\/12\/2017<\/td>\n",
       "      <td>180.96<\/td>\n",
       "      <td>USD<\/td>\n",
       "      <td>285.76<\/td>\n",
       "      <td>0.58<\/td>\n",
       "      <td>4.610<\/td>\n",
       "      <td>1.03<\/td>\n",
       "      <td>0.62<\/td>\n",
       "      <td>9<\/td>\n",
       "    <\/tr>\n",
       "    <tr>\n",
       "      <th>EL<\/th>\n",
       "      <td>Estee Lauder Companies Inc<\/td>\n",
       "      <td>Kelvin Fang<\/td>\n",
       "      <td>20\/02\/2018<\/td>\n",
       "      <td>139.65<\/td>\n",
       "      <td>USD<\/td>\n",
       "      <td>193.18<\/td>\n",
       "      <td>0.38<\/td>\n",
       "      <td>2.860<\/td>\n",
       "      <td>1.08<\/td>\n",
       "      <td>0.44<\/td>\n",
       "      <td>11<\/td>\n",
       "    <\/tr>\n",
       "    <tr>\n",
       "      <th>FL<\/th>\n",
       "      <td>Foot Locker Inc<\/td>\n",
       "      <td>Arjun Kandola<\/td>\n",
       "      <td>06\/03\/2018<\/td>\n",
       "      <td>42.10<\/td>\n",
       "      <td>USD<\/td>\n",
       "      <td>40.25<\/td>\n",
       "      <td>-0.04<\/td>\n",
       "      <td>2.520<\/td>\n",
       "      <td>1.07<\/td>\n",
       "      <td>0.02<\/td>\n",
       "      <td>13<\/td>\n",
       "    <\/tr>\n",
       "    <tr>\n",
       "      <th>GM<\/th>\n",
       "      <td>General Motors Co<\/td>\n",
       "      <td>Matt Smith<\/td>\n",
       "      <td>30\/01\/2018<\/td>\n",
       "      <td>42.41<\/td>\n",
       "      <td>USD<\/td>\n",
       "      <td>35.33<\/td>\n",
       "      <td>-0.17<\/td>\n",
       "      <td>2.660<\/td>\n",
       "      <td>1.08<\/td>\n",
       "      <td>-0.11<\/td>\n",
       "      <td>10<\/td>\n",
       "    <\/tr>\n",
       "    <tr>\n",
       "      <th>HON<\/th>\n",
       "      <td>Honeywell International Inc.<\/td>\n",
       "      <td>Darren Wyy<\/td>\n",
       "      <td>13\/03\/2018<\/td>\n",
       "      <td>145.90<\/td>\n",
       "      <td>USD<\/td>\n",
       "      <td>176.79<\/td>\n",
       "      <td>0.21<\/td>\n",
       "      <td>5.670<\/td>\n",
       "      <td>1.07<\/td>\n",
       "      <td>0.27<\/td>\n",
       "      <td>10<\/td>\n",
       "    <\/tr>\n",
       "    <tr>\n",
       "      <th>ITRK.L<\/th>\n",
       "      <td>Intertek Group plc<\/td>\n",
       "      <td>Joshua Zeng<\/td>\n",
       "      <td>23\/01\/2018<\/td>\n",
       "      <td>5178.00<\/td>\n",
       "      <td>GBX<\/td>\n",
       "      <td>5504.00<\/td>\n",
       "      <td>0.06<\/td>\n",
       "      <td>181.100<\/td>\n",
       "      <td>1.00<\/td>\n",
       "      <td>0.10<\/td>\n",
       "      <td>11<\/td>\n",
       "    <\/tr>\n",
       "    <tr>\n",
       "      <th>KHC<\/th>\n",
       "      <td>Kraft Heinz Co<\/td>\n",
       "      <td>Joshua Zeng<\/td>\n",
       "      <td>19\/03\/2018<\/td>\n",
       "      <td>67.23<\/td>\n",
       "      <td>USD<\/td>\n",
       "      <td>30.54<\/td>\n",
       "      <td>-0.55<\/td>\n",
       "      <td>3.475<\/td>\n",
       "      <td>1.07<\/td>\n",
       "      <td>-0.53<\/td>\n",
       "      <td>11<\/td>\n",
       "    <\/tr>\n",
       "    <tr>\n",
       "      <th>MAR<\/th>\n",
       "      <td>Marriott International Inc<\/td>\n",
       "      <td>Jerry Kim<\/td>\n",
       "      <td>20\/02\/2018<\/td>\n",
       "      <td>140.44<\/td>\n",
       "      <td>USD<\/td>\n",
       "      <td>136.25<\/td>\n",
       "      <td>-0.03<\/td>\n",
       "      <td>3.410<\/td>\n",
       "      <td>1.08<\/td>\n",
       "      <td>-0.01<\/td>\n",
       "      <td>9<\/td>\n",
       "    <\/tr>\n",
       "    <tr>\n",
       "      <th>MA<\/th>\n",
       "      <td>Mastercard Inc<\/td>\n",
       "      <td>Kelvin Fang<\/td>\n",
       "      <td>28\/11\/2017<\/td>\n",
       "      <td>154.77<\/td>\n",
       "      <td>USD<\/td>\n",
       "      <td>282.57<\/td>\n",
       "      <td>0.83<\/td>\n",
       "      <td>2.320<\/td>\n",
       "      <td>1.03<\/td>\n",
       "      <td>0.87<\/td>\n",
       "      <td>11<\/td>\n",
       "    <\/tr>\n",
       "    <tr>\n",
       "      <th>OTB.L<\/th>\n",
       "      <td>On The Beach Group plc<\/td>\n",
       "      <td>Edmund Xia<\/td>\n",
       "      <td>30\/01\/2018<\/td>\n",
       "      <td>492.00<\/td>\n",
       "      <td>GBX<\/td>\n",
       "      <td>434.60<\/td>\n",
       "      <td>-0.12<\/td>\n",
       "      <td>4.600<\/td>\n",
       "      <td>1.00<\/td>\n",
       "      <td>-0.11<\/td>\n",
       "      <td>10<\/td>\n",
       "    <\/tr>\n",
       "    <tr>\n",
       "      <th>OSTK<\/th>\n",
       "      <td>Overstock<\/td>\n",
       "      <td>Anna Erofeeva<\/td>\n",
       "      <td>27\/02\/2018<\/td>\n",
       "      <td>64.40<\/td>\n",
       "      <td>USD<\/td>\n",
       "      <td>7.57<\/td>\n",
       "      <td>-0.88<\/td>\n",
       "      <td>0.000<\/td>\n",
       "      <td>1.07<\/td>\n",
       "      <td>-0.94<\/td>\n",
       "      <td>13<\/td>\n",
       "    <\/tr>\n",
       "    <tr>\n",
       "      <th>RCL<\/th>\n",
       "      <td>Royal Carribean Cruises Ltd<\/td>\n",
       "      <td>Marcus McLaney<\/td>\n",
       "      <td>09\/01\/2018<\/td>\n",
       "      <td>123.18<\/td>\n",
       "      <td>USD<\/td>\n",
       "      <td>119.13<\/td>\n",
       "      <td>-0.03<\/td>\n",
       "      <td>4.780<\/td>\n",
       "      <td>1.05<\/td>\n",
       "      <td>0.01<\/td>\n",
       "      <td>14<\/td>\n",
       "    <\/tr>\n",
       "    <tr>\n",
       "      <th>RYA.L<\/th>\n",
       "      <td>Ryanair Holdings<\/td>\n",
       "      <td>Charlotte Pinder<\/td>\n",
       "      <td>16\/01\/2018<\/td>\n",
       "      <td>16.53<\/td>\n",
       "      <td>EUR<\/td>\n",
       "      <td>13.69<\/td>\n",
       "      <td>-0.17<\/td>\n",
       "      <td>0.000<\/td>\n",
       "      <td>0.97<\/td>\n",
       "      <td>-0.17<\/td>\n",
       "      <td>16<\/td>\n",
       "    <\/tr>\n",
       "    <tr>\n",
       "      <th>SIEGY<\/th>\n",
       "      <td>Siemens AG<\/td>\n",
       "      <td>Amos Jaupi<\/td>\n",
       "      <td>12\/12\/2017<\/td>\n",
       "      <td>116.42<\/td>\n",
       "      <td>EUR<\/td>\n",
       "      <td>63.24<\/td>\n",
       "      <td>-0.46<\/td>\n",
       "      <td>4.329<\/td>\n",
       "      <td>0.97<\/td>\n",
       "      <td>-0.41<\/td>\n",
       "      <td>10<\/td>\n",
       "    <\/tr>\n",
       "    <tr>\n",
       "      <th>STM<\/th>\n",
       "      <td>St Microelectronics<\/td>\n",
       "      <td>Adam Barbarowicz<\/td>\n",
       "      <td>06\/02\/2018<\/td>\n",
       "      <td>18.34<\/td>\n",
       "      <td>EUR<\/td>\n",
       "      <td>23.87<\/td>\n",
       "      <td>0.30<\/td>\n",
       "      <td>0.420<\/td>\n",
       "      <td>0.97<\/td>\n",
       "      <td>0.31<\/td>\n",
       "      <td>16<\/td>\n",
       "    <\/tr>\n",
       "    <tr>\n",
       "      <th>SBUX<\/th>\n",
       "      <td>Starbucks Corp<\/td>\n",
       "      <td>Dev Singh<\/td>\n",
       "      <td>28\/11\/2017<\/td>\n",
       "      <td>55.91<\/td>\n",
       "      <td>USD<\/td>\n",
       "      <td>83.02<\/td>\n",
       "      <td>0.48<\/td>\n",
       "      <td>2.810<\/td>\n",
       "      <td>1.03<\/td>\n",
       "      <td>0.55<\/td>\n",
       "      <td>9<\/td>\n",
       "    <\/tr>\n",
       "    <tr>\n",
       "      <th>SUPN<\/th>\n",
       "      <td>Supernus Pharmaceuticals Inc<\/td>\n",
       "      <td>Arjun Kandola<\/td>\n",
       "      <td>23\/01\/2018<\/td>\n",
       "      <td>44.25<\/td>\n",
       "      <td>USD<\/td>\n",
       "      <td>21.76<\/td>\n",
       "      <td>-0.51<\/td>\n",
       "      <td>0.000<\/td>\n",
       "      <td>1.08<\/td>\n",
       "      <td>-0.55<\/td>\n",
       "      <td>13<\/td>\n",
       "    <\/tr>\n",
       "    <tr>\n",
       "      <th>USCR<\/th>\n",
       "      <td>US Concrete Inc<\/td>\n",
       "      <td>Charlotte Pinder<\/td>\n",
       "      <td>13\/03\/2018<\/td>\n",
       "      <td>65.20<\/td>\n",
       "      <td>USD<\/td>\n",
       "      <td>39.96<\/td>\n",
       "      <td>-0.39<\/td>\n",
       "      <td>0.000<\/td>\n",
       "      <td>1.07<\/td>\n",
       "      <td>-0.41<\/td>\n",
       "      <td>16<\/td>\n",
       "    <\/tr>\n",
       "    <tr>\n",
       "      <th>SLCA<\/th>\n",
       "      <td>US Silica Holdings Inc<\/td>\n",
       "      <td>Dev Singh<\/td>\n",
       "      <td>19\/03\/2018<\/td>\n",
       "      <td>25.83<\/td>\n",
       "      <td>USD<\/td>\n",
       "      <td>4.55<\/td>\n",
       "      <td>-0.82<\/td>\n",
       "      <td>0.375<\/td>\n",
       "      <td>1.07<\/td>\n",
       "      <td>-0.87<\/td>\n",
       "      <td>9<\/td>\n",
       "    <\/tr>\n",
       "  <\/tbody>\n",
       "<\/table>\n",
       "<\/div>"
      ]
     },
     "metadata":{
      
     },
     "output_type":"display_data"
    }
   ],
   "metadata":{
    "datalore":{
     "type":"CODE",
     "hide_input_from_viewers":false,
     "hide_output_from_viewers":false
    }
   }
  },
  {
   "cell_type":"code",
   "source":[
    
   ],
   "execution_count":null,
   "outputs":[
    
   ],
   "metadata":{
    "datalore":{
     "type":"CODE",
     "hide_input_from_viewers":false,
     "hide_output_from_viewers":false
    }
   }
  }
 ],
 "metadata":{
  "datalore":{
   "version":1,
   "computation_mode":"JUPYTER",
   "package_manager":"pip",
   "base_environment":"default",
   "packages":[
    
   ]
  }
 },
 "nbformat":4,
 "nbformat_minor":4
}